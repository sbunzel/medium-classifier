{
 "cells": [
  {
   "cell_type": "markdown",
   "metadata": {},
   "source": [
    "### Set up"
   ]
  },
  {
   "cell_type": "code",
   "execution_count": null,
   "metadata": {
    "ExecuteTime": {
     "end_time": "2018-10-24T16:53:16.293656Z",
     "start_time": "2018-10-24T16:53:14.237387Z"
    }
   },
   "outputs": [],
   "source": [
    "# file system navigation\n",
    "from pathlib import Path\n",
    "\n",
    "# data transformation\n",
    "import pandas as pd\n",
    "\n",
    "# nlp\n",
    "import spacy\n",
    "from spacy_cld import LanguageDetector"
   ]
  },
  {
   "cell_type": "markdown",
   "metadata": {},
   "source": [
    "### Data preparation"
   ]
  },
  {
   "cell_type": "code",
   "execution_count": null,
   "metadata": {
    "ExecuteTime": {
     "end_time": "2018-10-24T16:53:16.493040Z",
     "start_time": "2018-10-24T16:53:16.299822Z"
    }
   },
   "outputs": [],
   "source": [
    "articles = pd.read_csv(Path.cwd() / \"data\" / \"articles.csv\")"
   ]
  },
  {
   "cell_type": "code",
   "execution_count": null,
   "metadata": {
    "ExecuteTime": {
     "end_time": "2018-10-24T16:53:16.542513Z",
     "start_time": "2018-10-24T16:53:16.497979Z"
    }
   },
   "outputs": [],
   "source": [
    "articles.shape"
   ]
  },
  {
   "cell_type": "markdown",
   "metadata": {},
   "source": [
    "#### Find and remove duplicates based on author and title"
   ]
  },
  {
   "cell_type": "code",
   "execution_count": null,
   "metadata": {
    "ExecuteTime": {
     "end_time": "2018-10-24T16:53:17.084525Z",
     "start_time": "2018-10-24T16:53:17.070316Z"
    }
   },
   "outputs": [],
   "source": [
    "articles = articles\\\n",
    "    .drop_duplicates(subset=[\"author\", \"title\"], keep=\"first\")"
   ]
  },
  {
   "cell_type": "code",
   "execution_count": null,
   "metadata": {
    "ExecuteTime": {
     "end_time": "2018-10-24T16:53:17.494185Z",
     "start_time": "2018-10-24T16:53:17.481166Z"
    }
   },
   "outputs": [],
   "source": [
    "articles.shape"
   ]
  },
  {
   "cell_type": "markdown",
   "metadata": {},
   "source": [
    "#### Convert claps to integer"
   ]
  },
  {
   "cell_type": "code",
   "execution_count": null,
   "metadata": {
    "ExecuteTime": {
     "end_time": "2018-10-24T16:53:18.410231Z",
     "start_time": "2018-10-24T16:53:18.346886Z"
    }
   },
   "outputs": [],
   "source": [
    "articles[\"claps\"] = articles[\"claps\"].apply(lambda s: int(float(s[:-1]) * 1000) if s[-1] == \"K\" else int(s))"
   ]
  },
  {
   "cell_type": "code",
   "execution_count": null,
   "metadata": {
    "ExecuteTime": {
     "end_time": "2018-10-24T16:53:18.863485Z",
     "start_time": "2018-10-24T16:53:18.839801Z"
    }
   },
   "outputs": [],
   "source": [
    "articles.head()"
   ]
  },
  {
   "cell_type": "markdown",
   "metadata": {
    "collapsed": true
   },
   "source": [
    "#### Remove articles, which are not written in english"
   ]
  },
  {
   "cell_type": "code",
   "execution_count": null,
   "metadata": {
    "ExecuteTime": {
     "end_time": "2018-10-24T16:53:22.356536Z",
     "start_time": "2018-10-24T16:53:20.759864Z"
    }
   },
   "outputs": [],
   "source": [
    "nlp = spacy.load(\"en\")\n",
    "language_detector = LanguageDetector()\n",
    "nlp.add_pipe(language_detector)"
   ]
  },
  {
   "cell_type": "code",
   "execution_count": null,
   "metadata": {
    "ExecuteTime": {
     "end_time": "2018-10-24T16:53:22.409292Z",
     "start_time": "2018-10-24T16:53:22.373132Z"
    }
   },
   "outputs": [],
   "source": [
    "def get_en_score(df, col_name):\n",
    "    \n",
    "    data = df.copy()\n",
    "    data[\"en_score\"] = data[col_name].apply(lambda x: nlp(x)._.language_scores.get(\"en\", 0.0))\n",
    "    \n",
    "    return data"
   ]
  },
  {
   "cell_type": "code",
   "execution_count": null,
   "metadata": {
    "ExecuteTime": {
     "end_time": "2018-10-24T16:56:08.707003Z",
     "start_time": "2018-10-24T16:53:22.412380Z"
    }
   },
   "outputs": [],
   "source": [
    "unique_articles_en = articles \\\n",
    "        .pipe(get_en_score, \"text\") \\\n",
    "        .query(\"en_score > 0.9\") \\\n",
    "        .drop(\"en_score\", axis=1)"
   ]
  },
  {
   "cell_type": "code",
   "execution_count": null,
   "metadata": {
    "ExecuteTime": {
     "end_time": "2018-10-24T16:56:08.725868Z",
     "start_time": "2018-10-24T16:56:08.713038Z"
    }
   },
   "outputs": [],
   "source": [
    "unique_articles_en.shape"
   ]
  },
  {
   "cell_type": "code",
   "execution_count": null,
   "metadata": {
    "ExecuteTime": {
     "end_time": "2018-10-24T16:56:08.889485Z",
     "start_time": "2018-10-24T16:56:08.733805Z"
    }
   },
   "outputs": [],
   "source": [
    "unique_articles_en.sort_values(\"claps\", ascending=False).head(100)"
   ]
  },
  {
   "cell_type": "markdown",
   "metadata": {},
   "source": [
    "#### Prepare and save data for labeling (author, claps and link only) as csv and for further processing as parquet"
   ]
  },
  {
   "cell_type": "code",
   "execution_count": null,
   "metadata": {
    "ExecuteTime": {
     "end_time": "2018-10-24T16:56:08.976940Z",
     "start_time": "2018-10-24T16:56:08.897423Z"
    }
   },
   "outputs": [],
   "source": [
    "unique_articles_en\\\n",
    "    .sort_values(by=\"claps\", ascending=False)\\\n",
    "    .loc[:, [\"author\", \"claps\", \"link\"]]\\\n",
    "    .to_csv(Path.cwd() / \"data\" / \"processed\" / \"articles_link_only.csv\", sep=\";\")"
   ]
  },
  {
   "cell_type": "code",
   "execution_count": null,
   "metadata": {},
   "outputs": [],
   "source": [
    "unique_articles_en \\\n",
    "    .to_parquet(Path.cwd() / \"data\" / \"processed\" / \"unique_articles.parquet\", engine=\"pyarrow\")"
   ]
  },
  {
   "cell_type": "markdown",
   "metadata": {},
   "source": [
    "#### Add labels"
   ]
  },
  {
   "cell_type": "code",
   "execution_count": null,
   "metadata": {
    "ExecuteTime": {
     "end_time": "2018-10-24T16:56:09.039267Z",
     "start_time": "2018-10-24T16:56:08.985149Z"
    }
   },
   "outputs": [],
   "source": [
    "labels = pd.read_csv(Path.cwd() / \"data\" / \"labels.csv\", sep=\";\")"
   ]
  },
  {
   "cell_type": "code",
   "execution_count": null,
   "metadata": {
    "ExecuteTime": {
     "end_time": "2018-10-24T16:56:09.196898Z",
     "start_time": "2018-10-24T16:56:09.045477Z"
    }
   },
   "outputs": [],
   "source": [
    "labeled_data = pd.merge(unique_articles_en, labels, how=\"inner\", left_index=True, right_on=\"id\").drop(\"id\", axis=1)"
   ]
  },
  {
   "cell_type": "code",
   "execution_count": null,
   "metadata": {},
   "outputs": [],
   "source": [
    "labeled_data.sort_values(\"claps\", ascending=False)[[\"author\", \"claps\", \"interesting\"]].head()"
   ]
  },
  {
   "cell_type": "code",
   "execution_count": null,
   "metadata": {},
   "outputs": [],
   "source": [
    "labeled_data \\\n",
    "    .to_parquet(Path.cwd() / \"data\" / \"processed\" / \"train_data.parquet\", engine=\"pyarrow\")"
   ]
  },
  {
   "cell_type": "code",
   "execution_count": null,
   "metadata": {
    "ExecuteTime": {
     "end_time": "2018-10-24T16:56:09.388190Z",
     "start_time": "2018-10-24T16:56:09.237352Z"
    }
   },
   "outputs": [],
   "source": [
    "labeled_data_text_only = labeled_data[[\"text\", \"interesting\"]]\n",
    "\n",
    "labeled_data_text_only.to_csv(Path.cwd() / \"data\" / \"processed\" / \"train_data_text_only.csv\", index=False)"
   ]
  },
  {
   "cell_type": "markdown",
   "metadata": {
    "heading_collapsed": true
   },
   "source": [
    "### Experimentation"
   ]
  },
  {
   "cell_type": "markdown",
   "metadata": {
    "hidden": true
   },
   "source": [
    "#### Remove special characters"
   ]
  },
  {
   "cell_type": "code",
   "execution_count": null,
   "metadata": {
    "hidden": true
   },
   "outputs": [],
   "source": [
    "unique_articles_en = pd.read_csv(os.path.join(wd, \"data\", \"processed\", \"unique_articles.csv\"))"
   ]
  },
  {
   "cell_type": "code",
   "execution_count": null,
   "metadata": {
    "hidden": true
   },
   "outputs": [],
   "source": [
    "def get_raw_text(df, col_name):\n",
    "    \n",
    "    return df\\\n",
    "            .loc[:, col_name]\\\n",
    "            .str\\\n",
    "            .cat(sep = \"|\")\\\n",
    "            .lower()"
   ]
  },
  {
   "cell_type": "code",
   "execution_count": null,
   "metadata": {
    "hidden": true
   },
   "outputs": [],
   "source": [
    "unique_chars_title = set(get_raw_text(unique_articles_en, \"title\"))\n",
    "print(f\"There are a total of {len(unique_chars_title)} unique characters in column title:\")\n",
    "print(unique_chars_title)"
   ]
  },
  {
   "cell_type": "code",
   "execution_count": null,
   "metadata": {
    "hidden": true
   },
   "outputs": [],
   "source": [
    "unique_chars_text = set(get_raw_text(unique_articles_en, \"text\"))\n",
    "print(f\"There are a total of {len(unique_chars_text)} unique characters in column text:\")\n",
    "print(unique_chars_text)"
   ]
  },
  {
   "cell_type": "code",
   "execution_count": null,
   "metadata": {
    "hidden": true
   },
   "outputs": [],
   "source": [
    "text = unique_articles_en.iloc[0, 4]"
   ]
  },
  {
   "cell_type": "code",
   "execution_count": null,
   "metadata": {
    "hidden": true
   },
   "outputs": [],
   "source": [
    "doc = nlp(text)"
   ]
  },
  {
   "cell_type": "code",
   "execution_count": null,
   "metadata": {
    "hidden": true
   },
   "outputs": [],
   "source": [
    "doc"
   ]
  },
  {
   "cell_type": "code",
   "execution_count": null,
   "metadata": {
    "hidden": true
   },
   "outputs": [],
   "source": [
    "for token in doc:\n",
    "    print(token.text, token.pos_, token.dep_)"
   ]
  },
  {
   "cell_type": "code",
   "execution_count": null,
   "metadata": {
    "hidden": true
   },
   "outputs": [],
   "source": [
    "for token in doc:\n",
    "    print(token.text)"
   ]
  },
  {
   "cell_type": "code",
   "execution_count": null,
   "metadata": {
    "hidden": true
   },
   "outputs": [],
   "source": [
    "for ent in doc.ents:\n",
    "    print(ent.text, ent.start_char, ent.end_char, ent.label_)"
   ]
  }
 ],
 "metadata": {
  "kernelspec": {
   "display_name": "Python [conda env:medium-classifier]",
   "language": "python",
   "name": "conda-env-medium-classifier-py"
  },
  "language_info": {
   "codemirror_mode": {
    "name": "ipython",
    "version": 3
   },
   "file_extension": ".py",
   "mimetype": "text/x-python",
   "name": "python",
   "nbconvert_exporter": "python",
   "pygments_lexer": "ipython3",
   "version": "3.6.6"
  },
  "toc": {
   "base_numbering": 1,
   "nav_menu": {},
   "number_sections": true,
   "sideBar": true,
   "skip_h1_title": false,
   "title_cell": "Table of Contents",
   "title_sidebar": "Contents",
   "toc_cell": false,
   "toc_position": {},
   "toc_section_display": true,
   "toc_window_display": false
  }
 },
 "nbformat": 4,
 "nbformat_minor": 2
}
