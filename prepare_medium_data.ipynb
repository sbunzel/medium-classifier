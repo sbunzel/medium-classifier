{
 "cells": [
  {
   "cell_type": "markdown",
   "metadata": {},
   "source": [
    "### Set up"
   ]
  },
  {
   "cell_type": "code",
   "execution_count": null,
   "metadata": {
    "ExecuteTime": {
     "end_time": "2018-11-01T17:18:55.692543Z",
     "start_time": "2018-11-01T17:18:52.525203Z"
    }
   },
   "outputs": [],
   "source": [
    "# file system navigation\n",
    "from pathlib import Path\n",
    "\n",
    "# data transformation\n",
    "import pandas as pd\n",
    "\n",
    "# nlp\n",
    "import spacy\n",
    "from spacy_cld import LanguageDetector"
   ]
  },
  {
   "cell_type": "markdown",
   "metadata": {},
   "source": [
    "### Data preparation"
   ]
  },
  {
   "cell_type": "code",
   "execution_count": null,
   "metadata": {
    "ExecuteTime": {
     "end_time": "2018-10-26T18:36:24.713454Z",
     "start_time": "2018-10-26T18:36:24.565640Z"
    }
   },
   "outputs": [],
   "source": [
    "articles = pd.read_csv(Path.cwd() / \"data\" / \"articles.csv\")"
   ]
  },
  {
   "cell_type": "code",
   "execution_count": null,
   "metadata": {
    "ExecuteTime": {
     "end_time": "2018-10-26T18:36:24.775900Z",
     "start_time": "2018-10-26T18:36:24.719169Z"
    }
   },
   "outputs": [],
   "source": [
    "articles.shape"
   ]
  },
  {
   "cell_type": "markdown",
   "metadata": {},
   "source": [
    "#### Find and remove duplicates based on author and title"
   ]
  },
  {
   "cell_type": "code",
   "execution_count": null,
   "metadata": {
    "ExecuteTime": {
     "end_time": "2018-10-26T18:36:24.809221Z",
     "start_time": "2018-10-26T18:36:24.783106Z"
    }
   },
   "outputs": [],
   "source": [
    "articles = articles\\\n",
    "    .drop_duplicates(subset=[\"author\", \"title\"], keep=\"first\")"
   ]
  },
  {
   "cell_type": "code",
   "execution_count": null,
   "metadata": {
    "ExecuteTime": {
     "end_time": "2018-10-26T18:36:24.825229Z",
     "start_time": "2018-10-26T18:36:24.814354Z"
    }
   },
   "outputs": [],
   "source": [
    "articles.shape"
   ]
  },
  {
   "cell_type": "markdown",
   "metadata": {},
   "source": [
    "#### Convert claps to integer"
   ]
  },
  {
   "cell_type": "code",
   "execution_count": null,
   "metadata": {
    "ExecuteTime": {
     "end_time": "2018-10-26T18:36:24.898993Z",
     "start_time": "2018-10-26T18:36:24.829072Z"
    }
   },
   "outputs": [],
   "source": [
    "articles[\"claps\"] = articles[\"claps\"].apply(lambda s: int(float(s[:-1]) * 1000) if s[-1] == \"K\" else int(s))"
   ]
  },
  {
   "cell_type": "code",
   "execution_count": null,
   "metadata": {
    "ExecuteTime": {
     "end_time": "2018-10-26T18:36:25.144285Z",
     "start_time": "2018-10-26T18:36:25.060275Z"
    }
   },
   "outputs": [],
   "source": [
    "articles.head()"
   ]
  },
  {
   "cell_type": "markdown",
   "metadata": {
    "collapsed": true
   },
   "source": [
    "#### Remove articles, which are not written in english"
   ]
  },
  {
   "cell_type": "code",
   "execution_count": null,
   "metadata": {
    "ExecuteTime": {
     "end_time": "2018-10-26T18:36:28.124023Z",
     "start_time": "2018-10-26T18:36:26.301603Z"
    }
   },
   "outputs": [],
   "source": [
    "nlp = spacy.load(\"en\")\n",
    "language_detector = LanguageDetector()\n",
    "nlp.add_pipe(language_detector)"
   ]
  },
  {
   "cell_type": "code",
   "execution_count": null,
   "metadata": {
    "ExecuteTime": {
     "end_time": "2018-10-26T18:36:28.157065Z",
     "start_time": "2018-10-26T18:36:28.128995Z"
    }
   },
   "outputs": [],
   "source": [
    "def get_en_score(df, col_name):\n",
    "    \n",
    "    data = df.copy()\n",
    "    data[\"en_score\"] = data[col_name].apply(lambda x: nlp(x)._.language_scores.get(\"en\", 0.0))\n",
    "    \n",
    "    return data"
   ]
  },
  {
   "cell_type": "code",
   "execution_count": null,
   "metadata": {
    "ExecuteTime": {
     "end_time": "2018-10-26T18:39:15.396467Z",
     "start_time": "2018-10-26T18:36:28.164392Z"
    }
   },
   "outputs": [],
   "source": [
    "unique_articles_en = articles \\\n",
    "        .pipe(get_en_score, \"text\") \\\n",
    "        .query(\"en_score > 0.9\") \\\n",
    "        .drop(\"en_score\", axis=1)"
   ]
  },
  {
   "cell_type": "code",
   "execution_count": null,
   "metadata": {
    "ExecuteTime": {
     "end_time": "2018-10-26T18:39:15.414699Z",
     "start_time": "2018-10-26T18:39:15.401520Z"
    }
   },
   "outputs": [],
   "source": [
    "unique_articles_en.shape"
   ]
  },
  {
   "cell_type": "markdown",
   "metadata": {},
   "source": [
    "#### Prepare and save data for labeling (author, claps and link only) as csv and for further processing as parquet"
   ]
  },
  {
   "cell_type": "code",
   "execution_count": null,
   "metadata": {
    "ExecuteTime": {
     "end_time": "2018-10-26T17:37:36.177958Z",
     "start_time": "2018-10-26T17:37:36.104676Z"
    }
   },
   "outputs": [],
   "source": [
    "unique_articles_en\\\n",
    "    .sort_values(by=\"claps\", ascending=False)\\\n",
    "    .loc[:, [\"author\", \"claps\", \"link\"]]\\\n",
    "    .to_csv(Path.cwd() / \"data\" / \"processed\" / \"articles_link_only.csv\", sep=\";\")"
   ]
  },
  {
   "cell_type": "code",
   "execution_count": null,
   "metadata": {},
   "outputs": [],
   "source": [
    "unique_articles_en\\\n",
    "    .to_parquet(Path.cwd() / \"data\" / \"processed\" / \"unique_articles.parquet\", engine=\"pyarrow\")"
   ]
  },
  {
   "cell_type": "markdown",
   "metadata": {},
   "source": [
    "#### Add labels"
   ]
  },
  {
   "cell_type": "code",
   "execution_count": null,
   "metadata": {
    "ExecuteTime": {
     "end_time": "2018-10-26T18:40:49.276883Z",
     "start_time": "2018-10-26T18:40:49.256504Z"
    }
   },
   "outputs": [],
   "source": [
    "Path.cwd() / \"data\""
   ]
  },
  {
   "cell_type": "code",
   "execution_count": null,
   "metadata": {
    "ExecuteTime": {
     "end_time": "2018-10-26T18:47:52.199007Z",
     "start_time": "2018-10-26T18:47:52.165085Z"
    },
    "scrolled": true
   },
   "outputs": [],
   "source": [
    "labels = pd.read_csv(Path.cwd() / \"data\" / \"labels.csv\", sep=\";\")"
   ]
  },
  {
   "cell_type": "code",
   "execution_count": null,
   "metadata": {
    "ExecuteTime": {
     "end_time": "2018-10-26T18:47:53.438804Z",
     "start_time": "2018-10-26T18:47:53.416252Z"
    }
   },
   "outputs": [],
   "source": [
    "labeled_data = pd.merge(unique_articles_en, labels, how=\"inner\", left_index=True, right_on=\"id\").drop(\"id\", axis=1)"
   ]
  },
  {
   "cell_type": "code",
   "execution_count": null,
   "metadata": {
    "ExecuteTime": {
     "end_time": "2018-10-26T18:48:01.744015Z",
     "start_time": "2018-10-26T18:48:01.396275Z"
    }
   },
   "outputs": [],
   "source": [
    "labeled_data\\\n",
    "    .to_parquet(Path.cwd() / \"data\" / \"processed\" / \"train_data.parquet\", engine=\"pyarrow\")"
   ]
  },
  {
   "cell_type": "code",
   "execution_count": null,
   "metadata": {
    "ExecuteTime": {
     "end_time": "2018-11-01T17:22:44.610756Z",
     "start_time": "2018-11-01T17:22:44.409043Z"
    }
   },
   "outputs": [],
   "source": [
    "labeled_data[[\"interesting\", \"text\"]]\\\n",
    "    .to_csv(Path.cwd() / \"data\" / \"shared\" / \"train_data_fastai.csv\",\n",
    "            index=False,\n",
    "            header=False)"
   ]
  },
  {
   "cell_type": "markdown",
   "metadata": {
    "heading_collapsed": true
   },
   "source": [
    "### Experimentation"
   ]
  },
  {
   "cell_type": "markdown",
   "metadata": {
    "hidden": true
   },
   "source": [
    "#### Remove special characters"
   ]
  },
  {
   "cell_type": "code",
   "execution_count": null,
   "metadata": {
    "hidden": true
   },
   "outputs": [],
   "source": [
    "unique_articles_en = pd.read_csv(os.path.join(wd, \"data\", \"processed\", \"unique_articles.csv\"))"
   ]
  },
  {
   "cell_type": "code",
   "execution_count": null,
   "metadata": {
    "hidden": true
   },
   "outputs": [],
   "source": [
    "def get_raw_text(df, col_name):\n",
    "    \n",
    "    return df\\\n",
    "            .loc[:, col_name]\\\n",
    "            .str\\\n",
    "            .cat(sep = \"|\")\\\n",
    "            .lower()"
   ]
  },
  {
   "cell_type": "code",
   "execution_count": null,
   "metadata": {
    "hidden": true
   },
   "outputs": [],
   "source": [
    "unique_chars_title = set(get_raw_text(unique_articles_en, \"title\"))\n",
    "print(f\"There are a total of {len(unique_chars_title)} unique characters in column title:\")\n",
    "print(unique_chars_title)"
   ]
  },
  {
   "cell_type": "code",
   "execution_count": null,
   "metadata": {
    "hidden": true
   },
   "outputs": [],
   "source": [
    "unique_chars_text = set(get_raw_text(unique_articles_en, \"text\"))\n",
    "print(f\"There are a total of {len(unique_chars_text)} unique characters in column text:\")\n",
    "print(unique_chars_text)"
   ]
  },
  {
   "cell_type": "code",
   "execution_count": null,
   "metadata": {
    "hidden": true
   },
   "outputs": [],
   "source": [
    "text = unique_articles_en.iloc[0, 4]"
   ]
  },
  {
   "cell_type": "code",
   "execution_count": null,
   "metadata": {
    "hidden": true
   },
   "outputs": [],
   "source": [
    "doc = nlp(text)"
   ]
  },
  {
   "cell_type": "code",
   "execution_count": null,
   "metadata": {
    "hidden": true
   },
   "outputs": [],
   "source": [
    "doc"
   ]
  },
  {
   "cell_type": "code",
   "execution_count": null,
   "metadata": {
    "hidden": true
   },
   "outputs": [],
   "source": [
    "for token in doc:\n",
    "    print(token.text, token.pos_, token.dep_)"
   ]
  },
  {
   "cell_type": "code",
   "execution_count": null,
   "metadata": {
    "hidden": true
   },
   "outputs": [],
   "source": [
    "for token in doc:\n",
    "    print(token.text)"
   ]
  },
  {
   "cell_type": "code",
   "execution_count": null,
   "metadata": {
    "hidden": true
   },
   "outputs": [],
   "source": [
    "for ent in doc.ents:\n",
    "    print(ent.text, ent.start_char, ent.end_char, ent.label_)"
   ]
  }
 ],
 "metadata": {
  "kernelspec": {
   "display_name": "Python [conda env:medium-classifier]",
   "language": "python",
   "name": "conda-env-medium-classifier-py"
  },
  "language_info": {
   "codemirror_mode": {
    "name": "ipython",
    "version": 3
   },
   "file_extension": ".py",
   "mimetype": "text/x-python",
   "name": "python",
   "nbconvert_exporter": "python",
   "pygments_lexer": "ipython3",
   "version": "3.6.6"
  },
  "toc": {
   "base_numbering": 1,
   "nav_menu": {},
   "number_sections": true,
   "sideBar": true,
   "skip_h1_title": false,
   "title_cell": "Table of Contents",
   "title_sidebar": "Contents",
   "toc_cell": false,
   "toc_position": {},
   "toc_section_display": true,
   "toc_window_display": false
  }
 },
 "nbformat": 4,
 "nbformat_minor": 2
}
