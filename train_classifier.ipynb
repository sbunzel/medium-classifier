{
 "cells": [
  {
   "cell_type": "markdown",
   "metadata": {},
   "source": [
    "### Imports and settings"
   ]
  },
  {
   "cell_type": "code",
   "execution_count": 1,
   "metadata": {
    "ExecuteTime": {
     "end_time": "2019-01-12T10:49:32.540516Z",
     "start_time": "2019-01-12T10:49:10.894977Z"
    }
   },
   "outputs": [
    {
     "name": "stderr",
     "output_type": "stream",
     "text": [
      "Using TensorFlow backend.\n"
     ]
    }
   ],
   "source": [
    "# file system navigation\n",
    "from pathlib import Path\n",
    "\n",
    "# data transformation\n",
    "import pandas as pd\n",
    "import numpy as np\n",
    "\n",
    "# plotting\n",
    "import matplotlib.pyplot as plt\n",
    "%matplotlib inline\n",
    "\n",
    "# ml algorithms and evaluation metrics\n",
    "from sklearn.ensemble import RandomForestClassifier, GradientBoostingClassifier\n",
    "from sklearn.linear_model import LogisticRegression\n",
    "from sklearn.svm import SVC\n",
    "from sklearn import metrics\n",
    "from sklearn.model_selection import cross_val_score, cross_validate, GridSearchCV, RandomizedSearchCV\n",
    "from sklearn import model_selection\n",
    "from sklearn.model_selection import StratifiedShuffleSplit\n",
    "import scipy\n",
    "from scipy.stats.distributions import uniform, randint\n",
    "\n",
    "# sklearn specifics\n",
    "from sklearn.pipeline import make_pipeline, Pipeline\n",
    "from sklearn.pipeline import Pipeline\n",
    "from sklearn.preprocessing import StandardScaler\n",
    "from sklearn.model_selection import train_test_split\n",
    "from sklearn.externals import joblib\n",
    "from sklearn.exceptions import DataConversionWarning\n",
    "from sklearn import warnings\n",
    "warnings.filterwarnings(action='ignore', category=DataConversionWarning)\n",
    "\n",
    "# nlp\n",
    "from sklearn.feature_extraction.text import CountVectorizer, TfidfVectorizer\n",
    "import spacy\n",
    "from spacy.pipeline import TextCategorizer\n",
    "from spacy.util import minibatch, compounding\n",
    "from spacy.util import decaying\n",
    "\n",
    "# keras\n",
    "from keras import datasets\n",
    "from keras.preprocessing.text import Tokenizer\n",
    "from keras.preprocessing.sequence import pad_sequences\n",
    "from keras.preprocessing.text import text_to_word_sequence\n",
    "\n",
    "from keras.layers import Dense, Input, LSTM, Embedding, Dropout, Activation, GRU, Conv1D\n",
    "from keras.layers import Bidirectional, GlobalMaxPool1D\n",
    "from keras.models import Model\n",
    "from keras import initializers, regularizers, constraints, optimizers, layers\n",
    "\n",
    "# misc\n",
    "import random\n",
    "import copy\n",
    "import pickle\n",
    "import re\n",
    "from collections import namedtuple\n",
    "from typing import List"
   ]
  },
  {
   "cell_type": "code",
   "execution_count": 2,
   "metadata": {
    "ExecuteTime": {
     "end_time": "2019-01-12T10:49:32.561402Z",
     "start_time": "2019-01-12T10:49:32.545397Z"
    }
   },
   "outputs": [],
   "source": [
    "from helpers import *"
   ]
  },
  {
   "cell_type": "code",
   "execution_count": 3,
   "metadata": {
    "ExecuteTime": {
     "end_time": "2019-01-12T10:49:32.590288Z",
     "start_time": "2019-01-12T10:49:32.566820Z"
    }
   },
   "outputs": [],
   "source": [
    "import tf_helpers"
   ]
  },
  {
   "cell_type": "code",
   "execution_count": 4,
   "metadata": {
    "ExecuteTime": {
     "end_time": "2019-01-12T10:49:32.605043Z",
     "start_time": "2019-01-12T10:49:32.595899Z"
    }
   },
   "outputs": [],
   "source": [
    "DATA_PATH = Path.cwd() / \"data\" / \"shared\"\n",
    "OUTPUT_PATH = Path.cwd() / \"reports\" / \"images-and-tables\"\n",
    "MODEL_PATH = Path.cwd() / \"models\"\n",
    "SEED = 1"
   ]
  },
  {
   "cell_type": "code",
   "execution_count": 5,
   "metadata": {
    "ExecuteTime": {
     "end_time": "2019-01-12T10:49:32.625673Z",
     "start_time": "2019-01-12T10:49:32.614341Z"
    }
   },
   "outputs": [],
   "source": [
    "TEXT_COL = \"text\"\n",
    "NUM_COLS = [\"claps\", \"reading_time\"]"
   ]
  },
  {
   "cell_type": "code",
   "execution_count": 6,
   "metadata": {
    "ExecuteTime": {
     "end_time": "2019-01-12T10:49:32.643483Z",
     "start_time": "2019-01-12T10:49:32.632154Z"
    }
   },
   "outputs": [],
   "source": [
    "if not OUTPUT_PATH.is_dir():\n",
    "    OUTPUT_PATH.mkdir(parents=True)\n",
    "    \n",
    "if not MODEL_PATH.is_dir():\n",
    "    MODEL_PATH.mkdir(parents=True)"
   ]
  },
  {
   "cell_type": "markdown",
   "metadata": {},
   "source": [
    "### Helper visualizations"
   ]
  },
  {
   "cell_type": "markdown",
   "metadata": {
    "heading_collapsed": true
   },
   "source": [
    "#### Interest in ML"
   ]
  },
  {
   "cell_type": "markdown",
   "metadata": {
    "hidden": true
   },
   "source": [
    "Generate a plot of interest in Machine Learning over time based on Google trends data"
   ]
  },
  {
   "cell_type": "markdown",
   "metadata": {
    "hidden": true
   },
   "source": [
    "PLEASE DOWNLOAD YOUR TRENDS DATASET AS A CSV FROM [HERE](https://trends.google.com/trends/) BEFORE RUNNING THIS."
   ]
  },
  {
   "cell_type": "code",
   "execution_count": 7,
   "metadata": {
    "ExecuteTime": {
     "start_time": "2019-01-07T21:14:36.741Z"
    },
    "hidden": true
   },
   "outputs": [],
   "source": [
    "google_trends_ml = pd.read_csv(Path.cwd() / \"data\" / \"trends-ml.csv\",\n",
    "                               skiprows=3,\n",
    "                               header=None,\n",
    "                               names=[\"date\", \"interest\"],\n",
    "                               parse_dates=[\"date\"])"
   ]
  },
  {
   "cell_type": "code",
   "execution_count": 8,
   "metadata": {
    "ExecuteTime": {
     "start_time": "2019-01-07T21:14:36.749Z"
    },
    "hidden": true
   },
   "outputs": [
    {
     "data": {
      "text/html": [
       "<div>\n",
       "<style scoped>\n",
       "    .dataframe tbody tr th:only-of-type {\n",
       "        vertical-align: middle;\n",
       "    }\n",
       "\n",
       "    .dataframe tbody tr th {\n",
       "        vertical-align: top;\n",
       "    }\n",
       "\n",
       "    .dataframe thead th {\n",
       "        text-align: right;\n",
       "    }\n",
       "</style>\n",
       "<table border=\"1\" class=\"dataframe\">\n",
       "  <thead>\n",
       "    <tr style=\"text-align: right;\">\n",
       "      <th></th>\n",
       "      <th>date</th>\n",
       "      <th>interest</th>\n",
       "    </tr>\n",
       "  </thead>\n",
       "  <tbody>\n",
       "    <tr>\n",
       "      <th>0</th>\n",
       "      <td>2013-12-01</td>\n",
       "      <td>17</td>\n",
       "    </tr>\n",
       "    <tr>\n",
       "      <th>1</th>\n",
       "      <td>2013-12-08</td>\n",
       "      <td>17</td>\n",
       "    </tr>\n",
       "    <tr>\n",
       "      <th>2</th>\n",
       "      <td>2013-12-15</td>\n",
       "      <td>16</td>\n",
       "    </tr>\n",
       "    <tr>\n",
       "      <th>3</th>\n",
       "      <td>2013-12-22</td>\n",
       "      <td>13</td>\n",
       "    </tr>\n",
       "    <tr>\n",
       "      <th>4</th>\n",
       "      <td>2013-12-29</td>\n",
       "      <td>13</td>\n",
       "    </tr>\n",
       "  </tbody>\n",
       "</table>\n",
       "</div>"
      ],
      "text/plain": [
       "        date  interest\n",
       "0 2013-12-01        17\n",
       "1 2013-12-08        17\n",
       "2 2013-12-15        16\n",
       "3 2013-12-22        13\n",
       "4 2013-12-29        13"
      ]
     },
     "execution_count": 8,
     "metadata": {},
     "output_type": "execute_result"
    }
   ],
   "source": [
    "google_trends_ml.head()"
   ]
  },
  {
   "cell_type": "code",
   "execution_count": 9,
   "metadata": {
    "ExecuteTime": {
     "start_time": "2019-01-07T21:14:36.755Z"
    },
    "hidden": true
   },
   "outputs": [
    {
     "data": {
      "image/png": "[encoded data removed]",
      "text/plain": [
       "<Figure size 432x288 with 1 Axes>"
      ]
     },
     "metadata": {
      "needs_background": "light"
     },
     "output_type": "display_data"
    }
   ],
   "source": [
    "interest_plot = google_trends_ml.plot(x=\"date\",\n",
    "                      y=\"interest\",\n",
    "                      legend=False)\n",
    "interest_plot.set_xlabel(\"Date\")\n",
    "interest_plot.set_ylabel(\"Relative interest\")\n",
    "interest_plot;"
   ]
  },
  {
   "cell_type": "code",
   "execution_count": null,
   "metadata": {
    "ExecuteTime": {
     "start_time": "2019-01-07T21:14:36.761Z"
    },
    "hidden": true
   },
   "outputs": [],
   "source": [
    "fig = interest_plot.get_figure()\n",
    "fig.savefig(OUTPUT_PATH / \"interest-in-ml.png\")"
   ]
  },
  {
   "cell_type": "markdown",
   "metadata": {},
   "source": [
    "### Data preparation"
   ]
  },
  {
   "cell_type": "markdown",
   "metadata": {},
   "source": [
    "#### Load preprocessed data and split into train and test"
   ]
  },
  {
   "cell_type": "code",
   "execution_count": 10,
   "metadata": {
    "ExecuteTime": {
     "end_time": "2019-01-12T10:51:19.357970Z",
     "start_time": "2019-01-12T10:51:18.431016Z"
    }
   },
   "outputs": [],
   "source": [
    "data = pd.read_parquet(DATA_PATH / \"train_data.parquet\")"
   ]
  },
  {
   "cell_type": "code",
   "execution_count": 11,
   "metadata": {
    "ExecuteTime": {
     "start_time": "2019-01-07T21:14:36.776Z"
    }
   },
   "outputs": [],
   "source": [
    "X = data[[\"claps\", \"reading_time\", \"text\"]]\n",
    "y = np.array(data[\"interesting\"])\n",
    "\n",
    "X_train, X_test, y_train, y_test = train_test_split(X,\n",
    "                                                    y,\n",
    "                                                    test_size=0.3, random_state=SEED,\n",
    "                                                    stratify=y)"
   ]
  },
  {
   "cell_type": "markdown",
   "metadata": {},
   "source": [
    "Initialize custom evaluator and shuffle split generator to use across all modeling approaches below."
   ]
  },
  {
   "cell_type": "code",
   "execution_count": 12,
   "metadata": {
    "ExecuteTime": {
     "start_time": "2019-01-07T21:14:36.783Z"
    }
   },
   "outputs": [],
   "source": [
    "evaluator = CustomEvaluator(target_precision=0.8)\n",
    "sss = model_selection.StratifiedShuffleSplit(n_splits=6, test_size=0.2, random_state=SEED)"
   ]
  },
  {
   "cell_type": "markdown",
   "metadata": {
    "heading_collapsed": true
   },
   "source": [
    "#### Generate a vocabulary of words specific to the corpus"
   ]
  },
  {
   "cell_type": "markdown",
   "metadata": {
    "hidden": true
   },
   "source": [
    "We use a list of the top 10k most frequent words in the English language obtained from [this repository](https://github.com/first20hours/google-10000-english) to identify the words specific to the corpus of block posts."
   ]
  },
  {
   "cell_type": "markdown",
   "metadata": {},
   "source": [
    "PLEASE DOWNLOAD THE `google-10000-english.txt` FROM [HERE](https://github.com/first20hours/google-10000-english) BEFORE RUNNING THIS."
   ]
  },
  {
   "cell_type": "code",
   "execution_count": 13,
   "metadata": {
    "ExecuteTime": {
     "start_time": "2019-01-07T21:14:36.791Z"
    },
    "hidden": true
   },
   "outputs": [],
   "source": [
    "TOP_WORDS_PATH = Path.cwd() / \"resources\" / \"top_words\"\n",
    "top_10k = pd.read_table(TOP_WORDS_PATH / \"google-10000-english\" / \"google-10000-english.txt\", header=None)\n",
    "top_10k_dict = {str(word).lower() : rank + 1 for rank, word in top_10k.iloc[:, 0].items()}"
   ]
  },
  {
   "cell_type": "code",
   "execution_count": 14,
   "metadata": {
    "ExecuteTime": {
     "start_time": "2019-01-07T21:14:36.799Z"
    },
    "hidden": true
   },
   "outputs": [],
   "source": [
    "texts = data[\"text\"].copy()"
   ]
  },
  {
   "cell_type": "code",
   "execution_count": 15,
   "metadata": {
    "ExecuteTime": {
     "start_time": "2019-01-07T21:14:36.806Z"
    },
    "hidden": true
   },
   "outputs": [],
   "source": [
    "texts = texts.apply(lambda x: x.lower())\n",
    "texts = texts.apply(lambda x: clean_apostrophe(x))\n",
    "texts = texts.apply(lambda x: remove_punctuation(x))\n",
    "texts = texts.apply(lambda x: fix_specific(x))"
   ]
  },
  {
   "cell_type": "code",
   "execution_count": 16,
   "metadata": {
    "ExecuteTime": {
     "start_time": "2019-01-07T21:14:36.813Z"
    },
    "hidden": true
   },
   "outputs": [
    {
     "name": "stdout",
     "output_type": "stream",
     "text": [
      "Found matches for 39.10% of vocab\n",
      "Found matches for  89.70% of all text\n"
     ]
    }
   ],
   "source": [
    "sentences = texts.apply(lambda x: x.split()).values\n",
    "vocab = build_vocab(sentences)\n",
    "oov = check_coverage(vocab, top_10k_dict)"
   ]
  },
  {
   "cell_type": "code",
   "execution_count": 17,
   "metadata": {
    "ExecuteTime": {
     "start_time": "2019-01-07T21:14:36.818Z"
    },
    "hidden": true
   },
   "outputs": [],
   "source": [
    "specific_vocab = [w for w, _ in oov]"
   ]
  },
  {
   "cell_type": "code",
   "execution_count": 18,
   "metadata": {},
   "outputs": [
    {
     "data": {
      "text/plain": [
       "['neuralnetwork',\n",
       " 'rnn',\n",
       " 'neuron',\n",
       " '1',\n",
       " 'googles',\n",
       " '2',\n",
       " 'tensorflow',\n",
       " 'clap',\n",
       " 'dataset',\n",
       " 'ovation',\n",
       " 'cheer',\n",
       " '3',\n",
       " 'gpu',\n",
       " '0',\n",
       " 'github',\n",
       " 'cannot',\n",
       " 'mooc',\n",
       " 'facebook',\n",
       " '4',\n",
       " 'cnnal',\n",
       " '10',\n",
       " 'bot',\n",
       " '20',\n",
       " 'derivative',\n",
       " 'supervised',\n",
       " 'alphago',\n",
       " 'bots',\n",
       " 'reinforcement',\n",
       " '8',\n",
       " 'gradient',\n",
       " 'sigmoid',\n",
       " '5',\n",
       " 'cnns',\n",
       " 'youve',\n",
       " '2017',\n",
       " 'classifier',\n",
       " 'backpropagation',\n",
       " 'relu',\n",
       " 'netflix',\n",
       " 'gradientdescent',\n",
       " 'twitter',\n",
       " 'architectures',\n",
       " 'vectors',\n",
       " 'startups',\n",
       " 'blockchain',\n",
       " 'chatbots',\n",
       " 'personalization',\n",
       " 'gtx',\n",
       " 'linkedin',\n",
       " 'datasets']"
      ]
     },
     "execution_count": 18,
     "metadata": {},
     "output_type": "execute_result"
    }
   ],
   "source": [
    "specific_vocab[:50]"
   ]
  },
  {
   "cell_type": "markdown",
   "metadata": {},
   "source": [
    "### Data exploration"
   ]
  },
  {
   "cell_type": "markdown",
   "metadata": {
    "heading_collapsed": true
   },
   "source": [
    "#### Summary statistics"
   ]
  },
  {
   "cell_type": "markdown",
   "metadata": {
    "hidden": true
   },
   "source": [
    "Take a first look at the data and generate summary tables for the report"
   ]
  },
  {
   "cell_type": "code",
   "execution_count": 19,
   "metadata": {
    "ExecuteTime": {
     "start_time": "2019-01-07T21:14:36.826Z"
    },
    "hidden": true
   },
   "outputs": [
    {
     "data": {
      "text/html": [
       "<div>\n",
       "<style scoped>\n",
       "    .dataframe tbody tr th:only-of-type {\n",
       "        vertical-align: middle;\n",
       "    }\n",
       "\n",
       "    .dataframe tbody tr th {\n",
       "        vertical-align: top;\n",
       "    }\n",
       "\n",
       "    .dataframe thead th {\n",
       "        text-align: right;\n",
       "    }\n",
       "</style>\n",
       "<table border=\"1\" class=\"dataframe\">\n",
       "  <thead>\n",
       "    <tr style=\"text-align: right;\">\n",
       "      <th></th>\n",
       "      <th>author</th>\n",
       "      <th>claps</th>\n",
       "      <th>reading_time</th>\n",
       "      <th>link</th>\n",
       "      <th>title</th>\n",
       "      <th>text</th>\n",
       "      <th>interesting</th>\n",
       "    </tr>\n",
       "  </thead>\n",
       "  <tbody>\n",
       "    <tr>\n",
       "      <th>20</th>\n",
       "      <td>Justin Lee</td>\n",
       "      <td>8300</td>\n",
       "      <td>11</td>\n",
       "      <td>https://medium.com/swlh/chatbots-were-the-next...</td>\n",
       "      <td>Chatbots were the next big thing: what happene...</td>\n",
       "      <td>Oh, how the headlines blared:\\nChatbots were T...</td>\n",
       "      <td>0</td>\n",
       "    </tr>\n",
       "    <tr>\n",
       "      <th>65</th>\n",
       "      <td>Conor Dewey</td>\n",
       "      <td>1400</td>\n",
       "      <td>7</td>\n",
       "      <td>https://towardsdatascience.com/python-for-data...</td>\n",
       "      <td>Python for Data Science: 8 Concepts You May Ha...</td>\n",
       "      <td>If you’ve ever found yourself looking up the s...</td>\n",
       "      <td>0</td>\n",
       "    </tr>\n",
       "    <tr>\n",
       "      <th>109</th>\n",
       "      <td>William Koehrsen</td>\n",
       "      <td>2800</td>\n",
       "      <td>11</td>\n",
       "      <td>https://towardsdatascience.com/automated-featu...</td>\n",
       "      <td>Automated Feature Engineering in Python – Towa...</td>\n",
       "      <td>Machine learning is increasingly moving from h...</td>\n",
       "      <td>1</td>\n",
       "    </tr>\n",
       "    <tr>\n",
       "      <th>67</th>\n",
       "      <td>Gant Laborde</td>\n",
       "      <td>1300</td>\n",
       "      <td>7</td>\n",
       "      <td>https://medium.freecodecamp.org/machine-learni...</td>\n",
       "      <td>Machine Learning: how to go from Zero to Hero ...</td>\n",
       "      <td>If your understanding of A.I. and Machine Lear...</td>\n",
       "      <td>0</td>\n",
       "    </tr>\n",
       "    <tr>\n",
       "      <th>76</th>\n",
       "      <td>Emmanuel Ameisen</td>\n",
       "      <td>935</td>\n",
       "      <td>11</td>\n",
       "      <td>https://blog.insightdatascience.com/reinforcem...</td>\n",
       "      <td>Reinforcement Learning from scratch – Insight ...</td>\n",
       "      <td>Want to learn about applied Artificial Intelli...</td>\n",
       "      <td>0</td>\n",
       "    </tr>\n",
       "  </tbody>\n",
       "</table>\n",
       "</div>"
      ],
      "text/plain": [
       "               author  claps  reading_time  \\\n",
       "20         Justin Lee   8300            11   \n",
       "65        Conor Dewey   1400             7   \n",
       "109  William Koehrsen   2800            11   \n",
       "67       Gant Laborde   1300             7   \n",
       "76   Emmanuel Ameisen    935            11   \n",
       "\n",
       "                                                  link  \\\n",
       "20   https://medium.com/swlh/chatbots-were-the-next...   \n",
       "65   https://towardsdatascience.com/python-for-data...   \n",
       "109  https://towardsdatascience.com/automated-featu...   \n",
       "67   https://medium.freecodecamp.org/machine-learni...   \n",
       "76   https://blog.insightdatascience.com/reinforcem...   \n",
       "\n",
       "                                                 title  \\\n",
       "20   Chatbots were the next big thing: what happene...   \n",
       "65   Python for Data Science: 8 Concepts You May Ha...   \n",
       "109  Automated Feature Engineering in Python – Towa...   \n",
       "67   Machine Learning: how to go from Zero to Hero ...   \n",
       "76   Reinforcement Learning from scratch – Insight ...   \n",
       "\n",
       "                                                  text  interesting  \n",
       "20   Oh, how the headlines blared:\\nChatbots were T...            0  \n",
       "65   If you’ve ever found yourself looking up the s...            0  \n",
       "109  Machine learning is increasingly moving from h...            1  \n",
       "67   If your understanding of A.I. and Machine Lear...            0  \n",
       "76   Want to learn about applied Artificial Intelli...            0  "
      ]
     },
     "execution_count": 19,
     "metadata": {},
     "output_type": "execute_result"
    }
   ],
   "source": [
    "data.head()"
   ]
  },
  {
   "cell_type": "code",
   "execution_count": 20,
   "metadata": {
    "ExecuteTime": {
     "start_time": "2019-01-07T21:14:36.837Z"
    },
    "hidden": true
   },
   "outputs": [
    {
     "data": {
      "text/plain": [
       "(130, 7)"
      ]
     },
     "execution_count": 20,
     "metadata": {},
     "output_type": "execute_result"
    }
   ],
   "source": [
    "data.shape"
   ]
  },
  {
   "cell_type": "code",
   "execution_count": 21,
   "metadata": {
    "ExecuteTime": {
     "start_time": "2019-01-07T21:14:36.845Z"
    },
    "hidden": true
   },
   "outputs": [
    {
     "data": {
      "text/plain": [
       "0    0.646154\n",
       "1    0.353846\n",
       "Name: interesting, dtype: float64"
      ]
     },
     "execution_count": 21,
     "metadata": {},
     "output_type": "execute_result"
    }
   ],
   "source": [
    "data[\"interesting\"].value_counts() / data.shape[0]"
   ]
  },
  {
   "cell_type": "code",
   "execution_count": 22,
   "metadata": {
    "ExecuteTime": {
     "start_time": "2019-01-07T21:14:36.854Z"
    },
    "hidden": true
   },
   "outputs": [
    {
     "data": {
      "text/html": [
       "<div>\n",
       "<style scoped>\n",
       "    .dataframe tbody tr th:only-of-type {\n",
       "        vertical-align: middle;\n",
       "    }\n",
       "\n",
       "    .dataframe tbody tr th {\n",
       "        vertical-align: top;\n",
       "    }\n",
       "\n",
       "    .dataframe thead th {\n",
       "        text-align: right;\n",
       "    }\n",
       "</style>\n",
       "<table border=\"1\" class=\"dataframe\">\n",
       "  <thead>\n",
       "    <tr style=\"text-align: right;\">\n",
       "      <th></th>\n",
       "      <th>claps</th>\n",
       "      <th>reading_time</th>\n",
       "    </tr>\n",
       "  </thead>\n",
       "  <tbody>\n",
       "    <tr>\n",
       "      <th>count</th>\n",
       "      <td>130.00</td>\n",
       "      <td>130.00</td>\n",
       "    </tr>\n",
       "    <tr>\n",
       "      <th>mean</th>\n",
       "      <td>7064.05</td>\n",
       "      <td>10.67</td>\n",
       "    </tr>\n",
       "    <tr>\n",
       "      <th>std</th>\n",
       "      <td>9836.08</td>\n",
       "      <td>5.61</td>\n",
       "    </tr>\n",
       "    <tr>\n",
       "      <th>min</th>\n",
       "      <td>10.00</td>\n",
       "      <td>3.00</td>\n",
       "    </tr>\n",
       "    <tr>\n",
       "      <th>25%</th>\n",
       "      <td>1500.00</td>\n",
       "      <td>7.00</td>\n",
       "    </tr>\n",
       "    <tr>\n",
       "      <th>50%</th>\n",
       "      <td>3300.00</td>\n",
       "      <td>9.00</td>\n",
       "    </tr>\n",
       "    <tr>\n",
       "      <th>75%</th>\n",
       "      <td>8450.00</td>\n",
       "      <td>13.00</td>\n",
       "    </tr>\n",
       "    <tr>\n",
       "      <th>max</th>\n",
       "      <td>53000.00</td>\n",
       "      <td>31.00</td>\n",
       "    </tr>\n",
       "  </tbody>\n",
       "</table>\n",
       "</div>"
      ],
      "text/plain": [
       "          claps  reading_time\n",
       "count    130.00        130.00\n",
       "mean    7064.05         10.67\n",
       "std     9836.08          5.61\n",
       "min       10.00          3.00\n",
       "25%     1500.00          7.00\n",
       "50%     3300.00          9.00\n",
       "75%     8450.00         13.00\n",
       "max    53000.00         31.00"
      ]
     },
     "execution_count": 22,
     "metadata": {},
     "output_type": "execute_result"
    }
   ],
   "source": [
    "summary_numeric = (data[[\"claps\", \"reading_time\"]]\n",
    "                   .describe()\n",
    "                   .round(2))\n",
    "summary_numeric"
   ]
  },
  {
   "cell_type": "code",
   "execution_count": 23,
   "metadata": {
    "ExecuteTime": {
     "start_time": "2019-01-07T21:14:36.860Z"
    },
    "hidden": true
   },
   "outputs": [],
   "source": [
    "save_html(df=summary_numeric, name=\"summary_numeric\", out=OUTPUT_PATH)"
   ]
  },
  {
   "cell_type": "code",
   "execution_count": 24,
   "metadata": {
    "ExecuteTime": {
     "start_time": "2019-01-07T21:14:36.867Z"
    },
    "hidden": true,
    "scrolled": true
   },
   "outputs": [
    {
     "data": {
      "text/html": [
       "<div>\n",
       "<style scoped>\n",
       "    .dataframe tbody tr th:only-of-type {\n",
       "        vertical-align: middle;\n",
       "    }\n",
       "\n",
       "    .dataframe tbody tr th {\n",
       "        vertical-align: top;\n",
       "    }\n",
       "\n",
       "    .dataframe thead th {\n",
       "        text-align: right;\n",
       "    }\n",
       "</style>\n",
       "<table border=\"1\" class=\"dataframe\">\n",
       "  <thead>\n",
       "    <tr style=\"text-align: right;\">\n",
       "      <th></th>\n",
       "      <th>author</th>\n",
       "      <th>title</th>\n",
       "      <th>text</th>\n",
       "    </tr>\n",
       "  </thead>\n",
       "  <tbody>\n",
       "    <tr>\n",
       "      <th>count</th>\n",
       "      <td>130</td>\n",
       "      <td>130</td>\n",
       "      <td>130</td>\n",
       "    </tr>\n",
       "    <tr>\n",
       "      <th>unique</th>\n",
       "      <td>102</td>\n",
       "      <td>130</td>\n",
       "      <td>130</td>\n",
       "    </tr>\n",
       "    <tr>\n",
       "      <th>top</th>\n",
       "      <td>Adam Geitgey</td>\n",
       "      <td>Stochastic Weight Averaging — a New Way to Get...</td>\n",
       "      <td>What is Activation Function ?\\nWhy we use Acti...</td>\n",
       "    </tr>\n",
       "    <tr>\n",
       "      <th>freq</th>\n",
       "      <td>6</td>\n",
       "      <td>1</td>\n",
       "      <td>1</td>\n",
       "    </tr>\n",
       "  </tbody>\n",
       "</table>\n",
       "</div>"
      ],
      "text/plain": [
       "              author                                              title  \\\n",
       "count            130                                                130   \n",
       "unique           102                                                130   \n",
       "top     Adam Geitgey  Stochastic Weight Averaging — a New Way to Get...   \n",
       "freq               6                                                  1   \n",
       "\n",
       "                                                     text  \n",
       "count                                                 130  \n",
       "unique                                                130  \n",
       "top     What is Activation Function ?\\nWhy we use Acti...  \n",
       "freq                                                    1  "
      ]
     },
     "execution_count": 24,
     "metadata": {},
     "output_type": "execute_result"
    }
   ],
   "source": [
    "summary_object = data[[\"author\", \"title\", \"text\"]].describe()\n",
    "summary_object"
   ]
  },
  {
   "cell_type": "code",
   "execution_count": 25,
   "metadata": {
    "ExecuteTime": {
     "start_time": "2019-01-07T21:14:36.872Z"
    },
    "hidden": true
   },
   "outputs": [],
   "source": [
    "save_html(df=summary_object, name=\"summary_object\", out=OUTPUT_PATH)"
   ]
  },
  {
   "cell_type": "markdown",
   "metadata": {
    "heading_collapsed": true
   },
   "source": [
    "#### Distribution of target with respect to numerical features"
   ]
  },
  {
   "cell_type": "code",
   "execution_count": 26,
   "metadata": {
    "ExecuteTime": {
     "start_time": "2019-01-07T21:14:36.883Z"
    },
    "hidden": true
   },
   "outputs": [],
   "source": [
    "data_base = data[[\"claps\", \"reading_time\", \"interesting\"]]"
   ]
  },
  {
   "cell_type": "code",
   "execution_count": 27,
   "metadata": {
    "ExecuteTime": {
     "start_time": "2019-01-07T21:14:36.889Z"
    },
    "hidden": true
   },
   "outputs": [
    {
     "data": {
      "image/png": "[encoded data removed]",
      "text/plain": [
       "<Figure size 432x288 with 1 Axes>"
      ]
     },
     "metadata": {
      "needs_background": "light"
     },
     "output_type": "display_data"
    }
   ],
   "source": [
    "x_index = 0\n",
    "y_index = 1\n",
    "target_names = [\"not interesting\", \"interesting\"]\n",
    "\n",
    "colors = [\"red\", \"green\"]\n",
    "\n",
    "for label, color in zip(range(len(data_base[\"interesting\"])), colors):\n",
    "    plt.scatter(np.array(data_base[data_base[\"interesting\"]==label].iloc[:, x_index]), \n",
    "                np.array(data_base[data_base[\"interesting\"]==label].iloc[:, y_index]),\n",
    "                label=target_names[label],\n",
    "                c=color)\n",
    "\n",
    "plt.xlabel(data_base.columns[x_index])\n",
    "plt.ylabel(data_base.columns[y_index])\n",
    "plt.legend(loc=\"upper right\")\n",
    "\n",
    "plt.savefig(OUTPUT_PATH / \"base_classifier.png\")"
   ]
  },
  {
   "cell_type": "markdown",
   "metadata": {},
   "source": [
    "#### Distribution of blog post lengths"
   ]
  },
  {
   "cell_type": "code",
   "execution_count": 28,
   "metadata": {
    "ExecuteTime": {
     "end_time": "2019-01-12T10:51:25.623900Z",
     "start_time": "2019-01-12T10:51:24.924611Z"
    }
   },
   "outputs": [
    {
     "data": {
      "image/png": "[encoded data removed]",
      "text/plain": [
       "<Figure size 432x288 with 1 Axes>"
      ]
     },
     "metadata": {
      "needs_background": "light"
     },
     "output_type": "display_data"
    }
   ],
   "source": [
    "n_words = [len(post.split(\" \")) for post in data[\"text\"]]\n",
    "words_per_review = len(data) / np.median(n_words)\n",
    "plt.hist(n_words, 30)\n",
    "plt.xlabel(\"Number of words\")\n",
    "plt.ylabel(\"Number of blog posts\")\n",
    "plt.xlim(0, 8000)\n",
    "plt.title(f\"Blog post number of words distribution (ratio: {words_per_review:.2f})\")\n",
    "plt.savefig(OUTPUT_PATH / \"blog-post-length.png\")"
   ]
  },
  {
   "cell_type": "code",
   "execution_count": 29,
   "metadata": {
    "ExecuteTime": {
     "end_time": "2019-01-12T10:59:36.455136Z",
     "start_time": "2019-01-12T10:59:36.447889Z"
    }
   },
   "outputs": [
    {
     "name": "stdout",
     "output_type": "stream",
     "text": [
      "Summary statistics on the number of words:\n",
      "   Median: 1683.50\n",
      "   Mean: 1992.43\n",
      "   N samples blog: 130\n"
     ]
    }
   ],
   "source": [
    "print(\"Summary statistics on the number of words:\")\n",
    "print(f\"   Median: {np.median(n_words):.2f}\")\n",
    "print(f\"   Mean: {np.mean(n_words):.2f}\")\n",
    "print(f\"   N samples blog: {data.shape[0]}\")"
   ]
  },
  {
   "cell_type": "code",
   "execution_count": 30,
   "metadata": {
    "ExecuteTime": {
     "end_time": "2019-01-12T10:51:31.926036Z",
     "start_time": "2019-01-12T10:51:31.918417Z"
    }
   },
   "outputs": [
    {
     "name": "stdout",
     "output_type": "stream",
     "text": [
      "Number of samples / median number of words in each post: 0.08\n"
     ]
    }
   ],
   "source": [
    "print(f\"Number of samples / median number of words in each post: {words_per_review:.2f}\")"
   ]
  },
  {
   "cell_type": "markdown",
   "metadata": {},
   "source": [
    "#### For comparison: Distribution length for imdb data"
   ]
  },
  {
   "cell_type": "code",
   "execution_count": 31,
   "metadata": {
    "ExecuteTime": {
     "end_time": "2019-01-12T10:51:46.008682Z",
     "start_time": "2019-01-12T10:51:36.856993Z"
    }
   },
   "outputs": [],
   "source": [
    "imdb = datasets.imdb\n",
    "(train_imdb, _), (test_imdb, _) = imdb.load_data(Path.cwd() / \"data\" / \"imdb.npz\", num_words=None)"
   ]
  },
  {
   "cell_type": "code",
   "execution_count": 32,
   "metadata": {
    "ExecuteTime": {
     "end_time": "2019-01-12T10:51:48.033500Z",
     "start_time": "2019-01-12T10:51:48.028213Z"
    }
   },
   "outputs": [],
   "source": [
    "imdb_full = np.concatenate((train_imdb, test_imdb))"
   ]
  },
  {
   "cell_type": "code",
   "execution_count": 33,
   "metadata": {
    "ExecuteTime": {
     "end_time": "2019-01-12T10:52:38.247300Z",
     "start_time": "2019-01-12T10:52:37.620833Z"
    }
   },
   "outputs": [
    {
     "data": {
      "image/png": "[encoded data removed]",
      "text/plain": [
       "<Figure size 432x288 with 1 Axes>"
      ]
     },
     "metadata": {
      "needs_background": "light"
     },
     "output_type": "display_data"
    }
   ],
   "source": [
    "n_words_imdb = [len(review) for review in imdb_full]\n",
    "words_per_review_imdb = imdb_full.shape[0] / np.median(n_words_imdb)\n",
    "plt.hist(n_words_imdb, 50)\n",
    "plt.xlabel(\"Number of words\")\n",
    "plt.ylabel(\"Number of review\")\n",
    "plt.xlim(0, 8000)\n",
    "plt.title(f\"Imdb review number of words distribution (ratio: {words_per_review_imdb:.2f})\")\n",
    "plt.savefig(OUTPUT_PATH / \"imdb-review-length.png\")"
   ]
  },
  {
   "cell_type": "code",
   "execution_count": 34,
   "metadata": {
    "ExecuteTime": {
     "end_time": "2019-01-12T11:00:10.619581Z",
     "start_time": "2019-01-12T11:00:10.604038Z"
    }
   },
   "outputs": [
    {
     "name": "stdout",
     "output_type": "stream",
     "text": [
      "Summary statistics on the number of words for imdb:\n",
      "   Median: 176.00\n",
      "   Mean: 234.76\n",
      "   N samples imbd: 50000\n"
     ]
    }
   ],
   "source": [
    "print(\"Summary statistics on the number of words for imdb:\")\n",
    "print(f\"   Median: {np.median(n_words_imdb):.2f}\")\n",
    "print(f\"   Mean: {np.mean(n_words_imdb):.2f}\")\n",
    "print(f\"   N samples imbd: {imdb_full.shape[0]}\")"
   ]
  },
  {
   "cell_type": "code",
   "execution_count": 35,
   "metadata": {
    "ExecuteTime": {
     "end_time": "2019-01-12T10:52:40.225428Z",
     "start_time": "2019-01-12T10:52:40.218156Z"
    }
   },
   "outputs": [
    {
     "name": "stdout",
     "output_type": "stream",
     "text": [
      "Number of samples / median number of words in each review: 284.09\n"
     ]
    }
   ],
   "source": [
    "print(f\"Number of samples / median number of words in each review: {words_per_review_imdb:.2f}\")"
   ]
  },
  {
   "cell_type": "markdown",
   "metadata": {
    "heading_collapsed": true
   },
   "source": [
    "### Baseline model"
   ]
  },
  {
   "cell_type": "markdown",
   "metadata": {
    "hidden": true
   },
   "source": [
    "Create a baseline model using just the numerical features `claps` and `reading time` based on three classes of classification models:\n",
    "\n",
    "- Random forests\n",
    "- Support vector machines\n",
    "- Logistic regression"
   ]
  },
  {
   "cell_type": "code",
   "execution_count": 37,
   "metadata": {
    "ExecuteTime": {
     "start_time": "2019-01-07T21:14:36.910Z"
    },
    "hidden": true
   },
   "outputs": [],
   "source": [
    "X_train_num, X_test_num = np.array(X_train[NUM_COLS]), np.array(X_test[NUM_COLS])"
   ]
  },
  {
   "cell_type": "markdown",
   "metadata": {
    "hidden": true
   },
   "source": [
    "#### Random Forest "
   ]
  },
  {
   "cell_type": "code",
   "execution_count": 38,
   "metadata": {
    "ExecuteTime": {
     "start_time": "2019-01-07T21:14:36.917Z"
    },
    "hidden": true
   },
   "outputs": [],
   "source": [
    "rf = RandomForestClassifier(n_estimators=20,\n",
    "                            min_samples_leaf=3,\n",
    "                            random_state=SEED)"
   ]
  },
  {
   "cell_type": "code",
   "execution_count": 39,
   "metadata": {
    "ExecuteTime": {
     "start_time": "2019-01-07T21:14:36.921Z"
    },
    "hidden": true
   },
   "outputs": [],
   "source": [
    "fitted_rfs = fit_ensemble(rf, sss, X_train_num, y_train)"
   ]
  },
  {
   "cell_type": "code",
   "execution_count": 40,
   "metadata": {
    "ExecuteTime": {
     "start_time": "2019-01-07T21:14:36.927Z"
    },
    "hidden": true
   },
   "outputs": [
    {
     "name": "stdout",
     "output_type": "stream",
     "text": [
      "Mean Train AUC: 0.93 (+/- 0.01)\n",
      "Mean OOB AUC: 0.77 (+/- 0.06)\n",
      "\n",
      "Performance on hold out set:\n",
      "AUC SCORE: 0.63\n",
      "    precision    recall  threshold\n",
      "16        0.5  0.642857   0.495404\n",
      "18        0.5  0.571429   0.517662\n",
      "22        0.5  0.428571   0.657033\n"
     ]
    }
   ],
   "source": [
    "evaluate_ensemble(fitted_rfs, evaluator, X_test_num, y_test)"
   ]
  },
  {
   "cell_type": "code",
   "execution_count": 41,
   "metadata": {
    "ExecuteTime": {
     "start_time": "2019-01-07T21:14:36.932Z"
    },
    "hidden": true
   },
   "outputs": [
    {
     "name": "stdout",
     "output_type": "stream",
     "text": [
      "Mean Train AUC: 0.93 (+/- 0.01)\n",
      "Mean OOB AUC: 0.77 (+/- 0.06)\n",
      "\n",
      "Performance on hold out set:\n",
      "AUC SCORE: 0.63\n"
     ]
    }
   ],
   "source": [
    "base_results_rf = evaluate_ensemble(fitted_rfs, evaluator, X_test_num, y_test, return_res=True, method=\"baseline_rf\")"
   ]
  },
  {
   "cell_type": "markdown",
   "metadata": {
    "hidden": true
   },
   "source": [
    "#### Support Vector Machine"
   ]
  },
  {
   "cell_type": "code",
   "execution_count": 42,
   "metadata": {
    "ExecuteTime": {
     "start_time": "2019-01-07T21:14:36.941Z"
    },
    "hidden": true
   },
   "outputs": [],
   "source": [
    "svc = SVC(gamma=\"auto\",\n",
    "          probability=True)"
   ]
  },
  {
   "cell_type": "code",
   "execution_count": 43,
   "metadata": {
    "ExecuteTime": {
     "start_time": "2019-01-07T21:14:36.948Z"
    },
    "hidden": true
   },
   "outputs": [],
   "source": [
    "fitted_svcs = fit_ensemble(svc, sss, X_train_num, y_train)"
   ]
  },
  {
   "cell_type": "code",
   "execution_count": 44,
   "metadata": {
    "ExecuteTime": {
     "start_time": "2019-01-07T21:14:36.954Z"
    },
    "hidden": true,
    "scrolled": true
   },
   "outputs": [
    {
     "name": "stdout",
     "output_type": "stream",
     "text": [
      "Mean Train AUC: 1.00 (+/- 0.00)\n",
      "Mean OOB AUC: 0.62 (+/- 0.08)\n",
      "\n",
      "Performance on hold out set:\n",
      "AUC SCORE: 0.40\n",
      "    precision    recall  threshold\n",
      "13        1.0  0.071429    0.51967\n"
     ]
    }
   ],
   "source": [
    "evaluate_ensemble(fitted_svcs, evaluator, X_test_num, y_test)"
   ]
  },
  {
   "cell_type": "code",
   "execution_count": 45,
   "metadata": {
    "ExecuteTime": {
     "start_time": "2019-01-07T21:14:36.961Z"
    },
    "hidden": true
   },
   "outputs": [
    {
     "name": "stdout",
     "output_type": "stream",
     "text": [
      "Mean Train AUC: 1.00 (+/- 0.00)\n",
      "Mean OOB AUC: 0.62 (+/- 0.08)\n",
      "\n",
      "Performance on hold out set:\n",
      "AUC SCORE: 0.40\n"
     ]
    }
   ],
   "source": [
    "base_results_svc = evaluate_ensemble(fitted_svcs, evaluator, X_test_num, y_test, return_res=True, method=\"baseline_svc\")"
   ]
  },
  {
   "cell_type": "markdown",
   "metadata": {
    "hidden": true
   },
   "source": [
    "#### Logistic regression"
   ]
  },
  {
   "cell_type": "code",
   "execution_count": 46,
   "metadata": {
    "ExecuteTime": {
     "start_time": "2019-01-07T21:14:36.969Z"
    },
    "hidden": true
   },
   "outputs": [],
   "source": [
    "lr = LogisticRegression(solver=\"liblinear\", random_state=SEED)"
   ]
  },
  {
   "cell_type": "code",
   "execution_count": 47,
   "metadata": {
    "ExecuteTime": {
     "start_time": "2019-01-07T21:14:36.975Z"
    },
    "hidden": true
   },
   "outputs": [],
   "source": [
    "fitted_lrs = fit_ensemble(lr, sss, X_train_num, y_train)"
   ]
  },
  {
   "cell_type": "code",
   "execution_count": 48,
   "metadata": {
    "ExecuteTime": {
     "start_time": "2019-01-07T21:14:36.982Z"
    },
    "hidden": true
   },
   "outputs": [
    {
     "name": "stdout",
     "output_type": "stream",
     "text": [
      "Mean Train AUC: 0.71 (+/- 0.03)\n",
      "Mean OOB AUC: 0.67 (+/- 0.13)\n",
      "\n",
      "Performance on hold out set:\n",
      "AUC SCORE: 0.64\n",
      "    precision    recall  threshold\n",
      "13   0.521739  0.857143   0.367415\n",
      "12   0.500000  0.857143   0.318807\n",
      "14   0.500000  0.785714   0.393729\n"
     ]
    }
   ],
   "source": [
    "evaluate_ensemble(fitted_lrs, evaluator, X_test_num, y_test)"
   ]
  },
  {
   "cell_type": "code",
   "execution_count": 49,
   "metadata": {
    "ExecuteTime": {
     "start_time": "2019-01-07T21:14:36.988Z"
    },
    "hidden": true
   },
   "outputs": [
    {
     "name": "stdout",
     "output_type": "stream",
     "text": [
      "Mean Train AUC: 0.71 (+/- 0.03)\n",
      "Mean OOB AUC: 0.67 (+/- 0.13)\n",
      "\n",
      "Performance on hold out set:\n",
      "AUC SCORE: 0.64\n"
     ]
    }
   ],
   "source": [
    "base_results_lr = evaluate_ensemble(fitted_lrs, evaluator, X_test_num, y_test, return_res=True, method=\"baseline_lr\")"
   ]
  },
  {
   "cell_type": "markdown",
   "metadata": {
    "hidden": true
   },
   "source": [
    "#### Collect and save baseline results"
   ]
  },
  {
   "cell_type": "code",
   "execution_count": 50,
   "metadata": {
    "ExecuteTime": {
     "start_time": "2019-01-07T21:14:36.993Z"
    },
    "hidden": true
   },
   "outputs": [],
   "source": [
    "base_results = pd.concat([base_results_rf, base_results_svc, base_results_lr], axis=0)"
   ]
  },
  {
   "cell_type": "code",
   "execution_count": 51,
   "metadata": {
    "ExecuteTime": {
     "start_time": "2019-01-07T21:14:36.999Z"
    },
    "hidden": true
   },
   "outputs": [
    {
     "data": {
      "text/html": [
       "<div>\n",
       "<style scoped>\n",
       "    .dataframe tbody tr th:only-of-type {\n",
       "        vertical-align: middle;\n",
       "    }\n",
       "\n",
       "    .dataframe tbody tr th {\n",
       "        vertical-align: top;\n",
       "    }\n",
       "\n",
       "    .dataframe thead th {\n",
       "        text-align: right;\n",
       "    }\n",
       "</style>\n",
       "<table border=\"1\" class=\"dataframe\">\n",
       "  <thead>\n",
       "    <tr style=\"text-align: right;\">\n",
       "      <th></th>\n",
       "      <th>method</th>\n",
       "      <th>mean train auc</th>\n",
       "      <th>mean cv auc</th>\n",
       "      <th>mean test auc</th>\n",
       "    </tr>\n",
       "  </thead>\n",
       "  <tbody>\n",
       "    <tr>\n",
       "      <th>0</th>\n",
       "      <td>baseline_rf</td>\n",
       "      <td>0.928298</td>\n",
       "      <td>0.772817</td>\n",
       "      <td>0.625714</td>\n",
       "    </tr>\n",
       "    <tr>\n",
       "      <th>0</th>\n",
       "      <td>baseline_svc</td>\n",
       "      <td>1.000000</td>\n",
       "      <td>0.621032</td>\n",
       "      <td>0.397143</td>\n",
       "    </tr>\n",
       "    <tr>\n",
       "      <th>0</th>\n",
       "      <td>baseline_lr</td>\n",
       "      <td>0.712340</td>\n",
       "      <td>0.668651</td>\n",
       "      <td>0.637143</td>\n",
       "    </tr>\n",
       "  </tbody>\n",
       "</table>\n",
       "</div>"
      ],
      "text/plain": [
       "         method  mean train auc  mean cv auc  mean test auc\n",
       "0   baseline_rf        0.928298     0.772817       0.625714\n",
       "0  baseline_svc        1.000000     0.621032       0.397143\n",
       "0   baseline_lr        0.712340     0.668651       0.637143"
      ]
     },
     "execution_count": 51,
     "metadata": {},
     "output_type": "execute_result"
    }
   ],
   "source": [
    "base_results"
   ]
  },
  {
   "cell_type": "code",
   "execution_count": 52,
   "metadata": {
    "ExecuteTime": {
     "start_time": "2019-01-07T21:14:37.004Z"
    },
    "hidden": true
   },
   "outputs": [],
   "source": [
    "save_html(df=base_results, name=\"summary_baseline_results\", out=OUTPUT_PATH, index=False)"
   ]
  },
  {
   "cell_type": "markdown",
   "metadata": {},
   "source": [
    "### Text based models"
   ]
  },
  {
   "cell_type": "markdown",
   "metadata": {},
   "source": [
    "Prepare feature array for training text based models by extracting just the column containing the blog posts' text from `X_train`."
   ]
  },
  {
   "cell_type": "code",
   "execution_count": 53,
   "metadata": {
    "ExecuteTime": {
     "start_time": "2019-01-07T21:14:37.010Z"
    }
   },
   "outputs": [],
   "source": [
    "X_train_text, X_test_text = np.array(X_train[TEXT_COL]), np.array(X_test[TEXT_COL])"
   ]
  },
  {
   "cell_type": "markdown",
   "metadata": {
    "heading_collapsed": true
   },
   "source": [
    "#### CountVectorizer + Classifier"
   ]
  },
  {
   "cell_type": "markdown",
   "metadata": {
    "hidden": true
   },
   "source": [
    "Scikit-learn's `CountVectorizer` is the simplest approach to turning the blog posts' texts into numerical matrices. It will just count the number of occurences of each token in the text and create a sparse matrix holding these counts for all posts."
   ]
  },
  {
   "cell_type": "markdown",
   "metadata": {
    "heading_collapsed": true,
    "hidden": true
   },
   "source": [
    "##### Default values"
   ]
  },
  {
   "cell_type": "markdown",
   "metadata": {
    "hidden": true
   },
   "source": [
    "First, let's do everything with default values to get a general feeling for how this approach performs."
   ]
  },
  {
   "cell_type": "code",
   "execution_count": 54,
   "metadata": {
    "ExecuteTime": {
     "start_time": "2019-01-07T21:14:37.017Z"
    },
    "hidden": true
   },
   "outputs": [],
   "source": [
    "count_vectorizer_specific = CountVectorizer(vocabulary=specific_vocab)"
   ]
  },
  {
   "cell_type": "code",
   "execution_count": 55,
   "metadata": {
    "ExecuteTime": {
     "start_time": "2019-01-07T21:14:37.023Z"
    },
    "hidden": true
   },
   "outputs": [],
   "source": [
    "count_vectorizer = CountVectorizer()"
   ]
  },
  {
   "cell_type": "markdown",
   "metadata": {
    "heading_collapsed": true,
    "hidden": true
   },
   "source": [
    "###### Random Forest"
   ]
  },
  {
   "cell_type": "markdown",
   "metadata": {
    "hidden": true
   },
   "source": [
    "With full vocab"
   ]
  },
  {
   "cell_type": "code",
   "execution_count": 56,
   "metadata": {
    "ExecuteTime": {
     "start_time": "2019-01-07T21:14:37.031Z"
    },
    "hidden": true
   },
   "outputs": [
    {
     "name": "stdout",
     "output_type": "stream",
     "text": [
      "Mean Train AUC: 1.00 (+/- 0.00)\n",
      "Mean OOB AUC: 0.73 (+/- 0.10)\n",
      "\n",
      "Performance on hold out set:\n",
      "AUC SCORE: 0.76\n"
     ]
    }
   ],
   "source": [
    "pipe_countvec_rf = make_pipeline(count_vectorizer, RandomForestClassifier(n_estimators=10,\n",
    "                                                                          random_state=SEED,\n",
    "                                                                          n_jobs=-1))\n",
    "fitted_countvec_rf = fit_ensemble(pipe_countvec_rf, sss, X_train_text, y_train)\n",
    "res_countvec_rf_full = evaluate_ensemble(fitted_countvec_rf, evaluator, X_test_text, y_test,\n",
    "                                         return_res=True, method=f\"countvec rf full v{SEED}\")"
   ]
  },
  {
   "cell_type": "code",
   "execution_count": 57,
   "metadata": {
    "ExecuteTime": {
     "start_time": "2019-01-07T21:14:37.038Z"
    },
    "hidden": true
   },
   "outputs": [
    {
     "name": "stdout",
     "output_type": "stream",
     "text": [
      "Saved results to file at: /home/steffen/projects/medium-classifier/reports/images-and-tables/raw/countvec_rf_full/countvec_rf_full_v1.pkl\n"
     ]
    }
   ],
   "source": [
    "save_pickle(res_countvec_rf_full, OUTPUT_PATH)"
   ]
  },
  {
   "cell_type": "markdown",
   "metadata": {
    "hidden": true
   },
   "source": [
    "Only top k words specific to the corpus"
   ]
  },
  {
   "cell_type": "code",
   "execution_count": 58,
   "metadata": {
    "ExecuteTime": {
     "start_time": "2019-01-07T21:14:37.043Z"
    },
    "hidden": true
   },
   "outputs": [
    {
     "name": "stdout",
     "output_type": "stream",
     "text": [
      "Mean Train AUC: 1.00 (+/- 0.00)\n",
      "Mean OOB AUC: 0.59 (+/- 0.10)\n",
      "\n",
      "Performance on hold out set:\n",
      "AUC SCORE: 0.73\n"
     ]
    }
   ],
   "source": [
    "pipe_countvec_rf_specific = make_pipeline(count_vectorizer_specific, RandomForestClassifier(n_estimators=10,\n",
    "                                                                                            random_state=1,\n",
    "                                                                                            n_jobs=-1))\n",
    "fitted_countvec_rf_specific = fit_ensemble(pipe_countvec_rf_specific, sss, X_train_text, y_train)\n",
    "res_countvec_rf_specific = evaluate_ensemble(fitted_countvec_rf_specific, evaluator, X_test_text, y_test,\n",
    "                                             return_res=True, method=f\"countvec rf specific v{SEED}\")"
   ]
  },
  {
   "cell_type": "code",
   "execution_count": 59,
   "metadata": {
    "ExecuteTime": {
     "start_time": "2019-01-07T21:14:37.049Z"
    },
    "hidden": true
   },
   "outputs": [
    {
     "name": "stdout",
     "output_type": "stream",
     "text": [
      "Saved results to file at: /home/steffen/projects/medium-classifier/reports/images-and-tables/raw/countvec_rf_specific/countvec_rf_specific_v1.pkl\n"
     ]
    }
   ],
   "source": [
    "save_pickle(res_countvec_rf_specific, OUTPUT_PATH)"
   ]
  },
  {
   "cell_type": "markdown",
   "metadata": {
    "hidden": true
   },
   "source": [
    "###### Support Vector Machine"
   ]
  },
  {
   "cell_type": "markdown",
   "metadata": {
    "hidden": true
   },
   "source": [
    "We use scikit-learn's `StandardScaler` here as the SVC's default kernel (`rbf`) expects normalized features."
   ]
  },
  {
   "cell_type": "code",
   "execution_count": 60,
   "metadata": {
    "ExecuteTime": {
     "start_time": "2019-01-07T21:14:37.057Z"
    },
    "hidden": true
   },
   "outputs": [
    {
     "name": "stdout",
     "output_type": "stream",
     "text": [
      "Mean Train AUC: 1.00 (+/- 0.00)\n",
      "Mean OOB AUC: 0.75 (+/- 0.08)\n",
      "\n",
      "Performance on hold out set:\n",
      "AUC SCORE: 0.76\n"
     ]
    }
   ],
   "source": [
    "pipe_countvec_svc = make_pipeline(count_vectorizer, StandardScaler(with_mean=False),\n",
    "                                  SVC(gamma=\"auto\", probability=True, random_state=SEED))\n",
    "fitted_countvec_svc = fit_ensemble(pipe_countvec_svc, sss, X_train_text, y_train)\n",
    "res_countvec_svc_full = evaluate_ensemble(fitted_countvec_svc, evaluator, X_test_text, y_test,\n",
    "                                          return_res=True, method=f\"countvec svc full v{SEED}\")"
   ]
  },
  {
   "cell_type": "code",
   "execution_count": 61,
   "metadata": {
    "ExecuteTime": {
     "start_time": "2019-01-07T21:14:37.062Z"
    },
    "hidden": true
   },
   "outputs": [
    {
     "name": "stdout",
     "output_type": "stream",
     "text": [
      "Saved results to file at: /home/steffen/projects/medium-classifier/reports/images-and-tables/raw/countvec_svc_full/countvec_svc_full_v1.pkl\n"
     ]
    }
   ],
   "source": [
    "save_pickle(res_countvec_svc_full, OUTPUT_PATH)"
   ]
  },
  {
   "cell_type": "code",
   "execution_count": 62,
   "metadata": {
    "ExecuteTime": {
     "start_time": "2019-01-07T21:14:37.068Z"
    },
    "hidden": true
   },
   "outputs": [
    {
     "name": "stdout",
     "output_type": "stream",
     "text": [
      "Mean Train AUC: 1.00 (+/- 0.00)\n",
      "Mean OOB AUC: 0.74 (+/- 0.06)\n",
      "\n",
      "Performance on hold out set:\n",
      "AUC SCORE: 0.77\n"
     ]
    }
   ],
   "source": [
    "pipe_countvec_svc_specific = make_pipeline(count_vectorizer_specific,\n",
    "                                           StandardScaler(with_mean=False),\n",
    "                                           SVC(gamma=\"auto\", probability=True, random_state=SEED))\n",
    "fitted_countvec_svc_specific = fit_ensemble(pipe_countvec_svc_specific, sss, X_train_text, y_train)\n",
    "res_countvec_svc_specific = evaluate_ensemble(fitted_countvec_svc_specific, evaluator, X_test_text, y_test,\n",
    "                                              return_res=True, method=f\"countvec svc specific v{SEED}\")"
   ]
  },
  {
   "cell_type": "code",
   "execution_count": 63,
   "metadata": {
    "ExecuteTime": {
     "start_time": "2019-01-07T21:14:37.073Z"
    },
    "hidden": true
   },
   "outputs": [
    {
     "name": "stdout",
     "output_type": "stream",
     "text": [
      "Saved results to file at: /home/steffen/projects/medium-classifier/reports/images-and-tables/raw/countvec_svc_specific/countvec_svc_specific_v1.pkl\n"
     ]
    }
   ],
   "source": [
    "save_pickle(res_countvec_svc_specific, OUTPUT_PATH)"
   ]
  },
  {
   "cell_type": "markdown",
   "metadata": {
    "hidden": true
   },
   "source": [
    "##### Grid search on best default models"
   ]
  },
  {
   "cell_type": "markdown",
   "metadata": {
    "heading_collapsed": true,
    "hidden": true
   },
   "source": [
    "###### Full vocab + SVC"
   ]
  },
  {
   "cell_type": "code",
   "execution_count": 64,
   "metadata": {
    "ExecuteTime": {
     "start_time": "2019-01-07T21:14:37.081Z"
    },
    "hidden": true
   },
   "outputs": [],
   "source": [
    "pipe = Pipeline([\n",
    "    (\"vec\", CountVectorizer()),\n",
    "    (\"std\", StandardScaler(with_mean=False)),\n",
    "    (\"svc\", SVC(probability=True))\n",
    "    ])\n",
    "params = {\"vec__stop_words\": [\"english\", None],\n",
    "          \"vec__ngram_range\": [(1, 1), (1, 2), (1, 3)], \n",
    "          \"vec__max_df\": uniform(loc=0.8, scale=0.2),\n",
    "          \"vec__min_df\": uniform(loc=0.0, scale=0.2),\n",
    "          \"vec__max_features\": randint(low=1000, high=20000),\n",
    "          \"svc__C\": scipy.stats.expon(scale=1.0),\n",
    "          \"svc__gamma\": [\"auto\", \"scale\"],\n",
    "          \"svc__kernel\": [\"rbf\"],\n",
    "          \"svc__class_weight\": [\"balanced\", None]}\n",
    "\n",
    "grid = RandomizedSearchCV(pipe,\n",
    "                          params,\n",
    "                          n_iter=50,\n",
    "                          scoring=\"roc_auc\",\n",
    "                          cv=5,\n",
    "                          return_train_score=False)"
   ]
  },
  {
   "cell_type": "code",
   "execution_count": 65,
   "metadata": {
    "ExecuteTime": {
     "start_time": "2019-01-07T21:14:37.086Z"
    },
    "hidden": true
   },
   "outputs": [
    {
     "name": "stderr",
     "output_type": "stream",
     "text": [
      "/home/steffen/anaconda3/envs/medium-classifier-base/lib/python3.6/site-packages/sklearn/model_selection/_search.py:841: DeprecationWarning: The default of the `iid` parameter will change from True to False in version 0.22 and will be removed in 0.24. This will change numeric results when test-set sizes are unequal.\n",
      "  DeprecationWarning)\n"
     ]
    }
   ],
   "source": [
    "grid_fitted = grid.fit(X_train_text, y_train)"
   ]
  },
  {
   "cell_type": "code",
   "execution_count": 66,
   "metadata": {
    "ExecuteTime": {
     "start_time": "2019-01-07T21:14:37.092Z"
    },
    "hidden": true
   },
   "outputs": [
    {
     "data": {
      "text/plain": [
       "['/home/steffen/projects/medium-classifier/models/countvec_full_svc_grid_best.pkl']"
      ]
     },
     "execution_count": 66,
     "metadata": {},
     "output_type": "execute_result"
    }
   ],
   "source": [
    "joblib.dump(grid_fitted.best_estimator_, MODEL_PATH / \"countvec_full_svc_grid_best.pkl\", compress=1)"
   ]
  },
  {
   "cell_type": "code",
   "execution_count": 67,
   "metadata": {
    "ExecuteTime": {
     "start_time": "2019-01-07T21:14:37.099Z"
    },
    "hidden": true
   },
   "outputs": [
    {
     "name": "stdout",
     "output_type": "stream",
     "text": [
      "#######################################\n",
      "Training model number   1\n",
      "#######################################\n",
      "\n",
      "TRAIN AUC: 1.00\n",
      "\n",
      "OOB AUC: 0.75\n",
      "\n",
      "#######################################\n",
      "Training model number   2\n",
      "#######################################\n",
      "\n",
      "TRAIN AUC: 1.00\n",
      "\n",
      "OOB AUC: 0.67\n",
      "\n",
      "#######################################\n",
      "Training model number   3\n",
      "#######################################\n",
      "\n",
      "TRAIN AUC: 1.00\n",
      "\n",
      "OOB AUC: 0.69\n",
      "\n",
      "#######################################\n",
      "Training model number   4\n",
      "#######################################\n",
      "\n",
      "TRAIN AUC: 1.00\n",
      "\n",
      "OOB AUC: 0.90\n",
      "\n",
      "#######################################\n",
      "Training model number   5\n",
      "#######################################\n",
      "\n",
      "TRAIN AUC: 1.00\n",
      "\n",
      "OOB AUC: 0.61\n",
      "\n",
      "#######################################\n",
      "Training model number   6\n",
      "#######################################\n",
      "\n",
      "TRAIN AUC: 1.00\n",
      "\n",
      "OOB AUC: 0.86\n",
      "\n",
      "Mean Train AUC: 1.00 (+/- 0.00)\n",
      "Mean OOB AUC: 0.75 (+/- 0.11)\n",
      "\n",
      "Performance on hold out set:\n",
      "AUC SCORE: 0.68\n"
     ]
    }
   ],
   "source": [
    "countvec_svc_full_grid_best = joblib.load(MODEL_PATH / \"countvec_full_svc_grid_best.pkl\")\n",
    "countvec_svc_full_grid_best = countvec_svc_full_grid_best.set_params(svc__random_state=SEED)\n",
    "fitted_countvec_svc_full_grid_best = fit_ensemble(countvec_svc_full_grid_best, sss,\n",
    "                                                X_train_text, y_train, print_progress=True)\n",
    "res_countvec_svc_full_best = evaluate_ensemble(fitted_countvec_svc_full_grid_best, evaluator, X_test_text, y_test,\n",
    "                                              return_res=True, method=f\"countvec svc full best params v{SEED}\") "
   ]
  },
  {
   "cell_type": "code",
   "execution_count": 68,
   "metadata": {
    "ExecuteTime": {
     "start_time": "2019-01-07T21:14:37.103Z"
    },
    "hidden": true
   },
   "outputs": [
    {
     "data": {
      "text/plain": [
       "{'memory': None,\n",
       " 'steps': [('vec',\n",
       "   CountVectorizer(analyzer='word', binary=False, decode_error='strict',\n",
       "           dtype=<class 'numpy.int64'>, encoding='utf-8', input='content',\n",
       "           lowercase=True, max_df=0.982030025655062, max_features=4182,\n",
       "           min_df=0.1265458773647938, ngram_range=(1, 3), preprocessor=None,\n",
       "           stop_words='english', strip_accents=None,\n",
       "           token_pattern='(?u)\\\\b\\\\w\\\\w+\\\\b', tokenizer=None, vocabulary=None)),\n",
       "  ('std', StandardScaler(copy=True, with_mean=False, with_std=True)),\n",
       "  ('svc',\n",
       "   SVC(C=1.5288950632796479, cache_size=200, class_weight='balanced', coef0=0.0,\n",
       "     decision_function_shape='ovr', degree=3, gamma='scale', kernel='rbf',\n",
       "     max_iter=-1, probability=True, random_state=1, shrinking=True, tol=0.001,\n",
       "     verbose=False))],\n",
       " 'vec': CountVectorizer(analyzer='word', binary=False, decode_error='strict',\n",
       "         dtype=<class 'numpy.int64'>, encoding='utf-8', input='content',\n",
       "         lowercase=True, max_df=0.982030025655062, max_features=4182,\n",
       "         min_df=0.1265458773647938, ngram_range=(1, 3), preprocessor=None,\n",
       "         stop_words='english', strip_accents=None,\n",
       "         token_pattern='(?u)\\\\b\\\\w\\\\w+\\\\b', tokenizer=None, vocabulary=None),\n",
       " 'std': StandardScaler(copy=True, with_mean=False, with_std=True),\n",
       " 'svc': SVC(C=1.5288950632796479, cache_size=200, class_weight='balanced', coef0=0.0,\n",
       "   decision_function_shape='ovr', degree=3, gamma='scale', kernel='rbf',\n",
       "   max_iter=-1, probability=True, random_state=1, shrinking=True, tol=0.001,\n",
       "   verbose=False),\n",
       " 'vec__analyzer': 'word',\n",
       " 'vec__binary': False,\n",
       " 'vec__decode_error': 'strict',\n",
       " 'vec__dtype': numpy.int64,\n",
       " 'vec__encoding': 'utf-8',\n",
       " 'vec__input': 'content',\n",
       " 'vec__lowercase': True,\n",
       " 'vec__max_df': 0.982030025655062,\n",
       " 'vec__max_features': 4182,\n",
       " 'vec__min_df': 0.1265458773647938,\n",
       " 'vec__ngram_range': (1, 3),\n",
       " 'vec__preprocessor': None,\n",
       " 'vec__stop_words': 'english',\n",
       " 'vec__strip_accents': None,\n",
       " 'vec__token_pattern': '(?u)\\\\b\\\\w\\\\w+\\\\b',\n",
       " 'vec__tokenizer': None,\n",
       " 'vec__vocabulary': None,\n",
       " 'std__copy': True,\n",
       " 'std__with_mean': False,\n",
       " 'std__with_std': True,\n",
       " 'svc__C': 1.5288950632796479,\n",
       " 'svc__cache_size': 200,\n",
       " 'svc__class_weight': 'balanced',\n",
       " 'svc__coef0': 0.0,\n",
       " 'svc__decision_function_shape': 'ovr',\n",
       " 'svc__degree': 3,\n",
       " 'svc__gamma': 'scale',\n",
       " 'svc__kernel': 'rbf',\n",
       " 'svc__max_iter': -1,\n",
       " 'svc__probability': True,\n",
       " 'svc__random_state': 1,\n",
       " 'svc__shrinking': True,\n",
       " 'svc__tol': 0.001,\n",
       " 'svc__verbose': False}"
      ]
     },
     "execution_count": 68,
     "metadata": {},
     "output_type": "execute_result"
    }
   ],
   "source": [
    "countvec_svc_full_grid_best.get_params()"
   ]
  },
  {
   "cell_type": "code",
   "execution_count": 69,
   "metadata": {
    "ExecuteTime": {
     "start_time": "2019-01-07T21:14:37.109Z"
    },
    "hidden": true
   },
   "outputs": [
    {
     "name": "stdout",
     "output_type": "stream",
     "text": [
      "Saved results to file at: /home/steffen/projects/medium-classifier/reports/images-and-tables/raw/countvec_svc_full_best_params/countvec_svc_full_best_params_v1.pkl\n"
     ]
    }
   ],
   "source": [
    "save_pickle(res_countvec_svc_full_best, OUTPUT_PATH)"
   ]
  },
  {
   "cell_type": "markdown",
   "metadata": {
    "heading_collapsed": true,
    "hidden": true
   },
   "source": [
    "###### Specific vocab + SVC"
   ]
  },
  {
   "cell_type": "code",
   "execution_count": 70,
   "metadata": {
    "ExecuteTime": {
     "start_time": "2019-01-07T21:14:37.116Z"
    },
    "hidden": true
   },
   "outputs": [],
   "source": [
    "pipe = Pipeline([\n",
    "    (\"vec\", CountVectorizer(vocabulary=specific_vocab)),\n",
    "    (\"std\", StandardScaler(with_mean=False)),\n",
    "    (\"svc\", SVC(probability=True))\n",
    "    ])\n",
    "params = {\"vec__stop_words\": [\"english\", None],\n",
    "          \"vec__ngram_range\": [(1, 1), (1, 2), (1, 3)], \n",
    "          \"vec__max_df\": uniform(loc=0.8, scale=0.2),\n",
    "          \"vec__min_df\": uniform(loc=0.0, scale=0.2),\n",
    "          \"vec__max_features\": randint(low=1000, high=20000),\n",
    "          \"svc__C\": scipy.stats.expon(scale=1.0),\n",
    "          \"svc__gamma\": [\"auto\", \"scale\"],\n",
    "          \"svc__kernel\": [\"rbf\"],\n",
    "          \"svc__class_weight\": [\"balanced\", None]}\n",
    "\n",
    "grid = RandomizedSearchCV(pipe,\n",
    "                          params,\n",
    "                          n_iter=50,\n",
    "                          scoring=\"roc_auc\",\n",
    "                          cv=5,\n",
    "                          return_train_score=False)"
   ]
  },
  {
   "cell_type": "code",
   "execution_count": 71,
   "metadata": {
    "ExecuteTime": {
     "start_time": "2019-01-07T21:14:37.122Z"
    },
    "hidden": true
   },
   "outputs": [
    {
     "name": "stderr",
     "output_type": "stream",
     "text": [
      "/home/steffen/anaconda3/envs/medium-classifier-base/lib/python3.6/site-packages/sklearn/model_selection/_search.py:841: DeprecationWarning: The default of the `iid` parameter will change from True to False in version 0.22 and will be removed in 0.24. This will change numeric results when test-set sizes are unequal.\n",
      "  DeprecationWarning)\n"
     ]
    }
   ],
   "source": [
    "grid_fitted = grid.fit(X_train_text, y_train)"
   ]
  },
  {
   "cell_type": "code",
   "execution_count": 72,
   "metadata": {
    "ExecuteTime": {
     "start_time": "2019-01-07T21:14:37.129Z"
    },
    "hidden": true
   },
   "outputs": [
    {
     "data": {
      "text/plain": [
       "['/home/steffen/projects/medium-classifier/models/countvec_specific_svc_grid_best.pkl']"
      ]
     },
     "execution_count": 72,
     "metadata": {},
     "output_type": "execute_result"
    }
   ],
   "source": [
    "joblib.dump(grid_fitted.best_estimator_, MODEL_PATH / \"countvec_specific_svc_grid_best.pkl\", compress=1)"
   ]
  },
  {
   "cell_type": "code",
   "execution_count": 73,
   "metadata": {
    "ExecuteTime": {
     "start_time": "2019-01-07T21:14:37.134Z"
    },
    "hidden": true
   },
   "outputs": [
    {
     "name": "stdout",
     "output_type": "stream",
     "text": [
      "#######################################\n",
      "Training model number   1\n",
      "#######################################\n",
      "\n",
      "TRAIN AUC: 1.00\n",
      "\n",
      "OOB AUC: 0.69\n",
      "\n",
      "#######################################\n",
      "Training model number   2\n",
      "#######################################\n",
      "\n",
      "TRAIN AUC: 1.00\n",
      "\n",
      "OOB AUC: 0.71\n",
      "\n",
      "#######################################\n",
      "Training model number   3\n",
      "#######################################\n",
      "\n",
      "TRAIN AUC: 1.00\n",
      "\n",
      "OOB AUC: 0.71\n",
      "\n",
      "#######################################\n",
      "Training model number   4\n",
      "#######################################\n",
      "\n",
      "TRAIN AUC: 1.00\n",
      "\n",
      "OOB AUC: 0.81\n",
      "\n",
      "#######################################\n",
      "Training model number   5\n",
      "#######################################\n",
      "\n",
      "TRAIN AUC: 1.00\n",
      "\n",
      "OOB AUC: 0.71\n",
      "\n",
      "#######################################\n",
      "Training model number   6\n",
      "#######################################\n",
      "\n",
      "TRAIN AUC: 1.00\n",
      "\n",
      "OOB AUC: 0.83\n",
      "\n",
      "Mean Train AUC: 1.00 (+/- 0.00)\n",
      "Mean OOB AUC: 0.75 (+/- 0.05)\n",
      "\n",
      "Performance on hold out set:\n",
      "AUC SCORE: 0.77\n"
     ]
    }
   ],
   "source": [
    "countvec_svc_specific_grid_best = joblib.load(MODEL_PATH / \"countvec_specific_svc_grid_best.pkl\")\n",
    "countvec_svc_specific_grid_best = countvec_svc_specific_grid_best.set_params(svc__random_state=SEED)\n",
    "fitted_countvec_svc_specific_grid_best = fit_ensemble(countvec_svc_specific_grid_best, sss,\n",
    "                                                X_train_text, y_train, print_progress=True)\n",
    "res_countvec_svc_specific_best = evaluate_ensemble(fitted_countvec_svc_specific_grid_best, evaluator, X_test_text, y_test,\n",
    "                                              return_res=True, method=f\"best params countvec svc specific v{SEED}\") "
   ]
  },
  {
   "cell_type": "code",
   "execution_count": 74,
   "metadata": {
    "ExecuteTime": {
     "start_time": "2019-01-07T21:14:37.140Z"
    },
    "hidden": true
   },
   "outputs": [
    {
     "data": {
      "text/plain": [
       "{'memory': None,\n",
       " 'steps': [('vec',\n",
       "   CountVectorizer(analyzer='word', binary=False, decode_error='strict',\n",
       "           dtype=<class 'numpy.int64'>, encoding='utf-8', input='content',\n",
       "           lowercase=True, max_df=0.9688251117219239, max_features=14874,\n",
       "           min_df=0.0557075597139876, ngram_range=(1, 3), preprocessor=None,\n",
       "           stop_words=None, strip_accents=None,\n",
       "           token_pattern='(?u)\\\\b\\\\w\\\\w+\\\\b', tokenizer=None,\n",
       "           vocabulary=['neuralnetwork', 'rnn', 'neuron', '1', 'googles', '2', 'tensorflow', 'clap', 'dataset', 'ovation', 'cheer', '3', 'gpu', '0', 'github', 'cannot', 'mooc', 'facebook', '4', 'cnnal', '10', 'bot', '20', 'derivative', 'supervised', 'alphago', 'bots', 'reinforcement', '8', 'gradient', 'sigmoid'...y', 'grandiose', 'monopolize', '‘overwhelming', 'headliners', 'bushytailed', 'brighteyed', 'blared'])),\n",
       "  ('std', StandardScaler(copy=True, with_mean=False, with_std=True)),\n",
       "  ('svc',\n",
       "   SVC(C=1.140127051391354, cache_size=200, class_weight='balanced', coef0=0.0,\n",
       "     decision_function_shape='ovr', degree=3, gamma='scale', kernel='rbf',\n",
       "     max_iter=-1, probability=True, random_state=1, shrinking=True, tol=0.001,\n",
       "     verbose=False))],\n",
       " 'vec': CountVectorizer(analyzer='word', binary=False, decode_error='strict',\n",
       "         dtype=<class 'numpy.int64'>, encoding='utf-8', input='content',\n",
       "         lowercase=True, max_df=0.9688251117219239, max_features=14874,\n",
       "         min_df=0.0557075597139876, ngram_range=(1, 3), preprocessor=None,\n",
       "         stop_words=None, strip_accents=None,\n",
       "         token_pattern='(?u)\\\\b\\\\w\\\\w+\\\\b', tokenizer=None,\n",
       "         vocabulary=['neuralnetwork', 'rnn', 'neuron', '1', 'googles', '2', 'tensorflow', 'clap', 'dataset', 'ovation', 'cheer', '3', 'gpu', '0', 'github', 'cannot', 'mooc', 'facebook', '4', 'cnnal', '10', 'bot', '20', 'derivative', 'supervised', 'alphago', 'bots', 'reinforcement', '8', 'gradient', 'sigmoid'...y', 'grandiose', 'monopolize', '‘overwhelming', 'headliners', 'bushytailed', 'brighteyed', 'blared']),\n",
       " 'std': StandardScaler(copy=True, with_mean=False, with_std=True),\n",
       " 'svc': SVC(C=1.140127051391354, cache_size=200, class_weight='balanced', coef0=0.0,\n",
       "   decision_function_shape='ovr', degree=3, gamma='scale', kernel='rbf',\n",
       "   max_iter=-1, probability=True, random_state=1, shrinking=True, tol=0.001,\n",
       "   verbose=False),\n",
       " 'vec__analyzer': 'word',\n",
       " 'vec__binary': False,\n",
       " 'vec__decode_error': 'strict',\n",
       " 'vec__dtype': numpy.int64,\n",
       " 'vec__encoding': 'utf-8',\n",
       " 'vec__input': 'content',\n",
       " 'vec__lowercase': True,\n",
       " 'vec__max_df': 0.9688251117219239,\n",
       " 'vec__max_features': 14874,\n",
       " 'vec__min_df': 0.0557075597139876,\n",
       " 'vec__ngram_range': (1, 3),\n",
       " 'vec__preprocessor': None,\n",
       " 'vec__stop_words': None,\n",
       " 'vec__strip_accents': None,\n",
       " 'vec__token_pattern': '(?u)\\\\b\\\\w\\\\w+\\\\b',\n",
       " 'vec__tokenizer': None,\n",
       " 'vec__vocabulary': ['neuralnetwork',\n",
       "  'rnn',\n",
       "  'neuron',\n",
       "  '1',\n",
       "  'googles',\n",
       "  '2',\n",
       "  'tensorflow',\n",
       "  'clap',\n",
       "  'dataset',\n",
       "  'ovation',\n",
       "  'cheer',\n",
       "  '3',\n",
       "  'gpu',\n",
       "  '0',\n",
       "  'github',\n",
       "  'cannot',\n",
       "  'mooc',\n",
       "  'facebook',\n",
       "  '4',\n",
       "  'cnnal',\n",
       "  '10',\n",
       "  'bot',\n",
       "  '20',\n",
       "  'derivative',\n",
       "  'supervised',\n",
       "  'alphago',\n",
       "  'bots',\n",
       "  'reinforcement',\n",
       "  '8',\n",
       "  'gradient',\n",
       "  'sigmoid',\n",
       "  '5',\n",
       "  'cnns',\n",
       "  'youve',\n",
       "  '2017',\n",
       "  'classifier',\n",
       "  'backpropagation',\n",
       "  'relu',\n",
       "  'netflix',\n",
       "  'gradientdescent',\n",
       "  'twitter',\n",
       "  'architectures',\n",
       "  'vectors',\n",
       "  'startups',\n",
       "  'blockchain',\n",
       "  'chatbots',\n",
       "  'personalization',\n",
       "  'gtx',\n",
       "  'linkedin',\n",
       "  'datasets',\n",
       "  '6',\n",
       "  '100',\n",
       "  'learns',\n",
       "  '2016',\n",
       "  'clustering',\n",
       "  'deepmind',\n",
       "  'inception',\n",
       "  '7',\n",
       "  'intuition',\n",
       "  'nlp',\n",
       "  '30',\n",
       "  'aws',\n",
       "  'selfdriving',\n",
       "  '50',\n",
       "  'augmentation',\n",
       "  'analytica',\n",
       "  'markup',\n",
       "  'metrics',\n",
       "  'brains',\n",
       "  'logistic',\n",
       "  'unsupervised',\n",
       "  'predicting',\n",
       "  '1080',\n",
       "  '2015',\n",
       "  'googless',\n",
       "  'havent',\n",
       "  'augusta',\n",
       "  'segmentation',\n",
       "  'classify',\n",
       "  'gaussian',\n",
       "  'wrt',\n",
       "  'capsule',\n",
       "  'biases',\n",
       "  '9',\n",
       "  'attracted',\n",
       "  'hyperparameters',\n",
       "  'numpy',\n",
       "  'predictive',\n",
       "  'qubic',\n",
       "  'dqn',\n",
       "  'hierarchical',\n",
       "  'calculus',\n",
       "  'autonomous',\n",
       "  'pooling',\n",
       "  'mcts',\n",
       "  'pretrained',\n",
       "  'activations',\n",
       "  'entropy',\n",
       "  'realworld',\n",
       "  'contextual',\n",
       "  'conversational',\n",
       "  'generative',\n",
       "  'digits',\n",
       "  'theyre',\n",
       "  'capsules',\n",
       "  'bounding',\n",
       "  'algorithmic',\n",
       "  'embeddings',\n",
       "  'overfitting',\n",
       "  'trump',\n",
       "  'wouldnt',\n",
       "  'foma',\n",
       "  'couldnt',\n",
       "  '16',\n",
       "  'gradients',\n",
       "  'softmax',\n",
       "  'chatbot',\n",
       "  'moats',\n",
       "  'backprop',\n",
       "  'encoder',\n",
       "  'rnns',\n",
       "  'hinton',\n",
       "  '2014',\n",
       "  'smarter',\n",
       "  'regularization',\n",
       "  'drones',\n",
       "  'duplex',\n",
       "  'derivatives',\n",
       "  'predicts',\n",
       "  'kmeans',\n",
       "  'semantic',\n",
       "  'kernels',\n",
       "  'frameworks',\n",
       "  'primitives',\n",
       "  'featuretools',\n",
       "  'lusha',\n",
       "  'synaptic',\n",
       "  'gan',\n",
       "  'vgg',\n",
       "  'neuralnetworks',\n",
       "  'tanh',\n",
       "  'qlearning',\n",
       "  'imagenet',\n",
       "  'youd',\n",
       "  'probabilities',\n",
       "  'youtube',\n",
       "  'turing',\n",
       "  'raspberry',\n",
       "  'propaganda',\n",
       "  'tweet',\n",
       "  'cofounder',\n",
       "  'ondemand',\n",
       "  'airbnb',\n",
       "  '1000',\n",
       "  'scikitlearn',\n",
       "  'resnet',\n",
       "  'clever',\n",
       "  '3d',\n",
       "  'highlevel',\n",
       "  'luckily',\n",
       "  'rex',\n",
       "  'carla',\n",
       "  'synapses',\n",
       "  'uber',\n",
       "  'bottleneck',\n",
       "  'superhuman',\n",
       "  'chunks',\n",
       "  '500',\n",
       "  'iterations',\n",
       "  'implementations',\n",
       "  'adversarial',\n",
       "  '15',\n",
       "  'kaggle',\n",
       "  'irrelevant',\n",
       "  'cpus',\n",
       "  'gans',\n",
       "  'kosinski',\n",
       "  'placeholders',\n",
       "  'spotify',\n",
       "  'epochs',\n",
       "  'a3c',\n",
       "  'dependencies',\n",
       "  'ensembling',\n",
       "  'contexts',\n",
       "  'humanimitative',\n",
       "  'inference',\n",
       "  'invented',\n",
       "  'recognizing',\n",
       "  'analytics',\n",
       "  'visualization',\n",
       "  'initialization',\n",
       "  'visualize',\n",
       "  'transformations',\n",
       "  'pandas',\n",
       "  'problemsolving',\n",
       "  'scaled',\n",
       "  'pytorch',\n",
       "  'hotdogs',\n",
       "  'ais',\n",
       "  'randomly',\n",
       "  'sensible',\n",
       "  'adapt',\n",
       "  'preprocessing',\n",
       "  'salesforce',\n",
       "  'billions',\n",
       "  'tweets',\n",
       "  '•',\n",
       "  'learnt',\n",
       "  'feedforward',\n",
       "  'nonlinearity',\n",
       "  'bandits',\n",
       "  'simpler',\n",
       "  'dataframe',\n",
       "  'aunt',\n",
       "  'bankbot',\n",
       "  'arxiv',\n",
       "  'nanonets',\n",
       "  'bust',\n",
       "  '256',\n",
       "  'generalize',\n",
       "  'agi',\n",
       "  'multiplied',\n",
       "  'backward',\n",
       "  'averaging',\n",
       "  'fundamentally',\n",
       "  'apis',\n",
       "  'realtime',\n",
       "  '14',\n",
       "  '80',\n",
       "  'scaling',\n",
       "  'spark',\n",
       "  'shes',\n",
       "  '300',\n",
       "  'robotics',\n",
       "  'react',\n",
       "  'automate',\n",
       "  'subset',\n",
       "  'intuitively',\n",
       "  'siri',\n",
       "  'trumps',\n",
       "  'tangle',\n",
       "  'synapse',\n",
       "  'selfimproving',\n",
       "  'recursively',\n",
       "  'slack',\n",
       "  'cryptocurrency',\n",
       "  'deepminds',\n",
       "  'samesex',\n",
       "  'outfit',\n",
       "  'hyperparameter',\n",
       "  'tesla',\n",
       "  'matrices',\n",
       "  'openai',\n",
       "  'dropout',\n",
       "  'similarity',\n",
       "  '2018',\n",
       "  'specialization',\n",
       "  'simplest',\n",
       "  'academia',\n",
       "  '90',\n",
       "  'transformed',\n",
       "  'intuitive',\n",
       "  'detecting',\n",
       "  '64',\n",
       "  'squares',\n",
       "  'atari',\n",
       "  '11',\n",
       "  'analogy',\n",
       "  'manipulation',\n",
       "  'builtin',\n",
       "  'snns',\n",
       "  'poetic',\n",
       "  'polly',\n",
       "  'caption',\n",
       "  'outfits',\n",
       "  'pcie',\n",
       "  'k80',\n",
       "  'cuda',\n",
       "  'tensor',\n",
       "  'ubiquitous',\n",
       "  'storing',\n",
       "  'naive',\n",
       "  'heterosexual',\n",
       "  'imagery',\n",
       "  'computations',\n",
       "  'cognition',\n",
       "  'encoded',\n",
       "  'targeting',\n",
       "  '2012',\n",
       "  'jupyter',\n",
       "  'scikit',\n",
       "  '12',\n",
       "  'karpathy',\n",
       "  'lego',\n",
       "  'multiplying',\n",
       "  'theyve',\n",
       "  'unicorn',\n",
       "  'backwards',\n",
       "  '40',\n",
       "  'automating',\n",
       "  'andor',\n",
       "  'interviewer',\n",
       "  'interviewing',\n",
       "  'multiplication',\n",
       "  'surprisingly',\n",
       "  'entityset',\n",
       "  'opensource',\n",
       "  'arrays',\n",
       "  'stateoftheart',\n",
       "  'figuring',\n",
       "  'zj',\n",
       "  'brainjs',\n",
       "  'iota',\n",
       "  'utterance',\n",
       "  'hackers',\n",
       "  'lookahead',\n",
       "  'tensors',\n",
       "  'tfidf',\n",
       "  'oppositesex',\n",
       "  'batches',\n",
       "  'retrain',\n",
       "  'recursive',\n",
       "  'differentiable',\n",
       "  'endtoend',\n",
       "  'sequencetosequence',\n",
       "  'qvalues',\n",
       "  'markov',\n",
       "  'explanatory',\n",
       "  '32',\n",
       "  'sequential',\n",
       "  'vr',\n",
       "  '24',\n",
       "  '128',\n",
       "  '95',\n",
       "  'nonlinear',\n",
       "  'squared',\n",
       "  'consume',\n",
       "  'incredibly',\n",
       "  'nowadays',\n",
       "  'assistants',\n",
       "  'theyll',\n",
       "  'stacking',\n",
       "  'tuned',\n",
       "  'arguably',\n",
       "  'optimized',\n",
       "  'tends',\n",
       "  'todays',\n",
       "  'hype',\n",
       "  'chien',\n",
       "  'postsynaptic',\n",
       "  'coo',\n",
       "  'retrievalbased',\n",
       "  'discriminator',\n",
       "  'cores',\n",
       "  '1070',\n",
       "  'desti',\n",
       "  'mathematically',\n",
       "  'captioning',\n",
       "  'selfplay',\n",
       "  'coefficients',\n",
       "  'eyeshadow',\n",
       "  'optimizer',\n",
       "  'forecasting',\n",
       "  'iteration',\n",
       "  '13',\n",
       "  'ubuntu',\n",
       "  'straightforward',\n",
       "  'repo',\n",
       "  'decoder',\n",
       "  'adjusting',\n",
       "  'slower',\n",
       "  '05',\n",
       "  'karpathys',\n",
       "  'corresponds',\n",
       "  'mse',\n",
       "  'latent',\n",
       "  'founders',\n",
       "  'illustrates',\n",
       "  'personalize',\n",
       "  'optimizing',\n",
       "  'iphone',\n",
       "  'abstraction',\n",
       "  'labeling',\n",
       "  'hasnt',\n",
       "  'emerge',\n",
       "  'lecun',\n",
       "  '45',\n",
       "  'stochastic',\n",
       "  'largescale',\n",
       "  'handwritten',\n",
       "  'shouldnt',\n",
       "  'neuroscience',\n",
       "  'exponential',\n",
       "  'svm',\n",
       "  '2nd',\n",
       "  'breakthrough',\n",
       "  'receptive',\n",
       "  'mnist',\n",
       "  'sliding',\n",
       "  'behave',\n",
       "  'correlated',\n",
       "  'calculating',\n",
       "  'manipulate',\n",
       "  '70',\n",
       "  'presynaptic',\n",
       "  'fcn',\n",
       "  'deepfakes',\n",
       "  'k2',\n",
       "  'bannon',\n",
       "  'albright',\n",
       "  'chicisimo',\n",
       "  'neurones',\n",
       "  'β1',\n",
       "  'timesteps',\n",
       "  'extrapolate',\n",
       "  'tens',\n",
       "  'octopus',\n",
       "  'augmented',\n",
       "  '200',\n",
       "  'rollout',\n",
       "  'batchsize',\n",
       "  'sequentially',\n",
       "  'alexnet',\n",
       "  'classifying',\n",
       "  'curation',\n",
       "  'spotifys',\n",
       "  'ios',\n",
       "  'intelligently',\n",
       "  'iteratively',\n",
       "  'moocs',\n",
       "  'multiply',\n",
       "  'chunk',\n",
       "  'sparse',\n",
       "  'tendency',\n",
       "  'enthusiast',\n",
       "  'boosting',\n",
       "  'bayesian',\n",
       "  'correspond',\n",
       "  'nets',\n",
       "  'classifiers',\n",
       "  'pretend',\n",
       "  'datacamp',\n",
       "  'recommender',\n",
       "  'notation',\n",
       "  'embedding',\n",
       "  'useless',\n",
       "  '8s',\n",
       "  'guessed',\n",
       "  'singularity',\n",
       "  'alongside',\n",
       "  'estimating',\n",
       "  'improves',\n",
       "  'multilayer',\n",
       "  'computes',\n",
       "  'stride',\n",
       "  'stepbystep',\n",
       "  'advent',\n",
       "  'explored',\n",
       "  'explanations',\n",
       "  'workings',\n",
       "  'exponentially',\n",
       "  'dimensionality',\n",
       "  'fortunately',\n",
       "  'ideally',\n",
       "  'aggregations',\n",
       "  'grasp',\n",
       "  'longterm',\n",
       "  'leverage',\n",
       "  '2000',\n",
       "  'ecosystem',\n",
       "  'axon',\n",
       "  'vram',\n",
       "  'augustas',\n",
       "  'cissy',\n",
       "  'woolley',\n",
       "  'bitcoin',\n",
       "  'symbolic',\n",
       "  'symbolmanipulation',\n",
       "  'spearmint',\n",
       "  'imagined',\n",
       "  'shifts',\n",
       "  'behaviors',\n",
       "  'tiller',\n",
       "  'incumbents',\n",
       "  'invested',\n",
       "  'matplotlib',\n",
       "  '18',\n",
       "  'angles',\n",
       "  'handful',\n",
       "  'bootstrap',\n",
       "  '17',\n",
       "  'enet',\n",
       "  '20000',\n",
       "  'hotdog',\n",
       "  '22',\n",
       "  'qsa',\n",
       "  'abstractions',\n",
       "  'sampled',\n",
       "  'replay',\n",
       "  'outliers',\n",
       "  'generalpurpose',\n",
       "  'constrained',\n",
       "  'encode',\n",
       "  'w1',\n",
       "  'distinguish',\n",
       "  'sensorimotor',\n",
       "  'broadly',\n",
       "  'launching',\n",
       "  'scipy',\n",
       "  'bootcamp',\n",
       "  'baidu',\n",
       "  '2011',\n",
       "  'recreate',\n",
       "  'deeplearning',\n",
       "  'andrej',\n",
       "  'lastly',\n",
       "  'onsite',\n",
       "  'milliseconds',\n",
       "  'transforming',\n",
       "  'generalization',\n",
       "  '2010',\n",
       "  'historically',\n",
       "  'decreasing',\n",
       "  'repeatedly',\n",
       "  'generalized',\n",
       "  'visually',\n",
       "  'activate',\n",
       "  '25',\n",
       "  'itll',\n",
       "  'neat',\n",
       "  'deciding',\n",
       "  'epsilon',\n",
       "  'chests',\n",
       "  'oreilly',\n",
       "  'fellows',\n",
       "  'breakthroughs',\n",
       "  'secondly',\n",
       "  'feasible',\n",
       "  'extracting',\n",
       "  'analyzing',\n",
       "  'shortterm',\n",
       "  'meantime',\n",
       "  'purely',\n",
       "  'incorporating',\n",
       "  'experimentation',\n",
       "  'scalable',\n",
       "  'spike',\n",
       "  'perro',\n",
       "  'charrnn',\n",
       "  'w1ij',\n",
       "  '1x1',\n",
       "  'wtf',\n",
       "  'floydhub',\n",
       "  'multidimensional',\n",
       "  'rollouts',\n",
       "  'iterative',\n",
       "  'worrying',\n",
       "  'costly',\n",
       "  'titan',\n",
       "  '2x',\n",
       "  'innate',\n",
       "  'smartphone',\n",
       "  'disappear',\n",
       "  'lever',\n",
       "  'proving',\n",
       "  'grammatical',\n",
       "  'autosuggest',\n",
       "  'crypto',\n",
       "  'estimations',\n",
       "  'vanishing',\n",
       "  'mlp',\n",
       "  'accelerate',\n",
       "  'gmms',\n",
       "  'unseen',\n",
       "  'disasters',\n",
       "  'hyperplane',\n",
       "  'minibatch',\n",
       "  'flowing',\n",
       "  'advancements',\n",
       "  'roipool',\n",
       "  'playlists',\n",
       "  'squeezenet',\n",
       "  'ux',\n",
       "  'experimenting',\n",
       "  'leaky',\n",
       "  'correlations',\n",
       "  'infinity',\n",
       "  'spreadsheet',\n",
       "  'alexa',\n",
       "  'qnetwork',\n",
       "  'onehot',\n",
       "  'frozenlake',\n",
       "  'computationally',\n",
       "  'capturing',\n",
       "  'hacking',\n",
       "  '10x',\n",
       "  'sensory',\n",
       "  'translating',\n",
       "  'consuming',\n",
       "  'unfamiliar',\n",
       "  'tastes',\n",
       "  'android',\n",
       "  'shifted',\n",
       "  'xavier',\n",
       "  'evolve',\n",
       "  'backend',\n",
       "  'predictor',\n",
       "  '36',\n",
       "  'octave',\n",
       "  'matlab',\n",
       "  'prose',\n",
       "  'linguistic',\n",
       "  'nonetheless',\n",
       "  'intentions',\n",
       "  'reliably',\n",
       "  'strongest',\n",
       "  'darker',\n",
       "  '2000s',\n",
       "  'fullyconnected',\n",
       "  'brute',\n",
       "  'remembers',\n",
       "  'guessing',\n",
       "  '한국어',\n",
       "  'sentiment',\n",
       "  '2013',\n",
       "  'sedol',\n",
       "  'sometime',\n",
       "  'interviewers',\n",
       "  'technically',\n",
       "  'approximation',\n",
       "  'observing',\n",
       "  'splits',\n",
       "  'personalizing',\n",
       "  'programmed',\n",
       "  'googlesnet',\n",
       "  '3×3',\n",
       "  '2d',\n",
       "  'propagate',\n",
       "  'depicted',\n",
       "  'initialize',\n",
       "  'juliani',\n",
       "  'firstly',\n",
       "  'countless',\n",
       "  'grouping',\n",
       "  'constructing',\n",
       "  'lowlevel',\n",
       "  'pretending',\n",
       "  '35',\n",
       "  'swapping',\n",
       "  'leap',\n",
       "  '1990s',\n",
       "  'werent',\n",
       "  'corporates',\n",
       "  'inevitable',\n",
       "  'nin',\n",
       "  'mandarin',\n",
       "  'neuraltalk2',\n",
       "  'wordcamera',\n",
       "  'ct1',\n",
       "  'summation',\n",
       "  'harlequin',\n",
       "  'monotonic',\n",
       "  'p100',\n",
       "  'poets',\n",
       "  'analyticas',\n",
       "  'voter',\n",
       "  'tamperproof',\n",
       "  'oracles',\n",
       "  'qubics',\n",
       "  'frontend',\n",
       "  'suffers',\n",
       "  'afternoons',\n",
       "  'rotating',\n",
       "  'β0',\n",
       "  'formally',\n",
       "  'asynchronous',\n",
       "  'recallk',\n",
       "  'distractors',\n",
       "  'tokens',\n",
       "  'npps',\n",
       "  'fifa',\n",
       "  'newsfeed',\n",
       "  '28',\n",
       "  'driverless',\n",
       "  'p2',\n",
       "  'capsnet',\n",
       "  'xt',\n",
       "  'iq',\n",
       "  'friction',\n",
       "  'sticking',\n",
       "  'premise',\n",
       "  'hadnt',\n",
       "  'convincing',\n",
       "  'overwhelming',\n",
       "  'defensible',\n",
       "  'disrupt',\n",
       "  'recognise',\n",
       "  'alphazero',\n",
       "  'leveraging',\n",
       "  '2001',\n",
       "  'randomization',\n",
       "  'bandit',\n",
       "  'epoch',\n",
       "  'rectified',\n",
       "  'wavenet',\n",
       "  'masks',\n",
       "  'girshick',\n",
       "  'outperform',\n",
       "  'scraped',\n",
       "  'textual',\n",
       "  'aligned',\n",
       "  'overfit',\n",
       "  'selfies',\n",
       "  'usecase',\n",
       "  'selfimprovement',\n",
       "  'traditionally',\n",
       "  'trivial',\n",
       "  'achieves',\n",
       "  'autoencoder',\n",
       "  'vix',\n",
       "  'understands',\n",
       "  'traits',\n",
       "  '4000',\n",
       "  'plausible',\n",
       "  'ipython',\n",
       "  'equals',\n",
       "  'calculates',\n",
       "  '21',\n",
       "  'ignores',\n",
       "  'reallife',\n",
       "  'hullo',\n",
       "  'qvalue',\n",
       "  'zeros',\n",
       "  'checkin',\n",
       "  'occupancy',\n",
       "  'hyper',\n",
       "  'deploy',\n",
       "  'l2',\n",
       "  'scrimba',\n",
       "  'cues',\n",
       "  'discriminate',\n",
       "  'encodings',\n",
       "  'exhaustive',\n",
       "  'apples',\n",
       "  '10000',\n",
       "  'intuitions',\n",
       "  '2006',\n",
       "  'positioned',\n",
       "  '5000',\n",
       "  'reviewers',\n",
       "  'compelling',\n",
       "  'reuse',\n",
       "  'guesses',\n",
       "  'phrasebased',\n",
       "  'yann',\n",
       "  'scala',\n",
       "  'curiosity',\n",
       "  'gaining',\n",
       "  '1960s',\n",
       "  'ageitgey',\n",
       "  'magically',\n",
       "  'jargon',\n",
       "  'cares',\n",
       "  'việt',\n",
       "  'tiếng',\n",
       "  'русский',\n",
       "  '普通话',\n",
       "  'smartest',\n",
       "  '31',\n",
       "  '2020',\n",
       "  '42',\n",
       "  'stanfords',\n",
       "  'variants',\n",
       "  'bayes',\n",
       "  'perceptron',\n",
       "  'interviewed',\n",
       "  'validate',\n",
       "  'strive',\n",
       "  'arose',\n",
       "  'captures',\n",
       "  'hashtags',\n",
       "  'powering',\n",
       "  'initialized',\n",
       "  'padding',\n",
       "  'converting',\n",
       "  'repeats',\n",
       "  'obstacles',\n",
       "  'publishes',\n",
       "  'ngs',\n",
       "  'interacting',\n",
       "  'paddle',\n",
       "  'primitive',\n",
       "  'categorical',\n",
       "  'simplify',\n",
       "  'manipulating',\n",
       "  'dataframes',\n",
       "  'indepth',\n",
       "  'seemingly',\n",
       "  'expecting',\n",
       "  'fooled',\n",
       "  'infinitely',\n",
       "  'guis',\n",
       "  'spiking',\n",
       "  'swa',\n",
       "  '1×1',\n",
       "  'lenet',\n",
       "  'ions',\n",
       "  'triggers',\n",
       "  'itp',\n",
       "  'outgrad',\n",
       "  'xj',\n",
       "  'convex',\n",
       "  'k40',\n",
       "  'kardashian',\n",
       "  'serene',\n",
       "  'softly',\n",
       "  'janes',\n",
       "  'rexy',\n",
       "  'mobilepay',\n",
       "  'mbti',\n",
       "  'intelligencetm',\n",
       "  'personalities',\n",
       "  'trustworthy',\n",
       "  'pow',\n",
       "  'sketches',\n",
       "  '01',\n",
       "  'iterate',\n",
       "  'marblestone',\n",
       "  'dueling',\n",
       "  'actorcritic',\n",
       "  'spikes',\n",
       "  'truncatedbackproplength',\n",
       "  '001',\n",
       "  '2layer',\n",
       "  'docker',\n",
       "  'explores',\n",
       "  'newsfeeds',\n",
       "  'hostile',\n",
       "  'remarkably',\n",
       "  'marketplaces',\n",
       "  'fiberglass',\n",
       "  'radically',\n",
       "  'owning',\n",
       "  'finetune',\n",
       "  'finetuned',\n",
       "  'ssh',\n",
       "  'hdd',\n",
       "  'ssd',\n",
       "  'i5',\n",
       "  'fastai',\n",
       "  'geometric',\n",
       "  'bottlenecks',\n",
       "  '150',\n",
       "  'hardcoded',\n",
       "  'blockchains',\n",
       "  'transistors',\n",
       "  'drone',\n",
       "  'smartphones',\n",
       "  'amplify',\n",
       "  'obsolete',\n",
       "  'nope',\n",
       "  'pyramid',\n",
       "  'behaves',\n",
       "  'autocomplete',\n",
       "  'firing',\n",
       "  'motivations',\n",
       "  'ambiguous',\n",
       "  'proportional',\n",
       "  'robotic',\n",
       "  'tpus',\n",
       "  'expressive',\n",
       "  'instagram',\n",
       "  'bottomup',\n",
       "  'converge',\n",
       "  'residual',\n",
       "  'gamepy',\n",
       "  'imagetoimage',\n",
       "  'evaluates',\n",
       "  'proportionally',\n",
       "  'stumble',\n",
       "  'extensively',\n",
       "  'grooming',\n",
       "  'claiming',\n",
       "  'modeled',\n",
       "  'regret',\n",
       "  'optimizers',\n",
       "  'advantageous',\n",
       "  'mlps',\n",
       "  'git',\n",
       "  'minima',\n",
       "  'xception',\n",
       "  'retraining',\n",
       "  'tensorflows',\n",
       "  'superintelligence',\n",
       "  'acceleration',\n",
       "  'hes',\n",
       "  'debugging',\n",
       "  'sgd',\n",
       "  '025',\n",
       "  '400',\n",
       "  'annotate',\n",
       "  'spreadsheets',\n",
       "  'recap',\n",
       "  'marketvectors',\n",
       "  'algebraic',\n",
       "  'word2vec',\n",
       "  'highend',\n",
       "  'internally',\n",
       "  'tweak',\n",
       "  'corpora',\n",
       "  'snippet',\n",
       "  'lengths',\n",
       "  'qtable',\n",
       "  '1–2',\n",
       "  'usefulness',\n",
       "  'frustrating',\n",
       "  'belonging',\n",
       "  'albeit',\n",
       "  'successive',\n",
       "  'argues',\n",
       "  'aspiring',\n",
       "  'nyu',\n",
       "  'simplicity',\n",
       "  'debates',\n",
       "  'chooses',\n",
       "  'succeeded',\n",
       "  'w2',\n",
       "  'tailored',\n",
       "  '75',\n",
       "  '23',\n",
       "  '2008',\n",
       "  'rmse',\n",
       "  'appropriately',\n",
       "  'reversal',\n",
       "  'speculative',\n",
       "  'arbitrarily',\n",
       "  'mimic',\n",
       "  'forefront',\n",
       "  'notions',\n",
       "  'conceive',\n",
       "  'prevents',\n",
       "  '1980s',\n",
       "  'hypotheses',\n",
       "  '1950s',\n",
       "  'statistician',\n",
       "  'technologists',\n",
       "  'condensed',\n",
       "  'probabilistic',\n",
       "  'capstone',\n",
       "  'azure',\n",
       "  'professors',\n",
       "  '47',\n",
       "  '45star',\n",
       "  'exceptionally',\n",
       "  'hemingways',\n",
       "  'coded',\n",
       "  'downside',\n",
       "  'emphasize',\n",
       "  'fallon',\n",
       "  'csv',\n",
       "  'tweaks',\n",
       "  'landmarks',\n",
       "  '68',\n",
       "  'openface',\n",
       "  '97',\n",
       "  'negatives',\n",
       "  'positives',\n",
       "  'exposes',\n",
       "  'differentiate',\n",
       "  'inefficient',\n",
       "  'understandable',\n",
       "  'tangent',\n",
       "  'generalizations',\n",
       "  'português',\n",
       "  'reddit',\n",
       "  'drastically',\n",
       "  'hugely',\n",
       "  'creators',\n",
       "  '21st',\n",
       "  'perceive',\n",
       "  'fascinated',\n",
       "  '1990',\n",
       "  'imagining',\n",
       "  'shaping',\n",
       "  'empower',\n",
       "  'tradeoffs',\n",
       "  'easiest',\n",
       "  'smiling',\n",
       "  'demonstrating',\n",
       "  '‘p',\n",
       "  'similarities',\n",
       "  'divergence',\n",
       "  'kl',\n",
       "  'coefficient',\n",
       "  'dependency',\n",
       "  'predictable',\n",
       "  'inherently',\n",
       "  'constrain',\n",
       "  'coined',\n",
       "  'robustness',\n",
       "  ...],\n",
       " 'std__copy': True,\n",
       " 'std__with_mean': False,\n",
       " 'std__with_std': True,\n",
       " 'svc__C': 1.140127051391354,\n",
       " 'svc__cache_size': 200,\n",
       " 'svc__class_weight': 'balanced',\n",
       " 'svc__coef0': 0.0,\n",
       " 'svc__decision_function_shape': 'ovr',\n",
       " 'svc__degree': 3,\n",
       " 'svc__gamma': 'scale',\n",
       " 'svc__kernel': 'rbf',\n",
       " 'svc__max_iter': -1,\n",
       " 'svc__probability': True,\n",
       " 'svc__random_state': 1,\n",
       " 'svc__shrinking': True,\n",
       " 'svc__tol': 0.001,\n",
       " 'svc__verbose': False}"
      ]
     },
     "execution_count": 74,
     "metadata": {},
     "output_type": "execute_result"
    }
   ],
   "source": [
    "countvec_svc_specific_grid_best.get_params()"
   ]
  },
  {
   "cell_type": "code",
   "execution_count": 75,
   "metadata": {
    "ExecuteTime": {
     "start_time": "2019-01-07T21:14:37.146Z"
    },
    "hidden": true
   },
   "outputs": [
    {
     "name": "stdout",
     "output_type": "stream",
     "text": [
      "Saved results to file at: /home/steffen/projects/medium-classifier/reports/images-and-tables/raw/best_params_countvec_svc_specific/best_params_countvec_svc_specific_v1.pkl\n"
     ]
    }
   ],
   "source": [
    "save_pickle(res_countvec_svc_specific_best, OUTPUT_PATH)"
   ]
  },
  {
   "cell_type": "markdown",
   "metadata": {
    "heading_collapsed": true,
    "hidden": true
   },
   "source": [
    "###### Create summary of grid search results and save to html"
   ]
  },
  {
   "cell_type": "code",
   "execution_count": 76,
   "metadata": {
    "ExecuteTime": {
     "start_time": "2019-01-07T21:14:37.151Z"
    },
    "hidden": true
   },
   "outputs": [],
   "source": [
    "list_countvec_grid = read_results(OUTPUT_PATH / \"raw\", \"best_params_countvec*.pkl\")"
   ]
  },
  {
   "cell_type": "code",
   "execution_count": 77,
   "metadata": {
    "ExecuteTime": {
     "start_time": "2019-01-07T21:14:37.157Z"
    },
    "hidden": true
   },
   "outputs": [],
   "source": [
    "res = pd.concat(list_countvec_grid)"
   ]
  },
  {
   "cell_type": "code",
   "execution_count": 78,
   "metadata": {
    "ExecuteTime": {
     "start_time": "2019-01-07T21:14:37.161Z"
    },
    "hidden": true
   },
   "outputs": [],
   "source": [
    "res_groupby_method = res.groupby(\"base_method\")\n",
    "res_analysis_table = res_groupby_method.agg({c : [\"mean\", \"std\"] for c in [\"mean train auc\", \"mean cv auc\", \"mean test auc\"]})"
   ]
  },
  {
   "cell_type": "code",
   "execution_count": 79,
   "metadata": {
    "ExecuteTime": {
     "start_time": "2019-01-07T21:14:37.169Z"
    },
    "hidden": true
   },
   "outputs": [],
   "source": [
    "out = res_analysis_table.sort_values([(\"mean test auc\", \"mean\"), (\"mean cv auc\", \"mean\")], axis=0, ascending=False)\n",
    "out.index.name = None"
   ]
  },
  {
   "cell_type": "code",
   "execution_count": 80,
   "metadata": {
    "ExecuteTime": {
     "start_time": "2019-01-07T21:14:37.176Z"
    },
    "hidden": true
   },
   "outputs": [],
   "source": [
    "index = pd.MultiIndex.from_product([[\"train auc\", \"cv auc\", \"test auc\"], [\"mean\", \"std\"]])\n",
    "out.columns = index"
   ]
  },
  {
   "cell_type": "code",
   "execution_count": 81,
   "metadata": {
    "ExecuteTime": {
     "start_time": "2019-01-07T21:14:37.182Z"
    },
    "hidden": true
   },
   "outputs": [
    {
     "data": {
      "text/html": [
       "<div>\n",
       "<style scoped>\n",
       "    .dataframe tbody tr th:only-of-type {\n",
       "        vertical-align: middle;\n",
       "    }\n",
       "\n",
       "    .dataframe tbody tr th {\n",
       "        vertical-align: top;\n",
       "    }\n",
       "\n",
       "    .dataframe thead tr th {\n",
       "        text-align: left;\n",
       "    }\n",
       "</style>\n",
       "<table border=\"1\" class=\"dataframe\">\n",
       "  <thead>\n",
       "    <tr>\n",
       "      <th></th>\n",
       "      <th colspan=\"2\" halign=\"left\">train auc</th>\n",
       "      <th colspan=\"2\" halign=\"left\">cv auc</th>\n",
       "      <th colspan=\"2\" halign=\"left\">test auc</th>\n",
       "    </tr>\n",
       "    <tr>\n",
       "      <th></th>\n",
       "      <th>mean</th>\n",
       "      <th>std</th>\n",
       "      <th>mean</th>\n",
       "      <th>std</th>\n",
       "      <th>mean</th>\n",
       "      <th>std</th>\n",
       "    </tr>\n",
       "  </thead>\n",
       "  <tbody>\n",
       "    <tr>\n",
       "      <th>best_params_countvec_svc_full</th>\n",
       "      <td>1.0</td>\n",
       "      <td>0.0</td>\n",
       "      <td>0.757143</td>\n",
       "      <td>0.053839</td>\n",
       "      <td>0.798286</td>\n",
       "      <td>0.056590</td>\n",
       "    </tr>\n",
       "    <tr>\n",
       "      <th>best_params_countvec_svc_specific</th>\n",
       "      <td>1.0</td>\n",
       "      <td>0.0</td>\n",
       "      <td>0.775794</td>\n",
       "      <td>0.068431</td>\n",
       "      <td>0.761714</td>\n",
       "      <td>0.051965</td>\n",
       "    </tr>\n",
       "  </tbody>\n",
       "</table>\n",
       "</div>"
      ],
      "text/plain": [
       "                                  train auc         cv auc            \\\n",
       "                                       mean  std      mean       std   \n",
       "best_params_countvec_svc_full           1.0  0.0  0.757143  0.053839   \n",
       "best_params_countvec_svc_specific       1.0  0.0  0.775794  0.068431   \n",
       "\n",
       "                                   test auc            \n",
       "                                       mean       std  \n",
       "best_params_countvec_svc_full      0.798286  0.056590  \n",
       "best_params_countvec_svc_specific  0.761714  0.051965  "
      ]
     },
     "execution_count": 81,
     "metadata": {},
     "output_type": "execute_result"
    }
   ],
   "source": [
    "out"
   ]
  },
  {
   "cell_type": "code",
   "execution_count": 82,
   "metadata": {
    "ExecuteTime": {
     "start_time": "2019-01-07T21:14:37.187Z"
    },
    "hidden": true
   },
   "outputs": [],
   "source": [
    "save_html(out, \"summary_countvec_svc_best_params\", out=OUTPUT_PATH, index=True)"
   ]
  },
  {
   "cell_type": "markdown",
   "metadata": {},
   "source": [
    "#### TfidfVectorizer + Classifier"
   ]
  },
  {
   "cell_type": "markdown",
   "metadata": {},
   "source": [
    "The next approach to feature extraction from the text data that I want to try is the `Term-Frequency-Inverse-Document-Frequency` technique implemented in scikit-learn's `TfidfVectorizer`. This method creates the same matrix as the `CountVectorizer` but divides the values for each token in the vocabulary by its frequency across all documents in the corpus."
   ]
  },
  {
   "cell_type": "markdown",
   "metadata": {},
   "source": [
    "##### Default values"
   ]
  },
  {
   "cell_type": "code",
   "execution_count": 83,
   "metadata": {
    "ExecuteTime": {
     "start_time": "2019-01-07T21:14:37.192Z"
    }
   },
   "outputs": [],
   "source": [
    "tfidf_vectorizer = TfidfVectorizer()\n",
    "tfidf_vectorizer_specific = TfidfVectorizer(vocabulary=specific_vocab)"
   ]
  },
  {
   "cell_type": "markdown",
   "metadata": {
    "heading_collapsed": true
   },
   "source": [
    "###### Random Forest"
   ]
  },
  {
   "cell_type": "markdown",
   "metadata": {
    "hidden": true
   },
   "source": [
    "Full vocab"
   ]
  },
  {
   "cell_type": "code",
   "execution_count": 84,
   "metadata": {
    "ExecuteTime": {
     "start_time": "2019-01-07T21:14:37.200Z"
    },
    "hidden": true
   },
   "outputs": [
    {
     "name": "stdout",
     "output_type": "stream",
     "text": [
      "Mean Train AUC: 1.00 (+/- 0.00)\n",
      "Mean OOB AUC: 0.67 (+/- 0.14)\n",
      "\n",
      "Performance on hold out set:\n",
      "AUC SCORE: 0.79\n"
     ]
    }
   ],
   "source": [
    "pipe_tfidf = make_pipeline(tfidf_vectorizer, RandomForestClassifier(n_estimators=10,\n",
    "                                                                    random_state=SEED,\n",
    "                                                                    n_jobs=-1))\n",
    "fitted_tfidf = fit_ensemble(pipe_tfidf, sss, X_train_text, y_train)\n",
    "res_tfidf_rf_full = evaluate_ensemble(fitted_tfidf, evaluator, X_test_text, y_test,\n",
    "                                      return_res=True, method=f\"tfidf rf full v{SEED}\")"
   ]
  },
  {
   "cell_type": "code",
   "execution_count": 85,
   "metadata": {
    "ExecuteTime": {
     "start_time": "2019-01-07T21:14:37.205Z"
    },
    "hidden": true
   },
   "outputs": [
    {
     "name": "stdout",
     "output_type": "stream",
     "text": [
      "Saved results to file at: /home/steffen/projects/medium-classifier/reports/images-and-tables/raw/tfidf_rf_full/tfidf_rf_full_v1.pkl\n"
     ]
    }
   ],
   "source": [
    "save_pickle(res_tfidf_rf_full, OUTPUT_PATH)"
   ]
  },
  {
   "cell_type": "markdown",
   "metadata": {
    "hidden": true
   },
   "source": [
    "Only specific vocab"
   ]
  },
  {
   "cell_type": "code",
   "execution_count": 86,
   "metadata": {
    "ExecuteTime": {
     "start_time": "2019-01-07T21:14:37.210Z"
    },
    "hidden": true
   },
   "outputs": [
    {
     "name": "stdout",
     "output_type": "stream",
     "text": [
      "Mean Train AUC: 1.00 (+/- 0.00)\n",
      "Mean OOB AUC: 0.52 (+/- 0.13)\n",
      "\n",
      "Performance on hold out set:\n",
      "AUC SCORE: 0.72\n"
     ]
    }
   ],
   "source": [
    "pipe_tfidf_specific = make_pipeline(tfidf_vectorizer_specific, RandomForestClassifier(n_estimators=10,\n",
    "                                                                                      random_state=SEED,\n",
    "                                                                                      n_jobs=-1))\n",
    "fitted_tfidf_specific = fit_ensemble(pipe_tfidf_specific, sss, X_train_text, y_train)\n",
    "res_tfidf_rf_specific = evaluate_ensemble(fitted_tfidf_specific, evaluator, X_test_text, y_test,\n",
    "                                          return_res=True, method=f\"tfidf rf specific v{SEED}\")"
   ]
  },
  {
   "cell_type": "code",
   "execution_count": 87,
   "metadata": {
    "ExecuteTime": {
     "start_time": "2019-01-07T21:14:37.215Z"
    },
    "hidden": true
   },
   "outputs": [
    {
     "name": "stdout",
     "output_type": "stream",
     "text": [
      "Saved results to file at: /home/steffen/projects/medium-classifier/reports/images-and-tables/raw/tfidf_rf_specific/tfidf_rf_specific_v1.pkl\n"
     ]
    }
   ],
   "source": [
    "save_pickle(res_tfidf_rf_specific, OUTPUT_PATH)"
   ]
  },
  {
   "cell_type": "markdown",
   "metadata": {},
   "source": [
    "###### Support Vector Machine"
   ]
  },
  {
   "cell_type": "code",
   "execution_count": 88,
   "metadata": {
    "ExecuteTime": {
     "start_time": "2019-01-07T21:14:37.221Z"
    }
   },
   "outputs": [
    {
     "name": "stdout",
     "output_type": "stream",
     "text": [
      "Mean Train AUC: 1.00 (+/- 0.00)\n",
      "Mean OOB AUC: 0.47 (+/- 0.11)\n",
      "\n",
      "Performance on hold out set:\n",
      "AUC SCORE: 0.62\n"
     ]
    }
   ],
   "source": [
    "pipe_tfidf_svc = make_pipeline(tfidf_vectorizer,\n",
    "                               StandardScaler(with_mean=False),\n",
    "                               SVC(gamma=\"auto\",\n",
    "                                   probability=True,\n",
    "                                   random_state=SEED))\n",
    "fitted_tfidf_svc = fit_ensemble(pipe_tfidf_svc, sss, X_train_text, y_train)\n",
    "res_tfidf_svc_full = evaluate_ensemble(fitted_tfidf_svc, evaluator, X_test_text, y_test,\n",
    "                                       return_res=True, method=f\"tfidf svc full v{SEED}\")"
   ]
  },
  {
   "cell_type": "code",
   "execution_count": 89,
   "metadata": {
    "ExecuteTime": {
     "start_time": "2019-01-07T21:14:37.226Z"
    }
   },
   "outputs": [
    {
     "name": "stdout",
     "output_type": "stream",
     "text": [
      "Saved results to file at: /home/steffen/projects/medium-classifier/reports/images-and-tables/raw/tfidf_svc_full/tfidf_svc_full_v1.pkl\n"
     ]
    }
   ],
   "source": [
    "save_pickle(res_tfidf_svc_full, OUTPUT_PATH)"
   ]
  },
  {
   "cell_type": "code",
   "execution_count": 90,
   "metadata": {
    "ExecuteTime": {
     "start_time": "2019-01-07T21:14:37.231Z"
    }
   },
   "outputs": [
    {
     "name": "stdout",
     "output_type": "stream",
     "text": [
      "Mean Train AUC: 1.00 (+/- 0.00)\n",
      "Mean OOB AUC: 0.62 (+/- 0.13)\n",
      "\n",
      "Performance on hold out set:\n",
      "AUC SCORE: 0.55\n"
     ]
    }
   ],
   "source": [
    "pipe_tfidf_svc_specific = make_pipeline(tfidf_vectorizer_specific,\n",
    "                                        StandardScaler(with_mean=False),\n",
    "                                        SVC(gamma=\"auto\",\n",
    "                                            probability=True,\n",
    "                                            random_state=SEED))\n",
    "fitted_tfidf_svc_specific = fit_ensemble(pipe_tfidf_svc_specific, sss, X_train_text, y_train)\n",
    "res_tfidf_svc_specific = evaluate_ensemble(fitted_tfidf_svc_specific, evaluator, X_test_text, y_test,\n",
    "                                           return_res=True, method=f\"tfidf svc specific v{SEED}\")"
   ]
  },
  {
   "cell_type": "code",
   "execution_count": 91,
   "metadata": {
    "ExecuteTime": {
     "start_time": "2019-01-07T21:14:37.236Z"
    }
   },
   "outputs": [
    {
     "name": "stdout",
     "output_type": "stream",
     "text": [
      "Saved results to file at: /home/steffen/projects/medium-classifier/reports/images-and-tables/raw/tfidf_svc_specific/tfidf_svc_specific_v1.pkl\n"
     ]
    }
   ],
   "source": [
    "save_pickle(res_tfidf_svc_specific, OUTPUT_PATH)"
   ]
  },
  {
   "cell_type": "markdown",
   "metadata": {},
   "source": [
    "##### Collect results from running the above with different seeds"
   ]
  },
  {
   "cell_type": "code",
   "execution_count": 92,
   "metadata": {
    "ExecuteTime": {
     "start_time": "2019-01-07T21:14:37.243Z"
    }
   },
   "outputs": [],
   "source": [
    "list_countvec = read_results(OUTPUT_PATH / \"raw\", \"countvec*.pkl\")"
   ]
  },
  {
   "cell_type": "code",
   "execution_count": 93,
   "metadata": {
    "ExecuteTime": {
     "start_time": "2019-01-07T21:14:37.248Z"
    }
   },
   "outputs": [],
   "source": [
    "list_tfidf = read_results(OUTPUT_PATH / \"raw\", \"tfidf*.pkl\")"
   ]
  },
  {
   "cell_type": "code",
   "execution_count": 94,
   "metadata": {
    "ExecuteTime": {
     "start_time": "2019-01-07T21:14:37.254Z"
    }
   },
   "outputs": [],
   "source": [
    "results_tfidf_countvec = pd.concat([e for l in [list_countvec, list_tfidf] for e in l])"
   ]
  },
  {
   "cell_type": "code",
   "execution_count": 95,
   "metadata": {
    "ExecuteTime": {
     "start_time": "2019-01-07T21:14:37.258Z"
    }
   },
   "outputs": [
    {
     "data": {
      "text/html": [
       "<div>\n",
       "<style scoped>\n",
       "    .dataframe tbody tr th:only-of-type {\n",
       "        vertical-align: middle;\n",
       "    }\n",
       "\n",
       "    .dataframe tbody tr th {\n",
       "        vertical-align: top;\n",
       "    }\n",
       "\n",
       "    .dataframe thead th {\n",
       "        text-align: right;\n",
       "    }\n",
       "</style>\n",
       "<table border=\"1\" class=\"dataframe\">\n",
       "  <thead>\n",
       "    <tr style=\"text-align: right;\">\n",
       "      <th></th>\n",
       "      <th>method</th>\n",
       "      <th>mean train auc</th>\n",
       "      <th>mean cv auc</th>\n",
       "      <th>mean test auc</th>\n",
       "      <th>base_method</th>\n",
       "    </tr>\n",
       "  </thead>\n",
       "  <tbody>\n",
       "    <tr>\n",
       "      <th>0</th>\n",
       "      <td>countvec rf full v1</td>\n",
       "      <td>0.999433</td>\n",
       "      <td>0.731151</td>\n",
       "      <td>0.762857</td>\n",
       "      <td>countvec_rf_full</td>\n",
       "    </tr>\n",
       "    <tr>\n",
       "      <th>0</th>\n",
       "      <td>countvec rf full v2</td>\n",
       "      <td>0.999929</td>\n",
       "      <td>0.697421</td>\n",
       "      <td>0.678571</td>\n",
       "      <td>countvec_rf_full</td>\n",
       "    </tr>\n",
       "    <tr>\n",
       "      <th>0</th>\n",
       "      <td>countvec rf full v3</td>\n",
       "      <td>0.999220</td>\n",
       "      <td>0.734127</td>\n",
       "      <td>0.827143</td>\n",
       "      <td>countvec_rf_full</td>\n",
       "    </tr>\n",
       "    <tr>\n",
       "      <th>0</th>\n",
       "      <td>countvec rf full v4</td>\n",
       "      <td>0.999149</td>\n",
       "      <td>0.760913</td>\n",
       "      <td>0.751429</td>\n",
       "      <td>countvec_rf_full</td>\n",
       "    </tr>\n",
       "    <tr>\n",
       "      <th>0</th>\n",
       "      <td>countvec rf full v5</td>\n",
       "      <td>0.999929</td>\n",
       "      <td>0.646825</td>\n",
       "      <td>0.735714</td>\n",
       "      <td>countvec_rf_full</td>\n",
       "    </tr>\n",
       "    <tr>\n",
       "      <th>0</th>\n",
       "      <td>countvec rf specific v1</td>\n",
       "      <td>0.999504</td>\n",
       "      <td>0.594246</td>\n",
       "      <td>0.728571</td>\n",
       "      <td>countvec_rf_specific</td>\n",
       "    </tr>\n",
       "    <tr>\n",
       "      <th>0</th>\n",
       "      <td>countvec rf specific v2</td>\n",
       "      <td>0.999929</td>\n",
       "      <td>0.636905</td>\n",
       "      <td>0.847143</td>\n",
       "      <td>countvec_rf_specific</td>\n",
       "    </tr>\n",
       "    <tr>\n",
       "      <th>0</th>\n",
       "      <td>countvec rf specific v3</td>\n",
       "      <td>0.999716</td>\n",
       "      <td>0.673611</td>\n",
       "      <td>0.731429</td>\n",
       "      <td>countvec_rf_specific</td>\n",
       "    </tr>\n",
       "    <tr>\n",
       "      <th>0</th>\n",
       "      <td>countvec rf specific v4</td>\n",
       "      <td>1.000000</td>\n",
       "      <td>0.689484</td>\n",
       "      <td>0.670000</td>\n",
       "      <td>countvec_rf_specific</td>\n",
       "    </tr>\n",
       "    <tr>\n",
       "      <th>0</th>\n",
       "      <td>countvec rf specific v5</td>\n",
       "      <td>0.999787</td>\n",
       "      <td>0.641865</td>\n",
       "      <td>0.765714</td>\n",
       "      <td>countvec_rf_specific</td>\n",
       "    </tr>\n",
       "    <tr>\n",
       "      <th>0</th>\n",
       "      <td>countvec svc full v1</td>\n",
       "      <td>1.000000</td>\n",
       "      <td>0.746032</td>\n",
       "      <td>0.762857</td>\n",
       "      <td>countvec_svc_full</td>\n",
       "    </tr>\n",
       "    <tr>\n",
       "      <th>0</th>\n",
       "      <td>countvec svc full v2</td>\n",
       "      <td>1.000000</td>\n",
       "      <td>0.712302</td>\n",
       "      <td>0.740000</td>\n",
       "      <td>countvec_svc_full</td>\n",
       "    </tr>\n",
       "    <tr>\n",
       "      <th>0</th>\n",
       "      <td>countvec svc full v3</td>\n",
       "      <td>1.000000</td>\n",
       "      <td>0.787698</td>\n",
       "      <td>0.900000</td>\n",
       "      <td>countvec_svc_full</td>\n",
       "    </tr>\n",
       "    <tr>\n",
       "      <th>0</th>\n",
       "      <td>countvec svc full v4</td>\n",
       "      <td>1.000000</td>\n",
       "      <td>0.763889</td>\n",
       "      <td>0.782857</td>\n",
       "      <td>countvec_svc_full</td>\n",
       "    </tr>\n",
       "    <tr>\n",
       "      <th>0</th>\n",
       "      <td>countvec svc full v5</td>\n",
       "      <td>1.000000</td>\n",
       "      <td>0.676587</td>\n",
       "      <td>0.754286</td>\n",
       "      <td>countvec_svc_full</td>\n",
       "    </tr>\n",
       "    <tr>\n",
       "      <th>0</th>\n",
       "      <td>countvec svc full best params v1</td>\n",
       "      <td>1.000000</td>\n",
       "      <td>0.746032</td>\n",
       "      <td>0.680000</td>\n",
       "      <td>countvec_svc_full_best_params</td>\n",
       "    </tr>\n",
       "    <tr>\n",
       "      <th>0</th>\n",
       "      <td>countvec svc specific v1</td>\n",
       "      <td>1.000000</td>\n",
       "      <td>0.744048</td>\n",
       "      <td>0.765714</td>\n",
       "      <td>countvec_svc_specific</td>\n",
       "    </tr>\n",
       "    <tr>\n",
       "      <th>0</th>\n",
       "      <td>countvec svc specific v2</td>\n",
       "      <td>0.999574</td>\n",
       "      <td>0.793651</td>\n",
       "      <td>0.691429</td>\n",
       "      <td>countvec_svc_specific</td>\n",
       "    </tr>\n",
       "    <tr>\n",
       "      <th>0</th>\n",
       "      <td>countvec svc specific v3</td>\n",
       "      <td>1.000000</td>\n",
       "      <td>0.855159</td>\n",
       "      <td>0.797143</td>\n",
       "      <td>countvec_svc_specific</td>\n",
       "    </tr>\n",
       "    <tr>\n",
       "      <th>0</th>\n",
       "      <td>countvec svc specific v4</td>\n",
       "      <td>1.000000</td>\n",
       "      <td>0.799603</td>\n",
       "      <td>0.694286</td>\n",
       "      <td>countvec_svc_specific</td>\n",
       "    </tr>\n",
       "    <tr>\n",
       "      <th>0</th>\n",
       "      <td>countvec svc specific v5</td>\n",
       "      <td>0.999716</td>\n",
       "      <td>0.674603</td>\n",
       "      <td>0.822857</td>\n",
       "      <td>countvec_svc_specific</td>\n",
       "    </tr>\n",
       "    <tr>\n",
       "      <th>0</th>\n",
       "      <td>tfidf rf full v1</td>\n",
       "      <td>0.999007</td>\n",
       "      <td>0.670635</td>\n",
       "      <td>0.787143</td>\n",
       "      <td>tfidf_rf_full</td>\n",
       "    </tr>\n",
       "    <tr>\n",
       "      <th>0</th>\n",
       "      <td>tfidf rf full v2</td>\n",
       "      <td>0.999433</td>\n",
       "      <td>0.697421</td>\n",
       "      <td>0.688571</td>\n",
       "      <td>tfidf_rf_full</td>\n",
       "    </tr>\n",
       "    <tr>\n",
       "      <th>0</th>\n",
       "      <td>tfidf rf full v3</td>\n",
       "      <td>0.999007</td>\n",
       "      <td>0.676587</td>\n",
       "      <td>0.660000</td>\n",
       "      <td>tfidf_rf_full</td>\n",
       "    </tr>\n",
       "    <tr>\n",
       "      <th>0</th>\n",
       "      <td>tfidf rf full v4</td>\n",
       "      <td>0.998794</td>\n",
       "      <td>0.656746</td>\n",
       "      <td>0.815714</td>\n",
       "      <td>tfidf_rf_full</td>\n",
       "    </tr>\n",
       "    <tr>\n",
       "      <th>0</th>\n",
       "      <td>tfidf rf full v5</td>\n",
       "      <td>0.999716</td>\n",
       "      <td>0.624008</td>\n",
       "      <td>0.792857</td>\n",
       "      <td>tfidf_rf_full</td>\n",
       "    </tr>\n",
       "    <tr>\n",
       "      <th>0</th>\n",
       "      <td>tfidf rf specific v1</td>\n",
       "      <td>0.999858</td>\n",
       "      <td>0.521825</td>\n",
       "      <td>0.720000</td>\n",
       "      <td>tfidf_rf_specific</td>\n",
       "    </tr>\n",
       "    <tr>\n",
       "      <th>0</th>\n",
       "      <td>tfidf rf specific v2</td>\n",
       "      <td>0.999787</td>\n",
       "      <td>0.608135</td>\n",
       "      <td>0.718571</td>\n",
       "      <td>tfidf_rf_specific</td>\n",
       "    </tr>\n",
       "    <tr>\n",
       "      <th>0</th>\n",
       "      <td>tfidf rf specific v3</td>\n",
       "      <td>0.999149</td>\n",
       "      <td>0.682540</td>\n",
       "      <td>0.737143</td>\n",
       "      <td>tfidf_rf_specific</td>\n",
       "    </tr>\n",
       "    <tr>\n",
       "      <th>0</th>\n",
       "      <td>tfidf rf specific v4</td>\n",
       "      <td>0.999716</td>\n",
       "      <td>0.690476</td>\n",
       "      <td>0.781429</td>\n",
       "      <td>tfidf_rf_specific</td>\n",
       "    </tr>\n",
       "    <tr>\n",
       "      <th>0</th>\n",
       "      <td>tfidf rf specific v5</td>\n",
       "      <td>0.999078</td>\n",
       "      <td>0.552579</td>\n",
       "      <td>0.620000</td>\n",
       "      <td>tfidf_rf_specific</td>\n",
       "    </tr>\n",
       "    <tr>\n",
       "      <th>0</th>\n",
       "      <td>tfidf svc full v1</td>\n",
       "      <td>1.000000</td>\n",
       "      <td>0.472222</td>\n",
       "      <td>0.622857</td>\n",
       "      <td>tfidf_svc_full</td>\n",
       "    </tr>\n",
       "    <tr>\n",
       "      <th>0</th>\n",
       "      <td>tfidf svc full v2</td>\n",
       "      <td>1.000000</td>\n",
       "      <td>0.613095</td>\n",
       "      <td>0.380000</td>\n",
       "      <td>tfidf_svc_full</td>\n",
       "    </tr>\n",
       "    <tr>\n",
       "      <th>0</th>\n",
       "      <td>tfidf svc full v3</td>\n",
       "      <td>0.333333</td>\n",
       "      <td>0.484127</td>\n",
       "      <td>0.422857</td>\n",
       "      <td>tfidf_svc_full</td>\n",
       "    </tr>\n",
       "    <tr>\n",
       "      <th>0</th>\n",
       "      <td>tfidf svc full v4</td>\n",
       "      <td>0.833333</td>\n",
       "      <td>0.483135</td>\n",
       "      <td>0.471429</td>\n",
       "      <td>tfidf_svc_full</td>\n",
       "    </tr>\n",
       "    <tr>\n",
       "      <th>0</th>\n",
       "      <td>tfidf svc full v5</td>\n",
       "      <td>1.000000</td>\n",
       "      <td>0.593254</td>\n",
       "      <td>0.437143</td>\n",
       "      <td>tfidf_svc_full</td>\n",
       "    </tr>\n",
       "    <tr>\n",
       "      <th>0</th>\n",
       "      <td>tfidf svc specific v1</td>\n",
       "      <td>1.000000</td>\n",
       "      <td>0.619048</td>\n",
       "      <td>0.554286</td>\n",
       "      <td>tfidf_svc_specific</td>\n",
       "    </tr>\n",
       "    <tr>\n",
       "      <th>0</th>\n",
       "      <td>tfidf svc specific v2</td>\n",
       "      <td>0.999858</td>\n",
       "      <td>0.630952</td>\n",
       "      <td>0.482857</td>\n",
       "      <td>tfidf_svc_specific</td>\n",
       "    </tr>\n",
       "    <tr>\n",
       "      <th>0</th>\n",
       "      <td>tfidf svc specific v3</td>\n",
       "      <td>1.000000</td>\n",
       "      <td>0.665675</td>\n",
       "      <td>0.434286</td>\n",
       "      <td>tfidf_svc_specific</td>\n",
       "    </tr>\n",
       "    <tr>\n",
       "      <th>0</th>\n",
       "      <td>tfidf svc specific v4</td>\n",
       "      <td>1.000000</td>\n",
       "      <td>0.567460</td>\n",
       "      <td>0.597143</td>\n",
       "      <td>tfidf_svc_specific</td>\n",
       "    </tr>\n",
       "    <tr>\n",
       "      <th>0</th>\n",
       "      <td>tfidf svc specific v5</td>\n",
       "      <td>1.000000</td>\n",
       "      <td>0.578373</td>\n",
       "      <td>0.382857</td>\n",
       "      <td>tfidf_svc_specific</td>\n",
       "    </tr>\n",
       "  </tbody>\n",
       "</table>\n",
       "</div>"
      ],
      "text/plain": [
       "                             method  mean train auc  mean cv auc  \\\n",
       "0               countvec rf full v1        0.999433     0.731151   \n",
       "0               countvec rf full v2        0.999929     0.697421   \n",
       "0               countvec rf full v3        0.999220     0.734127   \n",
       "0               countvec rf full v4        0.999149     0.760913   \n",
       "0               countvec rf full v5        0.999929     0.646825   \n",
       "0           countvec rf specific v1        0.999504     0.594246   \n",
       "0           countvec rf specific v2        0.999929     0.636905   \n",
       "0           countvec rf specific v3        0.999716     0.673611   \n",
       "0           countvec rf specific v4        1.000000     0.689484   \n",
       "0           countvec rf specific v5        0.999787     0.641865   \n",
       "0              countvec svc full v1        1.000000     0.746032   \n",
       "0              countvec svc full v2        1.000000     0.712302   \n",
       "0              countvec svc full v3        1.000000     0.787698   \n",
       "0              countvec svc full v4        1.000000     0.763889   \n",
       "0              countvec svc full v5        1.000000     0.676587   \n",
       "0  countvec svc full best params v1        1.000000     0.746032   \n",
       "0          countvec svc specific v1        1.000000     0.744048   \n",
       "0          countvec svc specific v2        0.999574     0.793651   \n",
       "0          countvec svc specific v3        1.000000     0.855159   \n",
       "0          countvec svc specific v4        1.000000     0.799603   \n",
       "0          countvec svc specific v5        0.999716     0.674603   \n",
       "0                  tfidf rf full v1        0.999007     0.670635   \n",
       "0                  tfidf rf full v2        0.999433     0.697421   \n",
       "0                  tfidf rf full v3        0.999007     0.676587   \n",
       "0                  tfidf rf full v4        0.998794     0.656746   \n",
       "0                  tfidf rf full v5        0.999716     0.624008   \n",
       "0              tfidf rf specific v1        0.999858     0.521825   \n",
       "0              tfidf rf specific v2        0.999787     0.608135   \n",
       "0              tfidf rf specific v3        0.999149     0.682540   \n",
       "0              tfidf rf specific v4        0.999716     0.690476   \n",
       "0              tfidf rf specific v5        0.999078     0.552579   \n",
       "0                 tfidf svc full v1        1.000000     0.472222   \n",
       "0                 tfidf svc full v2        1.000000     0.613095   \n",
       "0                 tfidf svc full v3        0.333333     0.484127   \n",
       "0                 tfidf svc full v4        0.833333     0.483135   \n",
       "0                 tfidf svc full v5        1.000000     0.593254   \n",
       "0             tfidf svc specific v1        1.000000     0.619048   \n",
       "0             tfidf svc specific v2        0.999858     0.630952   \n",
       "0             tfidf svc specific v3        1.000000     0.665675   \n",
       "0             tfidf svc specific v4        1.000000     0.567460   \n",
       "0             tfidf svc specific v5        1.000000     0.578373   \n",
       "\n",
       "   mean test auc                    base_method  \n",
       "0       0.762857               countvec_rf_full  \n",
       "0       0.678571               countvec_rf_full  \n",
       "0       0.827143               countvec_rf_full  \n",
       "0       0.751429               countvec_rf_full  \n",
       "0       0.735714               countvec_rf_full  \n",
       "0       0.728571           countvec_rf_specific  \n",
       "0       0.847143           countvec_rf_specific  \n",
       "0       0.731429           countvec_rf_specific  \n",
       "0       0.670000           countvec_rf_specific  \n",
       "0       0.765714           countvec_rf_specific  \n",
       "0       0.762857              countvec_svc_full  \n",
       "0       0.740000              countvec_svc_full  \n",
       "0       0.900000              countvec_svc_full  \n",
       "0       0.782857              countvec_svc_full  \n",
       "0       0.754286              countvec_svc_full  \n",
       "0       0.680000  countvec_svc_full_best_params  \n",
       "0       0.765714          countvec_svc_specific  \n",
       "0       0.691429          countvec_svc_specific  \n",
       "0       0.797143          countvec_svc_specific  \n",
       "0       0.694286          countvec_svc_specific  \n",
       "0       0.822857          countvec_svc_specific  \n",
       "0       0.787143                  tfidf_rf_full  \n",
       "0       0.688571                  tfidf_rf_full  \n",
       "0       0.660000                  tfidf_rf_full  \n",
       "0       0.815714                  tfidf_rf_full  \n",
       "0       0.792857                  tfidf_rf_full  \n",
       "0       0.720000              tfidf_rf_specific  \n",
       "0       0.718571              tfidf_rf_specific  \n",
       "0       0.737143              tfidf_rf_specific  \n",
       "0       0.781429              tfidf_rf_specific  \n",
       "0       0.620000              tfidf_rf_specific  \n",
       "0       0.622857                 tfidf_svc_full  \n",
       "0       0.380000                 tfidf_svc_full  \n",
       "0       0.422857                 tfidf_svc_full  \n",
       "0       0.471429                 tfidf_svc_full  \n",
       "0       0.437143                 tfidf_svc_full  \n",
       "0       0.554286             tfidf_svc_specific  \n",
       "0       0.482857             tfidf_svc_specific  \n",
       "0       0.434286             tfidf_svc_specific  \n",
       "0       0.597143             tfidf_svc_specific  \n",
       "0       0.382857             tfidf_svc_specific  "
      ]
     },
     "execution_count": 95,
     "metadata": {},
     "output_type": "execute_result"
    }
   ],
   "source": [
    "results_tfidf_countvec"
   ]
  },
  {
   "cell_type": "code",
   "execution_count": 96,
   "metadata": {
    "ExecuteTime": {
     "start_time": "2019-01-07T21:14:37.265Z"
    }
   },
   "outputs": [],
   "source": [
    "save_html(df=results_tfidf_countvec.drop(\"base_method\", axis=1).sort_values([\"mean test auc\", \"mean cv auc\"], axis=0, ascending=False),\n",
    "          name=\"countvec_tfidf_results_default_all_appendix\",\n",
    "          out=OUTPUT_PATH,\n",
    "          index=False)"
   ]
  },
  {
   "cell_type": "markdown",
   "metadata": {},
   "source": [
    "##### Summarize results and save overview table"
   ]
  },
  {
   "cell_type": "code",
   "execution_count": 97,
   "metadata": {
    "ExecuteTime": {
     "start_time": "2019-01-07T21:14:37.270Z"
    }
   },
   "outputs": [],
   "source": [
    "res = results_tfidf_countvec.sort_values([\"mean test auc\", \"mean cv auc\"], axis=0, ascending=False)"
   ]
  },
  {
   "cell_type": "code",
   "execution_count": 98,
   "metadata": {
    "ExecuteTime": {
     "start_time": "2019-01-07T21:14:37.276Z"
    }
   },
   "outputs": [],
   "source": [
    "res_groupby_method = res.groupby(\"base_method\")\n",
    "res_analysis_table = res_groupby_method.agg({c : [\"mean\", \"std\"] for c in [\"mean train auc\", \"mean cv auc\", \"mean test auc\"]})"
   ]
  },
  {
   "cell_type": "code",
   "execution_count": 99,
   "metadata": {
    "ExecuteTime": {
     "start_time": "2019-01-07T21:14:37.282Z"
    }
   },
   "outputs": [],
   "source": [
    "out = res_analysis_table.sort_values([(\"mean test auc\", \"mean\"), (\"mean cv auc\", \"mean\")], axis=0, ascending=False)\n",
    "out.index.name = None"
   ]
  },
  {
   "cell_type": "code",
   "execution_count": 100,
   "metadata": {
    "ExecuteTime": {
     "start_time": "2019-01-07T21:14:37.288Z"
    }
   },
   "outputs": [],
   "source": [
    "index = pd.MultiIndex.from_product([[\"train auc\", \"cv auc\", \"test auc\"], [\"mean\", \"std\"]])\n",
    "out.columns = index"
   ]
  },
  {
   "cell_type": "code",
   "execution_count": 101,
   "metadata": {
    "ExecuteTime": {
     "start_time": "2019-01-07T21:14:37.293Z"
    }
   },
   "outputs": [
    {
     "data": {
      "text/html": [
       "<div>\n",
       "<style scoped>\n",
       "    .dataframe tbody tr th:only-of-type {\n",
       "        vertical-align: middle;\n",
       "    }\n",
       "\n",
       "    .dataframe tbody tr th {\n",
       "        vertical-align: top;\n",
       "    }\n",
       "\n",
       "    .dataframe thead tr th {\n",
       "        text-align: left;\n",
       "    }\n",
       "</style>\n",
       "<table border=\"1\" class=\"dataframe\">\n",
       "  <thead>\n",
       "    <tr>\n",
       "      <th></th>\n",
       "      <th colspan=\"2\" halign=\"left\">train auc</th>\n",
       "      <th colspan=\"2\" halign=\"left\">cv auc</th>\n",
       "      <th colspan=\"2\" halign=\"left\">test auc</th>\n",
       "    </tr>\n",
       "    <tr>\n",
       "      <th></th>\n",
       "      <th>mean</th>\n",
       "      <th>std</th>\n",
       "      <th>mean</th>\n",
       "      <th>std</th>\n",
       "      <th>mean</th>\n",
       "      <th>std</th>\n",
       "    </tr>\n",
       "  </thead>\n",
       "  <tbody>\n",
       "    <tr>\n",
       "      <th>countvec_svc_full</th>\n",
       "      <td>1.000000</td>\n",
       "      <td>0.000000</td>\n",
       "      <td>0.737302</td>\n",
       "      <td>0.043687</td>\n",
       "      <td>0.788000</td>\n",
       "      <td>0.064504</td>\n",
       "    </tr>\n",
       "    <tr>\n",
       "      <th>countvec_svc_specific</th>\n",
       "      <td>0.999858</td>\n",
       "      <td>0.000201</td>\n",
       "      <td>0.773413</td>\n",
       "      <td>0.067830</td>\n",
       "      <td>0.754286</td>\n",
       "      <td>0.059625</td>\n",
       "    </tr>\n",
       "    <tr>\n",
       "      <th>countvec_rf_full</th>\n",
       "      <td>0.999532</td>\n",
       "      <td>0.000377</td>\n",
       "      <td>0.714087</td>\n",
       "      <td>0.043839</td>\n",
       "      <td>0.751143</td>\n",
       "      <td>0.053427</td>\n",
       "    </tr>\n",
       "    <tr>\n",
       "      <th>tfidf_rf_full</th>\n",
       "      <td>0.999191</td>\n",
       "      <td>0.000374</td>\n",
       "      <td>0.665079</td>\n",
       "      <td>0.027228</td>\n",
       "      <td>0.748857</td>\n",
       "      <td>0.069645</td>\n",
       "    </tr>\n",
       "    <tr>\n",
       "      <th>countvec_rf_specific</th>\n",
       "      <td>0.999787</td>\n",
       "      <td>0.000194</td>\n",
       "      <td>0.647222</td>\n",
       "      <td>0.036824</td>\n",
       "      <td>0.748571</td>\n",
       "      <td>0.064957</td>\n",
       "    </tr>\n",
       "    <tr>\n",
       "      <th>tfidf_rf_specific</th>\n",
       "      <td>0.999518</td>\n",
       "      <td>0.000373</td>\n",
       "      <td>0.611111</td>\n",
       "      <td>0.075511</td>\n",
       "      <td>0.715429</td>\n",
       "      <td>0.059087</td>\n",
       "    </tr>\n",
       "    <tr>\n",
       "      <th>countvec_svc_full_best_params</th>\n",
       "      <td>1.000000</td>\n",
       "      <td>NaN</td>\n",
       "      <td>0.746032</td>\n",
       "      <td>NaN</td>\n",
       "      <td>0.680000</td>\n",
       "      <td>NaN</td>\n",
       "    </tr>\n",
       "    <tr>\n",
       "      <th>tfidf_svc_specific</th>\n",
       "      <td>0.999972</td>\n",
       "      <td>0.000063</td>\n",
       "      <td>0.612302</td>\n",
       "      <td>0.040012</td>\n",
       "      <td>0.490286</td>\n",
       "      <td>0.086958</td>\n",
       "    </tr>\n",
       "    <tr>\n",
       "      <th>tfidf_svc_full</th>\n",
       "      <td>0.833333</td>\n",
       "      <td>0.288675</td>\n",
       "      <td>0.529167</td>\n",
       "      <td>0.068083</td>\n",
       "      <td>0.466857</td>\n",
       "      <td>0.093167</td>\n",
       "    </tr>\n",
       "  </tbody>\n",
       "</table>\n",
       "</div>"
      ],
      "text/plain": [
       "                              train auc              cv auc            \\\n",
       "                                   mean       std      mean       std   \n",
       "countvec_svc_full              1.000000  0.000000  0.737302  0.043687   \n",
       "countvec_svc_specific          0.999858  0.000201  0.773413  0.067830   \n",
       "countvec_rf_full               0.999532  0.000377  0.714087  0.043839   \n",
       "tfidf_rf_full                  0.999191  0.000374  0.665079  0.027228   \n",
       "countvec_rf_specific           0.999787  0.000194  0.647222  0.036824   \n",
       "tfidf_rf_specific              0.999518  0.000373  0.611111  0.075511   \n",
       "countvec_svc_full_best_params  1.000000       NaN  0.746032       NaN   \n",
       "tfidf_svc_specific             0.999972  0.000063  0.612302  0.040012   \n",
       "tfidf_svc_full                 0.833333  0.288675  0.529167  0.068083   \n",
       "\n",
       "                               test auc            \n",
       "                                   mean       std  \n",
       "countvec_svc_full              0.788000  0.064504  \n",
       "countvec_svc_specific          0.754286  0.059625  \n",
       "countvec_rf_full               0.751143  0.053427  \n",
       "tfidf_rf_full                  0.748857  0.069645  \n",
       "countvec_rf_specific           0.748571  0.064957  \n",
       "tfidf_rf_specific              0.715429  0.059087  \n",
       "countvec_svc_full_best_params  0.680000       NaN  \n",
       "tfidf_svc_specific             0.490286  0.086958  \n",
       "tfidf_svc_full                 0.466857  0.093167  "
      ]
     },
     "execution_count": 101,
     "metadata": {},
     "output_type": "execute_result"
    }
   ],
   "source": [
    "out"
   ]
  },
  {
   "cell_type": "code",
   "execution_count": 102,
   "metadata": {
    "ExecuteTime": {
     "start_time": "2019-01-07T21:14:37.300Z"
    }
   },
   "outputs": [],
   "source": [
    "save_html(df=out,\n",
    "          name=\"summary_countvec_tfidf_results_default\",\n",
    "          out=OUTPUT_PATH,\n",
    "          index=True)"
   ]
  },
  {
   "cell_type": "markdown",
   "metadata": {},
   "source": [
    "#### Pretrained word embeddings + neural network "
   ]
  },
  {
   "cell_type": "markdown",
   "metadata": {},
   "source": [
    "The below is heavily based on these two Kaggle Kernels:\n",
    "- [Processing text when using word embeddings](https://www.kaggle.com/christofhenkel/how-to-preprocessing-when-using-embeddings/notebook)\n",
    "- [Comparing word embeddings](https://www.kaggle.com/sudalairajkumar/a-look-at-different-embeddings/notebook)"
   ]
  },
  {
   "cell_type": "markdown",
   "metadata": {},
   "source": [
    "##### Config"
   ]
  },
  {
   "cell_type": "code",
   "execution_count": 103,
   "metadata": {
    "ExecuteTime": {
     "start_time": "2019-01-07T21:14:37.306Z"
    }
   },
   "outputs": [],
   "source": [
    "text_len = data[\"text\"].apply(lambda x: len(x.split(\" \")))\n",
    "text_para_len = data[\"text\"].apply(lambda x: len(x.split(\"\\n\")))"
   ]
  },
  {
   "cell_type": "code",
   "execution_count": 104,
   "metadata": {
    "ExecuteTime": {
     "start_time": "2019-01-07T21:14:37.312Z"
    }
   },
   "outputs": [
    {
     "name": "stdout",
     "output_type": "stream",
     "text": [
      "There are 16085 distinct words in the blog posts.\n",
      "\n",
      "Summary statistics on the number of words across all blog posts:\n",
      "   Mean: 1992.43\n",
      "   Median: 1683.50\n",
      "   Maximum: 7661\n",
      "   Minimum: 210\n",
      "   Standard deviation: 1266.78\n",
      "\n",
      "Summary statistics on the number of paragraphs across all blog posts:\n",
      "   Mean: 48.55\n",
      "   Median: 41.00\n",
      "   Maximum: 166\n",
      "   Minimum: 9\n",
      "   Standard deviation: 27.78\n"
     ]
    }
   ],
   "source": [
    "print(f\"There are {len(vocab)} distinct words in the blog posts.\")\n",
    "print()\n",
    "print(\"Summary statistics on the number of words across all blog posts:\")\n",
    "print(f\"   Mean: {text_len.mean():.2f}\")\n",
    "print(f\"   Median: {text_len.median():.2f}\")\n",
    "print(f\"   Maximum: {text_len.max()}\")\n",
    "print(f\"   Minimum: {text_len.min()}\")\n",
    "print(f\"   Standard deviation: {text_len.std():.2f}\")\n",
    "print()\n",
    "print(\"Summary statistics on the number of paragraphs across all blog posts:\")\n",
    "print(f\"   Mean: {text_para_len.mean():.2f}\")\n",
    "print(f\"   Median: {text_para_len.median():.2f}\")\n",
    "print(f\"   Maximum: {text_para_len.max()}\")\n",
    "print(f\"   Minimum: {text_para_len.min()}\")\n",
    "print(f\"   Standard deviation: {text_para_len.std():.2f}\")"
   ]
  },
  {
   "cell_type": "code",
   "execution_count": 105,
   "metadata": {
    "ExecuteTime": {
     "start_time": "2019-01-07T21:14:37.317Z"
    }
   },
   "outputs": [],
   "source": [
    "MAX_FEATURES = 10000 # how many unique words to use (i.e num rows in embedding vector)\n",
    "MAX_LEN = 1000 # max number of words in a blog post\n",
    "EMBEDDING_PATH = Path.cwd() / \"resources\" / \"embeddings\"\n",
    "EMBEDDING_FOLDER = EMBEDDING_PATH / \"glove.840B.300d\"\n",
    "SPECIFIC_ONLY = False\n",
    "L2_REG = None"
   ]
  },
  {
   "cell_type": "markdown",
   "metadata": {},
   "source": [
    "##### Read embeddings"
   ]
  },
  {
   "cell_type": "code",
   "execution_count": 106,
   "metadata": {
    "ExecuteTime": {
     "start_time": "2019-01-07T21:14:37.322Z"
    }
   },
   "outputs": [],
   "source": [
    "def get_coefs(word, *arr):\n",
    "    return word, np.asarray(arr, dtype=\"float32\")"
   ]
  },
  {
   "cell_type": "markdown",
   "metadata": {},
   "source": [
    "PLEASE DOWNLOAD THE GLOVE WORD EMBEDDINGS, FOR EXAMPLE FROM [HERE](https://www.kaggle.com/c/quora-insincere-questions-classification/data) BEFORE RUNNING THIS."
   ]
  },
  {
   "cell_type": "code",
   "execution_count": 107,
   "metadata": {
    "ExecuteTime": {
     "start_time": "2019-01-07T21:14:37.329Z"
    }
   },
   "outputs": [],
   "source": [
    "if (EMBEDDING_FOLDER / \"embeddings_index.pkl\").is_file():\n",
    "    with open(EMBEDDING_FOLDER / \"embeddings_index.pkl\", \"rb\") as handle:\n",
    "        embeddings_index = pickle.load(handle)\n",
    "else:\n",
    "    embeddings_index = dict(get_coefs(*o.split(\" \")) for o in open(EMBEDDING_FOLDER / \"glove.840B.300d.txt\"))\n",
    "    with open(EMBEDDING_FOLDER / \"embeddings_index.pkl\", \"wb\") as handle:\n",
    "        pickle.dump(embeddings_index, handle, protocol=pickle.HIGHEST_PROTOCOL)"
   ]
  },
  {
   "cell_type": "markdown",
   "metadata": {},
   "source": [
    "##### Preprocess the text data to work well with embeddings"
   ]
  },
  {
   "cell_type": "code",
   "execution_count": 108,
   "metadata": {
    "ExecuteTime": {
     "start_time": "2019-01-07T21:14:37.334Z"
    }
   },
   "outputs": [],
   "source": [
    "X_train = pd.Series(X_train_text.copy())\n",
    "X_test = pd.Series(X_test_text.copy())"
   ]
  },
  {
   "cell_type": "code",
   "execution_count": 109,
   "metadata": {
    "ExecuteTime": {
     "start_time": "2019-01-07T21:14:37.340Z"
    }
   },
   "outputs": [],
   "source": [
    "X_train = X_train.apply(lambda x: x.lower())\n",
    "X_train = X_train.apply(lambda x: clean_apostrophe(x))\n",
    "X_test = X_train.apply(lambda x: fix_punctuation(x))\n",
    "X_train = X_train.apply(lambda x: fix_specific(x))"
   ]
  },
  {
   "cell_type": "markdown",
   "metadata": {},
   "source": [
    "Apply the same transformations to the test set"
   ]
  },
  {
   "cell_type": "code",
   "execution_count": 110,
   "metadata": {
    "ExecuteTime": {
     "start_time": "2019-01-07T21:14:37.348Z"
    }
   },
   "outputs": [],
   "source": [
    "X_test = X_test.apply(lambda x: x.lower())\n",
    "X_test = X_test.apply(lambda x: clean_apostrophe(x))\n",
    "X_test = X_test.apply(lambda x: fix_punctuation(x))\n",
    "X_test = X_test.apply(lambda x: fix_specific(x))"
   ]
  },
  {
   "cell_type": "markdown",
   "metadata": {},
   "source": [
    "##### Tokenize the texts "
   ]
  },
  {
   "cell_type": "code",
   "execution_count": 111,
   "metadata": {
    "ExecuteTime": {
     "start_time": "2019-01-07T21:14:37.354Z"
    }
   },
   "outputs": [],
   "source": [
    "tokenizer = Tokenizer(num_words=MAX_FEATURES)\n",
    "tokenizer.fit_on_texts(list(X_train))"
   ]
  },
  {
   "cell_type": "code",
   "execution_count": 112,
   "metadata": {
    "ExecuteTime": {
     "start_time": "2019-01-07T21:14:37.360Z"
    }
   },
   "outputs": [],
   "source": [
    "X_train = tokenizer.texts_to_sequences(X_train_text)\n",
    "X_test = tokenizer.texts_to_sequences(X_test_text)"
   ]
  },
  {
   "cell_type": "code",
   "execution_count": 113,
   "metadata": {
    "ExecuteTime": {
     "start_time": "2019-01-07T21:14:37.368Z"
    }
   },
   "outputs": [],
   "source": [
    "X_train = pad_sequences(X_train, maxlen=MAX_LEN)\n",
    "X_test = pad_sequences(X_test, maxlen=MAX_LEN)"
   ]
  },
  {
   "cell_type": "markdown",
   "metadata": {},
   "source": [
    "##### Process embeddings into a matrix of size `(max_features, embed_size)`"
   ]
  },
  {
   "cell_type": "code",
   "execution_count": 114,
   "metadata": {
    "ExecuteTime": {
     "start_time": "2019-01-07T21:14:37.375Z"
    }
   },
   "outputs": [],
   "source": [
    "all_embs = np.stack(embeddings_index.values())\n",
    "emb_mean, emb_std = all_embs.mean(), all_embs.std()\n",
    "embed_size = all_embs.shape[1]"
   ]
  },
  {
   "cell_type": "code",
   "execution_count": 115,
   "metadata": {
    "ExecuteTime": {
     "start_time": "2019-01-07T21:14:37.383Z"
    }
   },
   "outputs": [],
   "source": [
    "word_index = tokenizer.word_index\n",
    "\n",
    "if SPECIFIC_ONLY: word_index = {word : i for word, i in word_index.items() if word in specific_vocab}"
   ]
  },
  {
   "cell_type": "code",
   "execution_count": 116,
   "metadata": {
    "ExecuteTime": {
     "start_time": "2019-01-07T21:14:37.392Z"
    }
   },
   "outputs": [],
   "source": [
    "nb_words = min(MAX_FEATURES, len(tokenizer.word_index))\n",
    "embedding_matrix = np.random.normal(emb_mean, emb_std, (nb_words, embed_size))\n",
    "for word, i in word_index.items():\n",
    "    if i >= MAX_FEATURES: continue\n",
    "    embedding_vector = embeddings_index.get(word)\n",
    "    if embedding_vector is not None: embedding_matrix[i] = embedding_vector"
   ]
  },
  {
   "cell_type": "markdown",
   "metadata": {},
   "source": [
    "##### Define model"
   ]
  },
  {
   "cell_type": "code",
   "execution_count": 117,
   "metadata": {
    "ExecuteTime": {
     "start_time": "2019-01-07T21:14:37.400Z"
    }
   },
   "outputs": [],
   "source": [
    "from keras import regularizers\n",
    "reg = regularizers.l2(L2_REG) if L2_REG else None"
   ]
  },
  {
   "cell_type": "code",
   "execution_count": 118,
   "metadata": {
    "ExecuteTime": {
     "start_time": "2019-01-07T21:14:37.408Z"
    }
   },
   "outputs": [
    {
     "name": "stdout",
     "output_type": "stream",
     "text": [
      "_________________________________________________________________\n",
      "Layer (type)                 Output Shape              Param #   \n",
      "=================================================================\n",
      "input_1 (InputLayer)         (None, 1000)              0         \n",
      "_________________________________________________________________\n",
      "embedding_1 (Embedding)      (None, 1000, 300)         3000000   \n",
      "_________________________________________________________________\n",
      "bidirectional_1 (Bidirection (None, 1000, 128)         140160    \n",
      "_________________________________________________________________\n",
      "global_max_pooling1d_1 (Glob (None, 128)               0         \n",
      "_________________________________________________________________\n",
      "dense_1 (Dense)              (None, 16)                2064      \n",
      "_________________________________________________________________\n",
      "dropout_1 (Dropout)          (None, 16)                0         \n",
      "_________________________________________________________________\n",
      "dense_2 (Dense)              (None, 1)                 17        \n",
      "=================================================================\n",
      "Total params: 3,142,241\n",
      "Trainable params: 3,142,241\n",
      "Non-trainable params: 0\n",
      "_________________________________________________________________\n",
      "None\n"
     ]
    }
   ],
   "source": [
    "inp = Input(shape=(MAX_LEN,))\n",
    "x = Embedding(MAX_FEATURES, embed_size, weights=[embedding_matrix], embeddings_regularizer=reg)(inp)\n",
    "x = Bidirectional(GRU(64, return_sequences=True, kernel_regularizer=reg))(x)\n",
    "x = GlobalMaxPool1D()(x)\n",
    "x = Dense(16, activation=\"relu\", kernel_regularizer=reg)(x)\n",
    "x = Dropout(0.6)(x)\n",
    "x = Dense(1, activation=\"sigmoid\")(x)\n",
    "\n",
    "\n",
    "model = Model(inputs=inp, outputs=x)\n",
    "model.compile(loss=\"binary_crossentropy\", optimizer=\"adam\", metrics=[\"accuracy\"])\n",
    "print(model.summary())"
   ]
  },
  {
   "cell_type": "markdown",
   "metadata": {
    "ExecuteTime": {
     "end_time": "2018-11-26T22:20:54.207153Z",
     "start_time": "2018-11-26T22:20:54.193978Z"
    }
   },
   "source": [
    "##### Fit model"
   ]
  },
  {
   "cell_type": "code",
   "execution_count": 119,
   "metadata": {
    "ExecuteTime": {
     "start_time": "2019-01-07T21:14:37.414Z"
    }
   },
   "outputs": [],
   "source": [
    "from keras.callbacks import EarlyStopping"
   ]
  },
  {
   "cell_type": "code",
   "execution_count": 121,
   "metadata": {
    "ExecuteTime": {
     "start_time": "2019-01-07T21:14:37.421Z"
    }
   },
   "outputs": [
    {
     "name": "stdout",
     "output_type": "stream",
     "text": [
      "Train on 91 samples, validate on 39 samples\n",
      "Epoch 1/10\n",
      "91/91 [==============================] - 11s 116ms/step - loss: 0.7199 - acc: 0.5385 - val_loss: 0.6502 - val_acc: 0.6410\n",
      "Epoch 2/10\n",
      "91/91 [==============================] - 11s 120ms/step - loss: 0.5842 - acc: 0.6703 - val_loss: 0.6418 - val_acc: 0.6410\n",
      "Epoch 3/10\n",
      "91/91 [==============================] - 10s 114ms/step - loss: 0.5512 - acc: 0.6264 - val_loss: 0.6419 - val_acc: 0.6410\n",
      "Epoch 4/10\n",
      "91/91 [==============================] - 10s 114ms/step - loss: 0.4729 - acc: 0.8352 - val_loss: 0.6459 - val_acc: 0.6667\n"
     ]
    },
    {
     "data": {
      "text/plain": [
       "<keras.callbacks.History at 0x7fc3f2bd6080>"
      ]
     },
     "execution_count": 121,
     "metadata": {},
     "output_type": "execute_result"
    }
   ],
   "source": [
    "model.fit(X_train, y_train, batch_size=16, epochs=10,\n",
    "          validation_data=(X_test, y_test), callbacks=[EarlyStopping(min_delta=0.005, patience=2, restore_best_weights=True)])"
   ]
  },
  {
   "cell_type": "markdown",
   "metadata": {},
   "source": [
    "##### Evaluate model"
   ]
  },
  {
   "cell_type": "code",
   "execution_count": 122,
   "metadata": {
    "ExecuteTime": {
     "start_time": "2019-01-07T21:14:37.427Z"
    }
   },
   "outputs": [],
   "source": [
    "train_auc = metrics.roc_auc_score(y_train, model.predict(X_train))\n",
    "test_auc = metrics.roc_auc_score(y_test, model.predict(X_test))"
   ]
  },
  {
   "cell_type": "code",
   "execution_count": 123,
   "metadata": {
    "ExecuteTime": {
     "start_time": "2019-01-07T21:14:37.433Z"
    }
   },
   "outputs": [],
   "source": [
    "results_keras = pd.DataFrame({\"method\": f\"embeddings keras v{SEED}\", \"train auc\": train_auc, \"test auc\": test_auc},\n",
    "                             index=[0])"
   ]
  },
  {
   "cell_type": "code",
   "execution_count": 124,
   "metadata": {
    "ExecuteTime": {
     "start_time": "2019-01-07T21:14:37.439Z"
    }
   },
   "outputs": [
    {
     "data": {
      "text/html": [
       "<div>\n",
       "<style scoped>\n",
       "    .dataframe tbody tr th:only-of-type {\n",
       "        vertical-align: middle;\n",
       "    }\n",
       "\n",
       "    .dataframe tbody tr th {\n",
       "        vertical-align: top;\n",
       "    }\n",
       "\n",
       "    .dataframe thead th {\n",
       "        text-align: right;\n",
       "    }\n",
       "</style>\n",
       "<table border=\"1\" class=\"dataframe\">\n",
       "  <thead>\n",
       "    <tr style=\"text-align: right;\">\n",
       "      <th></th>\n",
       "      <th>method</th>\n",
       "      <th>train auc</th>\n",
       "      <th>test auc</th>\n",
       "    </tr>\n",
       "  </thead>\n",
       "  <tbody>\n",
       "    <tr>\n",
       "      <th>0</th>\n",
       "      <td>embeddings keras v1</td>\n",
       "      <td>0.992585</td>\n",
       "      <td>0.557143</td>\n",
       "    </tr>\n",
       "  </tbody>\n",
       "</table>\n",
       "</div>"
      ],
      "text/plain": [
       "                method  train auc  test auc\n",
       "0  embeddings keras v1   0.992585  0.557143"
      ]
     },
     "execution_count": 124,
     "metadata": {},
     "output_type": "execute_result"
    }
   ],
   "source": [
    "results_keras"
   ]
  },
  {
   "cell_type": "code",
   "execution_count": 125,
   "metadata": {
    "ExecuteTime": {
     "start_time": "2019-01-07T21:14:37.446Z"
    }
   },
   "outputs": [
    {
     "name": "stdout",
     "output_type": "stream",
     "text": [
      "Saved results to file at: /home/steffen/projects/medium-classifier/reports/images-and-tables/raw/embeddings_keras/embeddings_keras_v1.pkl\n"
     ]
    }
   ],
   "source": [
    "save_pickle(results_keras, OUTPUT_PATH)"
   ]
  },
  {
   "cell_type": "markdown",
   "metadata": {},
   "source": [
    "##### Collect results and save for report"
   ]
  },
  {
   "cell_type": "code",
   "execution_count": 126,
   "metadata": {
    "ExecuteTime": {
     "start_time": "2019-01-07T21:14:37.453Z"
    }
   },
   "outputs": [],
   "source": [
    "list_keras = read_results(OUTPUT_PATH / \"raw\", \"*keras*.pkl\")"
   ]
  },
  {
   "cell_type": "code",
   "execution_count": 127,
   "metadata": {
    "ExecuteTime": {
     "start_time": "2019-01-07T21:14:37.460Z"
    }
   },
   "outputs": [],
   "source": [
    "full_results_keras = pd.concat(list_keras)"
   ]
  },
  {
   "cell_type": "code",
   "execution_count": 128,
   "metadata": {
    "ExecuteTime": {
     "start_time": "2019-01-07T21:14:37.466Z"
    }
   },
   "outputs": [
    {
     "data": {
      "text/html": [
       "<div>\n",
       "<style scoped>\n",
       "    .dataframe tbody tr th:only-of-type {\n",
       "        vertical-align: middle;\n",
       "    }\n",
       "\n",
       "    .dataframe tbody tr th {\n",
       "        vertical-align: top;\n",
       "    }\n",
       "\n",
       "    .dataframe thead th {\n",
       "        text-align: right;\n",
       "    }\n",
       "</style>\n",
       "<table border=\"1\" class=\"dataframe\">\n",
       "  <thead>\n",
       "    <tr style=\"text-align: right;\">\n",
       "      <th></th>\n",
       "      <th>method</th>\n",
       "      <th>train auc</th>\n",
       "      <th>test auc</th>\n",
       "      <th>base_method</th>\n",
       "    </tr>\n",
       "  </thead>\n",
       "  <tbody>\n",
       "    <tr>\n",
       "      <th>0</th>\n",
       "      <td>embeddings keras v1</td>\n",
       "      <td>0.992585</td>\n",
       "      <td>0.557143</td>\n",
       "      <td>embeddings_keras</td>\n",
       "    </tr>\n",
       "    <tr>\n",
       "      <th>0</th>\n",
       "      <td>embeddings keras v2</td>\n",
       "      <td>0.882415</td>\n",
       "      <td>0.494286</td>\n",
       "      <td>embeddings_keras</td>\n",
       "    </tr>\n",
       "    <tr>\n",
       "      <th>0</th>\n",
       "      <td>embeddings keras v3</td>\n",
       "      <td>0.952860</td>\n",
       "      <td>0.668571</td>\n",
       "      <td>embeddings_keras</td>\n",
       "    </tr>\n",
       "    <tr>\n",
       "      <th>0</th>\n",
       "      <td>embeddings keras v4</td>\n",
       "      <td>0.930614</td>\n",
       "      <td>0.677143</td>\n",
       "      <td>embeddings_keras</td>\n",
       "    </tr>\n",
       "    <tr>\n",
       "      <th>0</th>\n",
       "      <td>embeddings keras v5</td>\n",
       "      <td>0.969280</td>\n",
       "      <td>0.608571</td>\n",
       "      <td>embeddings_keras</td>\n",
       "    </tr>\n",
       "  </tbody>\n",
       "</table>\n",
       "</div>"
      ],
      "text/plain": [
       "                method  train auc  test auc       base_method\n",
       "0  embeddings keras v1   0.992585  0.557143  embeddings_keras\n",
       "0  embeddings keras v2   0.882415  0.494286  embeddings_keras\n",
       "0  embeddings keras v3   0.952860  0.668571  embeddings_keras\n",
       "0  embeddings keras v4   0.930614  0.677143  embeddings_keras\n",
       "0  embeddings keras v5   0.969280  0.608571  embeddings_keras"
      ]
     },
     "execution_count": 128,
     "metadata": {},
     "output_type": "execute_result"
    }
   ],
   "source": [
    "full_results_keras"
   ]
  },
  {
   "cell_type": "code",
   "execution_count": 129,
   "metadata": {
    "ExecuteTime": {
     "start_time": "2019-01-07T21:14:37.473Z"
    }
   },
   "outputs": [],
   "source": [
    "save_html(df=full_results_keras.drop(\"base_method\", axis=1).sort_values([\"test auc\"], axis=0, ascending=False),\n",
    "          name=\"keras_results_all_appendix\",\n",
    "          out=OUTPUT_PATH,\n",
    "          index=False)"
   ]
  },
  {
   "cell_type": "markdown",
   "metadata": {},
   "source": [
    "Aggregate results and save for report"
   ]
  },
  {
   "cell_type": "code",
   "execution_count": 130,
   "metadata": {
    "ExecuteTime": {
     "start_time": "2019-01-07T21:14:37.481Z"
    }
   },
   "outputs": [],
   "source": [
    "res = full_results_keras.groupby(\"base_method\").agg({c : [\"mean\", \"std\"] for c in [\"train auc\", \"test auc\"]})"
   ]
  },
  {
   "cell_type": "code",
   "execution_count": 131,
   "metadata": {
    "ExecuteTime": {
     "start_time": "2019-01-07T21:14:37.486Z"
    }
   },
   "outputs": [],
   "source": [
    "out = res.sort_values([(\"test auc\", \"mean\")], axis=0, ascending=False)\n",
    "out.index.name = None"
   ]
  },
  {
   "cell_type": "code",
   "execution_count": 132,
   "metadata": {
    "ExecuteTime": {
     "start_time": "2019-01-07T21:14:37.491Z"
    }
   },
   "outputs": [],
   "source": [
    "index = pd.MultiIndex.from_product([[\"train auc\", \"test auc\"], [\"mean\", \"std\"]])\n",
    "out.columns = index"
   ]
  },
  {
   "cell_type": "code",
   "execution_count": 133,
   "metadata": {
    "ExecuteTime": {
     "start_time": "2019-01-07T21:14:37.499Z"
    }
   },
   "outputs": [
    {
     "data": {
      "text/html": [
       "<div>\n",
       "<style scoped>\n",
       "    .dataframe tbody tr th:only-of-type {\n",
       "        vertical-align: middle;\n",
       "    }\n",
       "\n",
       "    .dataframe tbody tr th {\n",
       "        vertical-align: top;\n",
       "    }\n",
       "\n",
       "    .dataframe thead tr th {\n",
       "        text-align: left;\n",
       "    }\n",
       "</style>\n",
       "<table border=\"1\" class=\"dataframe\">\n",
       "  <thead>\n",
       "    <tr>\n",
       "      <th></th>\n",
       "      <th colspan=\"2\" halign=\"left\">train auc</th>\n",
       "      <th colspan=\"2\" halign=\"left\">test auc</th>\n",
       "    </tr>\n",
       "    <tr>\n",
       "      <th></th>\n",
       "      <th>mean</th>\n",
       "      <th>std</th>\n",
       "      <th>mean</th>\n",
       "      <th>std</th>\n",
       "    </tr>\n",
       "  </thead>\n",
       "  <tbody>\n",
       "    <tr>\n",
       "      <th>embeddings_keras</th>\n",
       "      <td>0.945551</td>\n",
       "      <td>0.041946</td>\n",
       "      <td>0.601143</td>\n",
       "      <td>0.077026</td>\n",
       "    </tr>\n",
       "  </tbody>\n",
       "</table>\n",
       "</div>"
      ],
      "text/plain": [
       "                 train auc            test auc          \n",
       "                      mean       std      mean       std\n",
       "embeddings_keras  0.945551  0.041946  0.601143  0.077026"
      ]
     },
     "execution_count": 133,
     "metadata": {},
     "output_type": "execute_result"
    }
   ],
   "source": [
    "out"
   ]
  },
  {
   "cell_type": "code",
   "execution_count": 134,
   "metadata": {
    "ExecuteTime": {
     "start_time": "2019-01-07T21:14:37.503Z"
    }
   },
   "outputs": [],
   "source": [
    "save_html(df=out,\n",
    "          name=\"keras_results_summary\",\n",
    "          out=OUTPUT_PATH,\n",
    "          index=True)"
   ]
  },
  {
   "cell_type": "markdown",
   "metadata": {
    "heading_collapsed": true
   },
   "source": [
    "#### Language model + neural network"
   ]
  },
  {
   "cell_type": "markdown",
   "metadata": {},
   "source": [
    "IT IS HIGHLY RECOMMENDED TO USE A GPU TO RUN THE FOLLOWING. "
   ]
  },
  {
   "cell_type": "code",
   "execution_count": 136,
   "metadata": {
    "ExecuteTime": {
     "start_time": "2019-01-07T21:14:37.509Z"
    },
    "hidden": true
   },
   "outputs": [],
   "source": [
    "from fastai.datasets import URLs\n",
    "from fastai.text import TextList\n",
    "from fastai.basic_data import DatasetType\n",
    "from fastai.text.learner import text_classifier_learner\n",
    "from fastai.text.learner import language_model_learner"
   ]
  },
  {
   "cell_type": "code",
   "execution_count": 137,
   "metadata": {
    "ExecuteTime": {
     "start_time": "2019-01-07T21:14:37.516Z"
    },
    "hidden": true
   },
   "outputs": [],
   "source": [
    "PATH = MODEL_PATH / \"fastai\"\n",
    "if not PATH.is_dir():\n",
    "    PATH.mkdir(parents=True)"
   ]
  },
  {
   "cell_type": "code",
   "execution_count": 138,
   "metadata": {
    "ExecuteTime": {
     "start_time": "2019-01-07T21:14:37.522Z"
    },
    "hidden": true
   },
   "outputs": [],
   "source": [
    "MIN_N_TOKENS = 0\n",
    "BPTT = 1000\n",
    "MAX_LEN = 2000\n",
    "SPLIT_TEXTS = False"
   ]
  },
  {
   "cell_type": "markdown",
   "metadata": {
    "hidden": true
   },
   "source": [
    "Optionally, we split the long texts into chunks based on new line characters, train on those and put the results back together in the end"
   ]
  },
  {
   "cell_type": "code",
   "execution_count": 139,
   "metadata": {
    "ExecuteTime": {
     "start_time": "2019-01-07T21:14:37.532Z"
    },
    "hidden": true
   },
   "outputs": [
    {
     "name": "stdout",
     "output_type": "stream",
     "text": [
      "Summary statistics on the number of words across all blog posts:\n",
      "   Mean: 1992.43\n",
      "   Median: 1683.50\n",
      "   Maximum: 7661\n",
      "   Minimum: 210\n",
      "   Standard deviation: 1266.78\n"
     ]
    }
   ],
   "source": [
    "X_train_full = pd.DataFrame({\"text\": X_train_text, \"label\": y_train})\n",
    "X_test_full = pd.DataFrame({\"text\": X_test_text, \"label\": y_test})\n",
    "\n",
    "if SPLIT_TEXTS:\n",
    "    X_train_full_exploded = explode_texts(X_train_full)\n",
    "    X_test_full_exploded = explode_texts(X_test_full)\n",
    "\n",
    "    X_train_full_exploded[\"is_test\"] = False\n",
    "    X_test_full_exploded[\"is_test\"] = True\n",
    "\n",
    "    data_proc = pd.concat([X_train_full_exploded, X_test_full_exploded], axis=0)\n",
    "else:\n",
    "    X_train_full[\"is_test\"] = False\n",
    "    X_test_full[\"is_test\"] = True\n",
    "    data_proc = pd.concat([X_train_full, X_test_full], axis=0)\n",
    "    \n",
    "n_tokens = data_proc[\"text\"].apply(lambda x: len(x.split(\" \")))\n",
    "\n",
    "print(\"Summary statistics on the number of words across all blog posts:\")\n",
    "print(f\"   Mean: {n_tokens.mean():.2f}\")\n",
    "print(f\"   Median: {n_tokens.median():.2f}\")\n",
    "print(f\"   Maximum: {n_tokens.max()}\")\n",
    "print(f\"   Minimum: {n_tokens.min()}\")\n",
    "print(f\"   Standard deviation: {n_tokens.std():.2f}\")"
   ]
  },
  {
   "cell_type": "code",
   "execution_count": 140,
   "metadata": {
    "ExecuteTime": {
     "start_time": "2019-01-07T21:14:37.540Z"
    },
    "hidden": true
   },
   "outputs": [
    {
     "data": {
      "text/html": [
       "<div>\n",
       "<style scoped>\n",
       "    .dataframe tbody tr th:only-of-type {\n",
       "        vertical-align: middle;\n",
       "    }\n",
       "\n",
       "    .dataframe tbody tr th {\n",
       "        vertical-align: top;\n",
       "    }\n",
       "\n",
       "    .dataframe thead th {\n",
       "        text-align: right;\n",
       "    }\n",
       "</style>\n",
       "<table border=\"1\" class=\"dataframe\">\n",
       "  <thead>\n",
       "    <tr style=\"text-align: right;\">\n",
       "      <th></th>\n",
       "      <th>text</th>\n",
       "      <th>label</th>\n",
       "      <th>is_test</th>\n",
       "    </tr>\n",
       "  </thead>\n",
       "  <tbody>\n",
       "    <tr>\n",
       "      <th>0</th>\n",
       "      <td>There were many advances in Deep Learning and ...</td>\n",
       "      <td>0</td>\n",
       "      <td>False</td>\n",
       "    </tr>\n",
       "    <tr>\n",
       "      <th>1</th>\n",
       "      <td>A bit long, but I think it might help people u...</td>\n",
       "      <td>0</td>\n",
       "      <td>False</td>\n",
       "    </tr>\n",
       "    <tr>\n",
       "      <th>2</th>\n",
       "      <td>Update: This article is part of a series. Chec...</td>\n",
       "      <td>0</td>\n",
       "      <td>False</td>\n",
       "    </tr>\n",
       "    <tr>\n",
       "      <th>3</th>\n",
       "      <td>By Bar Ifrach\\nAt Airbnb we seek to match peop...</td>\n",
       "      <td>1</td>\n",
       "      <td>False</td>\n",
       "    </tr>\n",
       "    <tr>\n",
       "      <th>4</th>\n",
       "      <td>Last year I set a goal to learn something new ...</td>\n",
       "      <td>0</td>\n",
       "      <td>False</td>\n",
       "    </tr>\n",
       "  </tbody>\n",
       "</table>\n",
       "</div>"
      ],
      "text/plain": [
       "                                                text  label  is_test\n",
       "0  There were many advances in Deep Learning and ...      0    False\n",
       "1  A bit long, but I think it might help people u...      0    False\n",
       "2  Update: This article is part of a series. Chec...      0    False\n",
       "3  By Bar Ifrach\\nAt Airbnb we seek to match peop...      1    False\n",
       "4  Last year I set a goal to learn something new ...      0    False"
      ]
     },
     "execution_count": 140,
     "metadata": {},
     "output_type": "execute_result"
    }
   ],
   "source": [
    "data_proc.head()"
   ]
  },
  {
   "cell_type": "code",
   "execution_count": 141,
   "metadata": {
    "ExecuteTime": {
     "start_time": "2019-01-07T21:14:37.547Z"
    },
    "hidden": true
   },
   "outputs": [
    {
     "data": {
      "text/plain": [
       "(130, 3)"
      ]
     },
     "execution_count": 141,
     "metadata": {},
     "output_type": "execute_result"
    }
   ],
   "source": [
    "data_proc.shape"
   ]
  },
  {
   "cell_type": "markdown",
   "metadata": {
    "hidden": true
   },
   "source": [
    "##### Train and Evaluate the Language Model (Metric : Accuracy)"
   ]
  },
  {
   "cell_type": "code",
   "execution_count": null,
   "metadata": {
    "ExecuteTime": {
     "start_time": "2019-01-07T21:14:37.553Z"
    },
    "hidden": true
   },
   "outputs": [],
   "source": [
    "data_lm = (TextList.from_df(df=data_proc, path=PATH, cols=\"text\")\n",
    "             .random_split_by_pct(0.2)\n",
    "             .label_for_lm()\n",
    "             .databunch())"
   ]
  },
  {
   "cell_type": "code",
   "execution_count": null,
   "metadata": {
    "ExecuteTime": {
     "start_time": "2019-01-07T21:14:37.558Z"
    },
    "hidden": true
   },
   "outputs": [],
   "source": [
    "learn = language_model_learner(data_lm, pretrained_model=URLs.WT103, bptt=BPTT, drop_mult=0.5)"
   ]
  },
  {
   "cell_type": "code",
   "execution_count": null,
   "metadata": {
    "ExecuteTime": {
     "start_time": "2019-01-07T21:14:37.565Z"
    },
    "hidden": true
   },
   "outputs": [],
   "source": [
    "learn.lr_find()\n",
    "learn.recorder.plot(skip_end=15)"
   ]
  },
  {
   "cell_type": "code",
   "execution_count": null,
   "metadata": {
    "ExecuteTime": {
     "start_time": "2019-01-07T21:14:37.571Z"
    },
    "hidden": true
   },
   "outputs": [],
   "source": [
    "lr = 5e-2"
   ]
  },
  {
   "cell_type": "code",
   "execution_count": null,
   "metadata": {
    "ExecuteTime": {
     "start_time": "2019-01-07T21:14:37.577Z"
    },
    "hidden": true
   },
   "outputs": [],
   "source": [
    "learn.fit_one_cycle(2, lr, moms=(0.8, 0.7))"
   ]
  },
  {
   "cell_type": "code",
   "execution_count": null,
   "metadata": {
    "ExecuteTime": {
     "start_time": "2019-01-07T21:14:37.583Z"
    },
    "hidden": true
   },
   "outputs": [],
   "source": [
    "learn.save(\"lm_fit_head\")"
   ]
  },
  {
   "cell_type": "code",
   "execution_count": null,
   "metadata": {
    "ExecuteTime": {
     "start_time": "2019-01-07T21:14:37.587Z"
    },
    "hidden": true
   },
   "outputs": [],
   "source": [
    "learn.load(\"lm_fit_head\");"
   ]
  },
  {
   "cell_type": "code",
   "execution_count": null,
   "metadata": {
    "ExecuteTime": {
     "start_time": "2019-01-07T21:14:37.593Z"
    },
    "hidden": true
   },
   "outputs": [],
   "source": [
    "learn.unfreeze()\n",
    "learn.fit_one_cycle(4, lr/10, moms=(0.8, 0.7))"
   ]
  },
  {
   "cell_type": "code",
   "execution_count": null,
   "metadata": {
    "ExecuteTime": {
     "start_time": "2019-01-07T21:14:37.599Z"
    },
    "hidden": true
   },
   "outputs": [],
   "source": [
    "learn.save(\"lm_fine_tuned\")"
   ]
  },
  {
   "cell_type": "code",
   "execution_count": null,
   "metadata": {
    "ExecuteTime": {
     "start_time": "2019-01-07T21:14:37.604Z"
    },
    "hidden": true
   },
   "outputs": [],
   "source": [
    "learn.save_encoder(\"lm_fine_tuned_enc\")"
   ]
  },
  {
   "cell_type": "markdown",
   "metadata": {
    "heading_collapsed": true,
    "hidden": true
   },
   "source": [
    "##### Train and Evaluate the Classifier (Metric = ROC AUC)"
   ]
  },
  {
   "cell_type": "markdown",
   "metadata": {
    "hidden": true
   },
   "source": [
    "###### Setup"
   ]
  },
  {
   "cell_type": "code",
   "execution_count": null,
   "metadata": {
    "ExecuteTime": {
     "start_time": "2019-01-07T21:14:37.613Z"
    },
    "hidden": true
   },
   "outputs": [],
   "source": [
    "clf_df = data_proc.copy()[n_tokens >= MIN_N_TOKENS]"
   ]
  },
  {
   "cell_type": "code",
   "execution_count": null,
   "metadata": {
    "ExecuteTime": {
     "start_time": "2019-01-07T21:14:37.619Z"
    },
    "hidden": true
   },
   "outputs": [],
   "source": [
    "clf_df.shape"
   ]
  },
  {
   "cell_type": "code",
   "execution_count": null,
   "metadata": {
    "ExecuteTime": {
     "start_time": "2019-01-07T21:14:37.625Z"
    },
    "hidden": true
   },
   "outputs": [],
   "source": [
    "data_clf = (TextList.from_df(df=clf_df, path=PATH, cols=[\"text\"], vocab=data_lm.vocab)\n",
    "               .split_from_df(\"is_test\")\n",
    "               .label_from_df(cols=\"label\")\n",
    "               .databunch(bs=8))"
   ]
  },
  {
   "cell_type": "code",
   "execution_count": null,
   "metadata": {
    "ExecuteTime": {
     "start_time": "2019-01-07T21:14:37.631Z"
    },
    "hidden": true
   },
   "outputs": [],
   "source": [
    "clf_df.head()"
   ]
  },
  {
   "cell_type": "code",
   "execution_count": null,
   "metadata": {
    "ExecuteTime": {
     "start_time": "2019-01-07T21:14:37.636Z"
    },
    "hidden": true
   },
   "outputs": [],
   "source": [
    "data_clf.show_batch()"
   ]
  },
  {
   "cell_type": "markdown",
   "metadata": {
    "hidden": true
   },
   "source": [
    "###### Training"
   ]
  },
  {
   "cell_type": "code",
   "execution_count": null,
   "metadata": {
    "ExecuteTime": {
     "start_time": "2019-01-07T21:14:37.641Z"
    },
    "hidden": true
   },
   "outputs": [],
   "source": [
    "learn = text_classifier_learner(data_clf, bptt=BPTT, max_len=MAX_LEN, drop_mult=0.3)\n",
    "learn.load_encoder(\"lm_fine_tuned_enc\")\n",
    "learn.freeze()"
   ]
  },
  {
   "cell_type": "code",
   "execution_count": null,
   "metadata": {
    "ExecuteTime": {
     "start_time": "2019-01-07T21:14:37.647Z"
    },
    "hidden": true
   },
   "outputs": [],
   "source": [
    "learn.lr_find()\n",
    "learn.recorder.plot();"
   ]
  },
  {
   "cell_type": "code",
   "execution_count": null,
   "metadata": {
    "ExecuteTime": {
     "start_time": "2019-01-07T21:14:37.652Z"
    },
    "hidden": true
   },
   "outputs": [],
   "source": [
    "lr = 5e-3"
   ]
  },
  {
   "cell_type": "code",
   "execution_count": null,
   "metadata": {
    "ExecuteTime": {
     "start_time": "2019-01-07T21:14:37.657Z"
    },
    "hidden": true
   },
   "outputs": [],
   "source": [
    "learn.fit_one_cycle(1, lr, moms=(0.8, 0.7))"
   ]
  },
  {
   "cell_type": "code",
   "execution_count": null,
   "metadata": {
    "ExecuteTime": {
     "start_time": "2019-01-07T21:14:37.662Z"
    },
    "hidden": true
   },
   "outputs": [],
   "source": [
    "learn.save(\"clf_first_stage\")"
   ]
  },
  {
   "cell_type": "code",
   "execution_count": null,
   "metadata": {
    "ExecuteTime": {
     "start_time": "2019-01-07T21:14:37.668Z"
    },
    "hidden": true
   },
   "outputs": [],
   "source": [
    "learn.load(\"clf_first_stage\");"
   ]
  },
  {
   "cell_type": "code",
   "execution_count": null,
   "metadata": {
    "ExecuteTime": {
     "start_time": "2019-01-07T21:14:37.673Z"
    },
    "hidden": true
   },
   "outputs": [],
   "source": [
    "learn.freeze_to(-2)\n",
    "learn.fit_one_cycle(1, slice(lr/(2.6**4), lr), moms=(0.8, 0.7))"
   ]
  },
  {
   "cell_type": "code",
   "execution_count": null,
   "metadata": {
    "ExecuteTime": {
     "start_time": "2019-01-07T21:14:37.679Z"
    },
    "hidden": true
   },
   "outputs": [],
   "source": [
    "learn.save(\"clf_second_stage\")"
   ]
  },
  {
   "cell_type": "code",
   "execution_count": null,
   "metadata": {
    "ExecuteTime": {
     "start_time": "2019-01-07T21:14:37.685Z"
    },
    "hidden": true
   },
   "outputs": [],
   "source": [
    "learn.load(\"clf_second_stage\");"
   ]
  },
  {
   "cell_type": "code",
   "execution_count": null,
   "metadata": {
    "ExecuteTime": {
     "start_time": "2019-01-07T21:14:37.690Z"
    },
    "hidden": true
   },
   "outputs": [],
   "source": [
    "learn.freeze_to(-3)\n",
    "learn.fit_one_cycle(1, slice((lr/5)/(2.6**4), lr/5), moms=(0.8, 0.7))"
   ]
  },
  {
   "cell_type": "code",
   "execution_count": null,
   "metadata": {
    "ExecuteTime": {
     "start_time": "2019-01-07T21:14:37.697Z"
    },
    "hidden": true
   },
   "outputs": [],
   "source": [
    "learn.save(\"clf_third_stage\")"
   ]
  },
  {
   "cell_type": "code",
   "execution_count": null,
   "metadata": {
    "ExecuteTime": {
     "start_time": "2019-01-07T21:14:37.702Z"
    },
    "hidden": true
   },
   "outputs": [],
   "source": [
    "learn.load(\"clf_third_stage\");"
   ]
  },
  {
   "cell_type": "code",
   "execution_count": null,
   "metadata": {
    "ExecuteTime": {
     "start_time": "2019-01-07T21:14:37.708Z"
    },
    "hidden": true
   },
   "outputs": [],
   "source": [
    "learn.unfreeze()\n",
    "learn.fit_one_cycle(2, slice((lr/10)/(2.6**4), lr/10), moms=(0.8, 0.7))"
   ]
  },
  {
   "cell_type": "markdown",
   "metadata": {
    "hidden": true
   },
   "source": [
    "###### Evaluation"
   ]
  },
  {
   "cell_type": "code",
   "execution_count": null,
   "metadata": {
    "ExecuteTime": {
     "start_time": "2019-01-07T21:14:37.714Z"
    },
    "hidden": true
   },
   "outputs": [],
   "source": [
    "p1_test = clf_df.loc[clf_df.is_test == True, \"text\"].apply(lambda t: learn.predict(t)[2].numpy()[1])"
   ]
  },
  {
   "cell_type": "code",
   "execution_count": null,
   "metadata": {
    "ExecuteTime": {
     "start_time": "2019-01-07T21:14:37.720Z"
    },
    "hidden": true
   },
   "outputs": [],
   "source": [
    "p1_train = clf_df.loc[clf_df.is_test == False, \"text\"].apply(lambda t: learn.predict(t)[2].numpy()[1])"
   ]
  },
  {
   "cell_type": "code",
   "execution_count": null,
   "metadata": {
    "ExecuteTime": {
     "start_time": "2019-01-07T21:14:37.727Z"
    },
    "hidden": true
   },
   "outputs": [],
   "source": [
    "#This doesn't seem to produce results consistent with what we get when explicitly calling predict on each sample\n",
    "#I do need to finish this assignment before looking into this more closely\n",
    "#Thus, I will use the slower version above for now\n",
    "#p1_test = learn.get_preds()[0][:, 1].numpy()\n",
    "#p1_train = learn.get_preds(ds_type=DatasetType.Train)[0][:, 1].numpy()"
   ]
  },
  {
   "cell_type": "code",
   "execution_count": null,
   "metadata": {
    "ExecuteTime": {
     "start_time": "2019-01-07T21:14:37.734Z"
    },
    "hidden": true
   },
   "outputs": [],
   "source": [
    "if SPLIT_TEXTS:\n",
    "    print(\"TRAIN PERFORMANCE\")\n",
    "    evaluate_exploded(clf_df[clf_df.is_test == False], p1_train, y_train)\n",
    "    print()\n",
    "    print(\"TEST PERFORMANCE\")\n",
    "    evaluate_exploded(clf_df[clf_df.is_test == True], p1_test, y_test)\n",
    "else:\n",
    "    print(\"TRAIN PERFORMANCE\")\n",
    "    train_auc = metrics.roc_auc_score(clf_df.loc[clf_df.is_test == False, \"label\"], p1_train)\n",
    "    print(f\"AUC: {train_auc:.2f}\")\n",
    "    print()\n",
    "    print(\"TEST PERFORMANCE\")\n",
    "    test_auc = metrics.roc_auc_score(clf_df.loc[clf_df.is_test == True, \"label\"], p1_test)\n",
    "    print(f\"AUC: {test_auc:.2f}\")\n",
    "    results_lm_finetune = pd.DataFrame({\"method\": f\"lm fine tuning v{SEED}\", \"train auc\": train_auc, \"test auc\": test_auc},\n",
    "                         index=[0])"
   ]
  },
  {
   "cell_type": "code",
   "execution_count": null,
   "metadata": {
    "ExecuteTime": {
     "start_time": "2019-01-07T21:14:37.739Z"
    },
    "hidden": true
   },
   "outputs": [],
   "source": [
    "results_lm_finetune"
   ]
  },
  {
   "cell_type": "code",
   "execution_count": null,
   "metadata": {
    "ExecuteTime": {
     "start_time": "2019-01-07T21:14:37.744Z"
    },
    "hidden": true
   },
   "outputs": [],
   "source": [
    "save_pickle(results_lm_finetune, OUTPUT_PATH)"
   ]
  },
  {
   "cell_type": "markdown",
   "metadata": {
    "hidden": true
   },
   "source": [
    "Collect results and save for report"
   ]
  },
  {
   "cell_type": "code",
   "execution_count": null,
   "metadata": {
    "ExecuteTime": {
     "start_time": "2019-01-07T21:14:37.751Z"
    },
    "hidden": true
   },
   "outputs": [],
   "source": [
    "list_lm_finetune = read_results(OUTPUT_PATH, \"*lm*.pkl\")"
   ]
  },
  {
   "cell_type": "code",
   "execution_count": null,
   "metadata": {
    "ExecuteTime": {
     "start_time": "2019-01-07T21:14:37.757Z"
    },
    "hidden": true
   },
   "outputs": [],
   "source": [
    "full_results_lm_finetune = pd.concat(list_lm_finetune)"
   ]
  },
  {
   "cell_type": "code",
   "execution_count": null,
   "metadata": {
    "ExecuteTime": {
     "start_time": "2019-01-07T21:14:37.762Z"
    },
    "hidden": true
   },
   "outputs": [],
   "source": [
    "full_results_lm_finetune"
   ]
  },
  {
   "cell_type": "code",
   "execution_count": null,
   "metadata": {
    "ExecuteTime": {
     "start_time": "2019-01-07T21:14:37.768Z"
    },
    "hidden": true
   },
   "outputs": [],
   "source": [
    "save_html(df=full_results_lm_finetune.drop(\"base_method\", axis=1).sort_values([\"test auc\"], axis=0, ascending=False),\n",
    "          name=\"lm_finetune_results_all_appendix\",\n",
    "          out=OUTPUT_PATH,\n",
    "          index=False)"
   ]
  },
  {
   "cell_type": "markdown",
   "metadata": {
    "hidden": true
   },
   "source": [
    "Summarize results and save summary"
   ]
  },
  {
   "cell_type": "code",
   "execution_count": null,
   "metadata": {
    "ExecuteTime": {
     "start_time": "2019-01-07T21:14:37.775Z"
    },
    "hidden": true
   },
   "outputs": [],
   "source": [
    "res = full_results_lm_finetune.groupby(\"base_method\").agg({c : [\"mean\", \"std\"] for c in [\"train auc\", \"test auc\"]})"
   ]
  },
  {
   "cell_type": "code",
   "execution_count": null,
   "metadata": {
    "ExecuteTime": {
     "start_time": "2019-01-07T21:14:37.781Z"
    },
    "hidden": true
   },
   "outputs": [],
   "source": [
    "out = res.sort_values([(\"test auc\", \"mean\")], axis=0, ascending=False)\n",
    "out.index.name = None"
   ]
  },
  {
   "cell_type": "code",
   "execution_count": null,
   "metadata": {
    "ExecuteTime": {
     "start_time": "2019-01-07T21:14:37.788Z"
    },
    "hidden": true
   },
   "outputs": [],
   "source": [
    "index = pd.MultiIndex.from_product([[\"train auc\", \"test auc\"], [\"mean\", \"std\"]])\n",
    "out.columns = index"
   ]
  },
  {
   "cell_type": "code",
   "execution_count": null,
   "metadata": {
    "ExecuteTime": {
     "start_time": "2019-01-07T21:14:37.794Z"
    },
    "hidden": true
   },
   "outputs": [],
   "source": [
    "out"
   ]
  },
  {
   "cell_type": "code",
   "execution_count": null,
   "metadata": {
    "ExecuteTime": {
     "start_time": "2019-01-07T21:14:37.801Z"
    },
    "hidden": true
   },
   "outputs": [],
   "source": [
    "save_html(df=out,\n",
    "          name=\"lm_finetune_results_summary\",\n",
    "          out=OUTPUT_PATH,\n",
    "          index=True)"
   ]
  },
  {
   "cell_type": "markdown",
   "metadata": {},
   "source": [
    "#### Google's guide for text classification"
   ]
  },
  {
   "cell_type": "markdown",
   "metadata": {},
   "source": [
    "The below is based on the [this guide](https://developers.google.com/machine-learning/guides/text-classification/) was attempted after all of the above had been experimented with. Google's guide to building a text classifier suggests a simple heuristic to decide whether to use n-gram based approaches (e.g. those illustrated in 6.1 and 6.2) or sequence based approaches (e.g. using recurrent neural networks as showcased in chapters 6.3 and 6.4):\n",
    "\n",
    "`if number of samples/number of words per sample < 1500 tokenize as n-grams and use an MLP (or boosted tree, SVM) to classifiy`\n",
    "\n",
    "`if > 1500 tokenize as sequences and use a sequence model (CNN, RNN) to classify, potentially building on pretrained word embeddings`\n",
    "\n",
    "As in our case the articles are rather long and we have just a small number of samples, we will follow the first approach."
   ]
  },
  {
   "cell_type": "markdown",
   "metadata": {},
   "source": [
    "##### Tokenize texts as unigrams and bigrams with feature selection"
   ]
  },
  {
   "cell_type": "code",
   "execution_count": 142,
   "metadata": {
    "ExecuteTime": {
     "start_time": "2019-01-07T21:14:37.808Z"
    }
   },
   "outputs": [],
   "source": [
    "X_train_text_vec, X_test_text_vec = ngram_vectorize(X_train_text, y_train, X_test_text)"
   ]
  },
  {
   "cell_type": "markdown",
   "metadata": {},
   "source": [
    "##### Build and train an MLP model"
   ]
  },
  {
   "cell_type": "code",
   "execution_count": 143,
   "metadata": {
    "ExecuteTime": {
     "start_time": "2019-01-07T21:14:37.815Z"
    }
   },
   "outputs": [
    {
     "name": "stdout",
     "output_type": "stream",
     "text": [
      "Train on 91 samples, validate on 39 samples\n",
      "Epoch 1/1000\n",
      " - 1s - loss: 0.6908 - acc: 0.5495 - val_loss: 0.6841 - val_acc: 0.6410\n",
      "Epoch 2/1000\n",
      " - 0s - loss: 0.6684 - acc: 0.6703 - val_loss: 0.6740 - val_acc: 0.6410\n",
      "Epoch 3/1000\n",
      " - 0s - loss: 0.6422 - acc: 0.6813 - val_loss: 0.6641 - val_acc: 0.6410\n",
      "Epoch 4/1000\n",
      " - 0s - loss: 0.6134 - acc: 0.7912 - val_loss: 0.6555 - val_acc: 0.6410\n",
      "Epoch 5/1000\n",
      " - 0s - loss: 0.5760 - acc: 0.8132 - val_loss: 0.6452 - val_acc: 0.6410\n",
      "Epoch 6/1000\n",
      " - 0s - loss: 0.5367 - acc: 0.8681 - val_loss: 0.6367 - val_acc: 0.6410\n",
      "Epoch 7/1000\n",
      " - 0s - loss: 0.5031 - acc: 0.9560 - val_loss: 0.6296 - val_acc: 0.6410\n",
      "Epoch 8/1000\n",
      " - 0s - loss: 0.4609 - acc: 0.9890 - val_loss: 0.6219 - val_acc: 0.6667\n",
      "Epoch 9/1000\n",
      " - 0s - loss: 0.4253 - acc: 0.9890 - val_loss: 0.6146 - val_acc: 0.6923\n",
      "Epoch 10/1000\n",
      " - 0s - loss: 0.3923 - acc: 0.9890 - val_loss: 0.6074 - val_acc: 0.6923\n",
      "Epoch 11/1000\n",
      " - 0s - loss: 0.3572 - acc: 1.0000 - val_loss: 0.5986 - val_acc: 0.6923\n",
      "Epoch 12/1000\n",
      " - 0s - loss: 0.3331 - acc: 1.0000 - val_loss: 0.5923 - val_acc: 0.7179\n",
      "Epoch 13/1000\n",
      " - 0s - loss: 0.3085 - acc: 0.9890 - val_loss: 0.5863 - val_acc: 0.7179\n",
      "Epoch 14/1000\n",
      " - 0s - loss: 0.2822 - acc: 1.0000 - val_loss: 0.5790 - val_acc: 0.7179\n",
      "Epoch 15/1000\n",
      " - 0s - loss: 0.2556 - acc: 1.0000 - val_loss: 0.5726 - val_acc: 0.7179\n",
      "Epoch 16/1000\n",
      " - 0s - loss: 0.2416 - acc: 1.0000 - val_loss: 0.5678 - val_acc: 0.7179\n",
      "Epoch 17/1000\n",
      " - 0s - loss: 0.2048 - acc: 1.0000 - val_loss: 0.5628 - val_acc: 0.7179\n",
      "Epoch 18/1000\n",
      " - 0s - loss: 0.1942 - acc: 1.0000 - val_loss: 0.5574 - val_acc: 0.7179\n",
      "Epoch 19/1000\n",
      " - 0s - loss: 0.1812 - acc: 1.0000 - val_loss: 0.5519 - val_acc: 0.7179\n",
      "Epoch 20/1000\n",
      " - 0s - loss: 0.1661 - acc: 1.0000 - val_loss: 0.5488 - val_acc: 0.7179\n",
      "Epoch 21/1000\n",
      " - 0s - loss: 0.1448 - acc: 1.0000 - val_loss: 0.5453 - val_acc: 0.7179\n",
      "Epoch 22/1000\n",
      " - 0s - loss: 0.1461 - acc: 1.0000 - val_loss: 0.5409 - val_acc: 0.7179\n",
      "Epoch 23/1000\n",
      " - 0s - loss: 0.1373 - acc: 1.0000 - val_loss: 0.5367 - val_acc: 0.7179\n",
      "Epoch 24/1000\n",
      " - 0s - loss: 0.1202 - acc: 1.0000 - val_loss: 0.5329 - val_acc: 0.7179\n",
      "Epoch 25/1000\n",
      " - 0s - loss: 0.1125 - acc: 1.0000 - val_loss: 0.5296 - val_acc: 0.7179\n",
      "Epoch 26/1000\n",
      " - 0s - loss: 0.0973 - acc: 1.0000 - val_loss: 0.5279 - val_acc: 0.7179\n",
      "Epoch 27/1000\n",
      " - 0s - loss: 0.0971 - acc: 1.0000 - val_loss: 0.5259 - val_acc: 0.7179\n",
      "Epoch 28/1000\n",
      " - 0s - loss: 0.0921 - acc: 1.0000 - val_loss: 0.5227 - val_acc: 0.7179\n",
      "Epoch 29/1000\n",
      " - 0s - loss: 0.0795 - acc: 1.0000 - val_loss: 0.5176 - val_acc: 0.7179\n",
      "Epoch 30/1000\n",
      " - 0s - loss: 0.0808 - acc: 1.0000 - val_loss: 0.5163 - val_acc: 0.7179\n",
      "Epoch 31/1000\n",
      " - 0s - loss: 0.0722 - acc: 1.0000 - val_loss: 0.5134 - val_acc: 0.7179\n",
      "Epoch 32/1000\n",
      " - 0s - loss: 0.0714 - acc: 1.0000 - val_loss: 0.5117 - val_acc: 0.7179\n",
      "Epoch 33/1000\n",
      " - 0s - loss: 0.0618 - acc: 1.0000 - val_loss: 0.5118 - val_acc: 0.7179\n",
      "Epoch 34/1000\n",
      " - 0s - loss: 0.0673 - acc: 1.0000 - val_loss: 0.5095 - val_acc: 0.7179\n",
      "Epoch 35/1000\n",
      " - 0s - loss: 0.0577 - acc: 1.0000 - val_loss: 0.5064 - val_acc: 0.7179\n",
      "Epoch 36/1000\n",
      " - 0s - loss: 0.0523 - acc: 1.0000 - val_loss: 0.5055 - val_acc: 0.7179\n",
      "Epoch 37/1000\n",
      " - 0s - loss: 0.0504 - acc: 1.0000 - val_loss: 0.5037 - val_acc: 0.7179\n",
      "Epoch 38/1000\n",
      " - 0s - loss: 0.0474 - acc: 1.0000 - val_loss: 0.5027 - val_acc: 0.7179\n",
      "Epoch 39/1000\n",
      " - 0s - loss: 0.0449 - acc: 1.0000 - val_loss: 0.4996 - val_acc: 0.7179\n",
      "Epoch 40/1000\n",
      " - 0s - loss: 0.0511 - acc: 1.0000 - val_loss: 0.4964 - val_acc: 0.7179\n",
      "Epoch 41/1000\n",
      " - 0s - loss: 0.0418 - acc: 1.0000 - val_loss: 0.4949 - val_acc: 0.7179\n",
      "Epoch 42/1000\n",
      " - 0s - loss: 0.0425 - acc: 1.0000 - val_loss: 0.4944 - val_acc: 0.7179\n",
      "Epoch 43/1000\n",
      " - 0s - loss: 0.0412 - acc: 1.0000 - val_loss: 0.4930 - val_acc: 0.7179\n",
      "Epoch 44/1000\n",
      " - 0s - loss: 0.0421 - acc: 1.0000 - val_loss: 0.4938 - val_acc: 0.7179\n",
      "Epoch 45/1000\n",
      " - 0s - loss: 0.0307 - acc: 1.0000 - val_loss: 0.4934 - val_acc: 0.7179\n",
      "Epoch 46/1000\n",
      " - 0s - loss: 0.0294 - acc: 1.0000 - val_loss: 0.4937 - val_acc: 0.7179\n",
      "Validation accuracy: 0.7179487225336906, loss: 0.493709391508347\n"
     ]
    }
   ],
   "source": [
    "data_in = ((X_train_text, y_train), (X_test_text, y_test))\n",
    "model = tf_helpers.train_ngram_model(data_in,\n",
    "                          batch_size=8,\n",
    "                          dropout_rate=0.3,\n",
    "                          learning_rate=5e-4,\n",
    "                          units=32)"
   ]
  },
  {
   "cell_type": "code",
   "execution_count": 144,
   "metadata": {
    "ExecuteTime": {
     "start_time": "2019-01-07T21:14:37.822Z"
    }
   },
   "outputs": [
    {
     "data": {
      "text/plain": [
       "1.0"
      ]
     },
     "execution_count": 144,
     "metadata": {},
     "output_type": "execute_result"
    }
   ],
   "source": [
    "metrics.roc_auc_score(y_train, model.predict(X_train_text_vec))"
   ]
  },
  {
   "cell_type": "code",
   "execution_count": 145,
   "metadata": {
    "ExecuteTime": {
     "start_time": "2019-01-07T21:14:37.827Z"
    }
   },
   "outputs": [
    {
     "data": {
      "text/plain": [
       "0.8714285714285713"
      ]
     },
     "execution_count": 145,
     "metadata": {},
     "output_type": "execute_result"
    }
   ],
   "source": [
    "metrics.roc_auc_score(y_test, model.predict(X_test_text_vec))"
   ]
  },
  {
   "cell_type": "markdown",
   "metadata": {
    "heading_collapsed": true
   },
   "source": [
    "### Final evaluation"
   ]
  },
  {
   "cell_type": "markdown",
   "metadata": {
    "hidden": true
   },
   "source": [
    "#### Run for different random seeds"
   ]
  },
  {
   "cell_type": "markdown",
   "metadata": {
    "hidden": true
   },
   "source": [
    "Run best model for different seeds and save resulting auc, precision, and recall."
   ]
  },
  {
   "cell_type": "code",
   "execution_count": 151,
   "metadata": {
    "ExecuteTime": {
     "start_time": "2019-01-07T21:14:37.840Z"
    },
    "hidden": true
   },
   "outputs": [],
   "source": [
    "best_model = joblib.load(MODEL_PATH / \"countvec_full_svc_grid_best.pkl\").set_params(svc__random_state=SEED)"
   ]
  },
  {
   "cell_type": "code",
   "execution_count": 152,
   "metadata": {
    "ExecuteTime": {
     "start_time": "2019-01-07T21:14:37.845Z"
    },
    "hidden": true
   },
   "outputs": [
    {
     "data": {
      "text/plain": [
       "Pipeline(memory=None,\n",
       "     steps=[('vec', CountVectorizer(analyzer='word', binary=False, decode_error='strict',\n",
       "        dtype=<class 'numpy.int64'>, encoding='utf-8', input='content',\n",
       "        lowercase=True, max_df=0.982030025655062, max_features=4182,\n",
       "        min_df=0.1265458773647938, ngram_range=(1, 3), preprocessor=None,\n",
       "...rbf',\n",
       "  max_iter=-1, probability=True, random_state=1, shrinking=True, tol=0.001,\n",
       "  verbose=False))])"
      ]
     },
     "execution_count": 152,
     "metadata": {},
     "output_type": "execute_result"
    }
   ],
   "source": [
    "best_model.fit(X_train_text, y_train)"
   ]
  },
  {
   "cell_type": "code",
   "execution_count": 153,
   "metadata": {
    "ExecuteTime": {
     "start_time": "2019-01-07T21:14:37.851Z"
    },
    "hidden": true
   },
   "outputs": [
    {
     "name": "stderr",
     "output_type": "stream",
     "text": [
      "/home/steffen/anaconda3/envs/medium-classifier-base/lib/python3.6/site-packages/sklearn/metrics/classification.py:1143: UndefinedMetricWarning: F-score is ill-defined and being set to 0.0 due to no predicted samples.\n",
      "  'precision', 'predicted', average, warn_for)\n"
     ]
    }
   ],
   "source": [
    "res_best = get_best_scores(y_test, best_model.predict_proba(X_test_text)[:, 1], f\"final_model_svc_countvec_full_v{SEED}\")"
   ]
  },
  {
   "cell_type": "code",
   "execution_count": 154,
   "metadata": {
    "ExecuteTime": {
     "start_time": "2019-01-07T21:14:37.856Z"
    },
    "hidden": true
   },
   "outputs": [
    {
     "data": {
      "text/html": [
       "<div>\n",
       "<style scoped>\n",
       "    .dataframe tbody tr th:only-of-type {\n",
       "        vertical-align: middle;\n",
       "    }\n",
       "\n",
       "    .dataframe tbody tr th {\n",
       "        vertical-align: top;\n",
       "    }\n",
       "\n",
       "    .dataframe thead th {\n",
       "        text-align: right;\n",
       "    }\n",
       "</style>\n",
       "<table border=\"1\" class=\"dataframe\">\n",
       "  <thead>\n",
       "    <tr style=\"text-align: right;\">\n",
       "      <th></th>\n",
       "      <th>method</th>\n",
       "      <th>roc_auc</th>\n",
       "      <th>threshold</th>\n",
       "      <th>precision</th>\n",
       "      <th>recall</th>\n",
       "      <th>f_0.8</th>\n",
       "    </tr>\n",
       "  </thead>\n",
       "  <tbody>\n",
       "    <tr>\n",
       "      <th>0</th>\n",
       "      <td>final_model_svc_countvec_full_v1</td>\n",
       "      <td>0.72</td>\n",
       "      <td>0.365027</td>\n",
       "      <td>0.481481</td>\n",
       "      <td>0.928571</td>\n",
       "      <td>0.60984</td>\n",
       "    </tr>\n",
       "  </tbody>\n",
       "</table>\n",
       "</div>"
      ],
      "text/plain": [
       "                             method  roc_auc  threshold  precision    recall  \\\n",
       "0  final_model_svc_countvec_full_v1     0.72   0.365027   0.481481  0.928571   \n",
       "\n",
       "     f_0.8  \n",
       "0  0.60984  "
      ]
     },
     "execution_count": 154,
     "metadata": {},
     "output_type": "execute_result"
    }
   ],
   "source": [
    "res_best"
   ]
  },
  {
   "cell_type": "code",
   "execution_count": 155,
   "metadata": {
    "ExecuteTime": {
     "start_time": "2019-01-07T21:14:37.862Z"
    },
    "hidden": true
   },
   "outputs": [
    {
     "name": "stdout",
     "output_type": "stream",
     "text": [
      "Saved results to file at: /home/steffen/projects/medium-classifier/reports/images-and-tables/raw/final_model_svc_countvec_full/final_model_svc_countvec_full_v1.pkl\n"
     ]
    }
   ],
   "source": [
    "save_pickle(res_best, OUTPUT_PATH)"
   ]
  },
  {
   "cell_type": "markdown",
   "metadata": {
    "hidden": true
   },
   "source": [
    "Run best benchmark model as a point of comparison."
   ]
  },
  {
   "cell_type": "code",
   "execution_count": 157,
   "metadata": {
    "ExecuteTime": {
     "start_time": "2019-01-07T21:14:37.873Z"
    },
    "hidden": true
   },
   "outputs": [
    {
     "data": {
      "text/plain": [
       "LogisticRegression(C=1.0, class_weight=None, dual=False, fit_intercept=True,\n",
       "          intercept_scaling=1, max_iter=100, multi_class='warn',\n",
       "          n_jobs=None, penalty='l2', random_state=1, solver='liblinear',\n",
       "          tol=0.0001, verbose=0, warm_start=False)"
      ]
     },
     "execution_count": 157,
     "metadata": {},
     "output_type": "execute_result"
    }
   ],
   "source": [
    "lr = LogisticRegression(solver=\"liblinear\", random_state=SEED)\n",
    "lr.fit(X_train_num, y_train)"
   ]
  },
  {
   "cell_type": "code",
   "execution_count": 159,
   "metadata": {
    "ExecuteTime": {
     "start_time": "2019-01-07T21:14:37.879Z"
    },
    "hidden": true
   },
   "outputs": [],
   "source": [
    "res_base = get_best_scores(y_test, lr.predict_proba(X_test_num)[:, 1], f\"baseline_model_lr_v{SEED}\")"
   ]
  },
  {
   "cell_type": "code",
   "execution_count": 160,
   "metadata": {
    "ExecuteTime": {
     "start_time": "2019-01-07T21:14:37.884Z"
    },
    "hidden": true
   },
   "outputs": [
    {
     "data": {
      "text/html": [
       "<div>\n",
       "<style scoped>\n",
       "    .dataframe tbody tr th:only-of-type {\n",
       "        vertical-align: middle;\n",
       "    }\n",
       "\n",
       "    .dataframe tbody tr th {\n",
       "        vertical-align: top;\n",
       "    }\n",
       "\n",
       "    .dataframe thead th {\n",
       "        text-align: right;\n",
       "    }\n",
       "</style>\n",
       "<table border=\"1\" class=\"dataframe\">\n",
       "  <thead>\n",
       "    <tr style=\"text-align: right;\">\n",
       "      <th></th>\n",
       "      <th>method</th>\n",
       "      <th>roc_auc</th>\n",
       "      <th>threshold</th>\n",
       "      <th>precision</th>\n",
       "      <th>recall</th>\n",
       "      <th>f_0.8</th>\n",
       "    </tr>\n",
       "  </thead>\n",
       "  <tbody>\n",
       "    <tr>\n",
       "      <th>0</th>\n",
       "      <td>baseline_model_lr_v1</td>\n",
       "      <td>0.64</td>\n",
       "      <td>0.315321</td>\n",
       "      <td>0.5</td>\n",
       "      <td>0.857143</td>\n",
       "      <td>0.61577</td>\n",
       "    </tr>\n",
       "  </tbody>\n",
       "</table>\n",
       "</div>"
      ],
      "text/plain": [
       "                 method  roc_auc  threshold  precision    recall    f_0.8\n",
       "0  baseline_model_lr_v1     0.64   0.315321        0.5  0.857143  0.61577"
      ]
     },
     "execution_count": 160,
     "metadata": {},
     "output_type": "execute_result"
    }
   ],
   "source": [
    "res_base"
   ]
  },
  {
   "cell_type": "code",
   "execution_count": 161,
   "metadata": {
    "ExecuteTime": {
     "start_time": "2019-01-07T21:14:37.891Z"
    },
    "hidden": true
   },
   "outputs": [
    {
     "name": "stdout",
     "output_type": "stream",
     "text": [
      "Saved results to file at: /home/steffen/projects/medium-classifier/reports/images-and-tables/raw/baseline_model_lr/baseline_model_lr_v1.pkl\n"
     ]
    }
   ],
   "source": [
    "save_pickle(res_base, OUTPUT_PATH)"
   ]
  },
  {
   "cell_type": "markdown",
   "metadata": {
    "hidden": true
   },
   "source": [
    "#### Collect and summarize results"
   ]
  },
  {
   "cell_type": "code",
   "execution_count": 162,
   "metadata": {
    "ExecuteTime": {
     "start_time": "2019-01-07T21:14:37.895Z"
    },
    "hidden": true
   },
   "outputs": [],
   "source": [
    "list_best = read_results(OUTPUT_PATH / \"raw\", \"final_model*.pkl\")\n",
    "full_res_best = pd.concat(list_best)"
   ]
  },
  {
   "cell_type": "code",
   "execution_count": 163,
   "metadata": {
    "ExecuteTime": {
     "start_time": "2019-01-07T21:14:37.902Z"
    },
    "hidden": true
   },
   "outputs": [
    {
     "data": {
      "text/html": [
       "<div>\n",
       "<style scoped>\n",
       "    .dataframe tbody tr th:only-of-type {\n",
       "        vertical-align: middle;\n",
       "    }\n",
       "\n",
       "    .dataframe tbody tr th {\n",
       "        vertical-align: top;\n",
       "    }\n",
       "\n",
       "    .dataframe thead th {\n",
       "        text-align: right;\n",
       "    }\n",
       "</style>\n",
       "<table border=\"1\" class=\"dataframe\">\n",
       "  <thead>\n",
       "    <tr style=\"text-align: right;\">\n",
       "      <th></th>\n",
       "      <th>method</th>\n",
       "      <th>roc_auc</th>\n",
       "      <th>threshold</th>\n",
       "      <th>precision</th>\n",
       "      <th>recall</th>\n",
       "      <th>f_0.8</th>\n",
       "      <th>base_method</th>\n",
       "    </tr>\n",
       "  </thead>\n",
       "  <tbody>\n",
       "    <tr>\n",
       "      <th>0</th>\n",
       "      <td>final_model_svc_countvec_full_v1</td>\n",
       "      <td>0.720000</td>\n",
       "      <td>0.365027</td>\n",
       "      <td>0.481481</td>\n",
       "      <td>0.928571</td>\n",
       "      <td>0.609840</td>\n",
       "      <td>final_model_svc_countvec_full</td>\n",
       "    </tr>\n",
       "    <tr>\n",
       "      <th>0</th>\n",
       "      <td>final_model_svc_countvec_full_v2</td>\n",
       "      <td>0.765714</td>\n",
       "      <td>0.542546</td>\n",
       "      <td>0.727273</td>\n",
       "      <td>0.571429</td>\n",
       "      <td>0.691983</td>\n",
       "      <td>final_model_svc_countvec_full</td>\n",
       "    </tr>\n",
       "    <tr>\n",
       "      <th>0</th>\n",
       "      <td>final_model_svc_countvec_full_v3</td>\n",
       "      <td>0.885714</td>\n",
       "      <td>0.579919</td>\n",
       "      <td>0.714286</td>\n",
       "      <td>0.714286</td>\n",
       "      <td>0.746812</td>\n",
       "      <td>final_model_svc_countvec_full</td>\n",
       "    </tr>\n",
       "    <tr>\n",
       "      <th>0</th>\n",
       "      <td>final_model_svc_countvec_full_v4</td>\n",
       "      <td>0.805714</td>\n",
       "      <td>0.403528</td>\n",
       "      <td>0.590909</td>\n",
       "      <td>0.928571</td>\n",
       "      <td>0.711615</td>\n",
       "      <td>final_model_svc_countvec_full</td>\n",
       "    </tr>\n",
       "    <tr>\n",
       "      <th>0</th>\n",
       "      <td>final_model_svc_countvec_full_v5</td>\n",
       "      <td>0.811429</td>\n",
       "      <td>0.548128</td>\n",
       "      <td>0.750000</td>\n",
       "      <td>0.642857</td>\n",
       "      <td>0.739479</td>\n",
       "      <td>final_model_svc_countvec_full</td>\n",
       "    </tr>\n",
       "  </tbody>\n",
       "</table>\n",
       "</div>"
      ],
      "text/plain": [
       "                             method   roc_auc  threshold  precision    recall  \\\n",
       "0  final_model_svc_countvec_full_v1  0.720000   0.365027   0.481481  0.928571   \n",
       "0  final_model_svc_countvec_full_v2  0.765714   0.542546   0.727273  0.571429   \n",
       "0  final_model_svc_countvec_full_v3  0.885714   0.579919   0.714286  0.714286   \n",
       "0  final_model_svc_countvec_full_v4  0.805714   0.403528   0.590909  0.928571   \n",
       "0  final_model_svc_countvec_full_v5  0.811429   0.548128   0.750000  0.642857   \n",
       "\n",
       "      f_0.8                    base_method  \n",
       "0  0.609840  final_model_svc_countvec_full  \n",
       "0  0.691983  final_model_svc_countvec_full  \n",
       "0  0.746812  final_model_svc_countvec_full  \n",
       "0  0.711615  final_model_svc_countvec_full  \n",
       "0  0.739479  final_model_svc_countvec_full  "
      ]
     },
     "execution_count": 163,
     "metadata": {},
     "output_type": "execute_result"
    }
   ],
   "source": [
    "full_res_best"
   ]
  },
  {
   "cell_type": "code",
   "execution_count": 164,
   "metadata": {
    "ExecuteTime": {
     "start_time": "2019-01-07T21:14:37.909Z"
    },
    "hidden": true
   },
   "outputs": [],
   "source": [
    "list_base = read_results(OUTPUT_PATH / \"raw\", \"baseline_model*.pkl\")\n",
    "full_res_base = pd.concat(list_base)"
   ]
  },
  {
   "cell_type": "code",
   "execution_count": 165,
   "metadata": {
    "ExecuteTime": {
     "start_time": "2019-01-07T21:14:37.917Z"
    },
    "hidden": true
   },
   "outputs": [
    {
     "data": {
      "text/html": [
       "<div>\n",
       "<style scoped>\n",
       "    .dataframe tbody tr th:only-of-type {\n",
       "        vertical-align: middle;\n",
       "    }\n",
       "\n",
       "    .dataframe tbody tr th {\n",
       "        vertical-align: top;\n",
       "    }\n",
       "\n",
       "    .dataframe thead th {\n",
       "        text-align: right;\n",
       "    }\n",
       "</style>\n",
       "<table border=\"1\" class=\"dataframe\">\n",
       "  <thead>\n",
       "    <tr style=\"text-align: right;\">\n",
       "      <th></th>\n",
       "      <th>method</th>\n",
       "      <th>roc_auc</th>\n",
       "      <th>threshold</th>\n",
       "      <th>precision</th>\n",
       "      <th>recall</th>\n",
       "      <th>f_0.8</th>\n",
       "      <th>base_method</th>\n",
       "    </tr>\n",
       "  </thead>\n",
       "  <tbody>\n",
       "    <tr>\n",
       "      <th>0</th>\n",
       "      <td>baseline_model_lr_v1</td>\n",
       "      <td>0.640000</td>\n",
       "      <td>0.315321</td>\n",
       "      <td>0.500000</td>\n",
       "      <td>0.857143</td>\n",
       "      <td>0.615770</td>\n",
       "      <td>baseline_model_lr</td>\n",
       "    </tr>\n",
       "    <tr>\n",
       "      <th>0</th>\n",
       "      <td>baseline_model_lr_v2</td>\n",
       "      <td>0.685714</td>\n",
       "      <td>0.285543</td>\n",
       "      <td>0.461538</td>\n",
       "      <td>0.857143</td>\n",
       "      <td>0.579505</td>\n",
       "      <td>baseline_model_lr</td>\n",
       "    </tr>\n",
       "    <tr>\n",
       "      <th>0</th>\n",
       "      <td>baseline_model_lr_v3</td>\n",
       "      <td>0.808571</td>\n",
       "      <td>0.394291</td>\n",
       "      <td>0.642857</td>\n",
       "      <td>0.642857</td>\n",
       "      <td>0.672131</td>\n",
       "      <td>baseline_model_lr</td>\n",
       "    </tr>\n",
       "    <tr>\n",
       "      <th>0</th>\n",
       "      <td>baseline_model_lr_v4</td>\n",
       "      <td>0.734286</td>\n",
       "      <td>0.379447</td>\n",
       "      <td>0.600000</td>\n",
       "      <td>0.642857</td>\n",
       "      <td>0.642857</td>\n",
       "      <td>baseline_model_lr</td>\n",
       "    </tr>\n",
       "    <tr>\n",
       "      <th>0</th>\n",
       "      <td>baseline_model_lr_v5</td>\n",
       "      <td>0.688571</td>\n",
       "      <td>0.277611</td>\n",
       "      <td>0.464286</td>\n",
       "      <td>0.928571</td>\n",
       "      <td>0.592881</td>\n",
       "      <td>baseline_model_lr</td>\n",
       "    </tr>\n",
       "  </tbody>\n",
       "</table>\n",
       "</div>"
      ],
      "text/plain": [
       "                 method   roc_auc  threshold  precision    recall     f_0.8  \\\n",
       "0  baseline_model_lr_v1  0.640000   0.315321   0.500000  0.857143  0.615770   \n",
       "0  baseline_model_lr_v2  0.685714   0.285543   0.461538  0.857143  0.579505   \n",
       "0  baseline_model_lr_v3  0.808571   0.394291   0.642857  0.642857  0.672131   \n",
       "0  baseline_model_lr_v4  0.734286   0.379447   0.600000  0.642857  0.642857   \n",
       "0  baseline_model_lr_v5  0.688571   0.277611   0.464286  0.928571  0.592881   \n",
       "\n",
       "         base_method  \n",
       "0  baseline_model_lr  \n",
       "0  baseline_model_lr  \n",
       "0  baseline_model_lr  \n",
       "0  baseline_model_lr  \n",
       "0  baseline_model_lr  "
      ]
     },
     "execution_count": 165,
     "metadata": {},
     "output_type": "execute_result"
    }
   ],
   "source": [
    "full_res_base"
   ]
  },
  {
   "cell_type": "code",
   "execution_count": 166,
   "metadata": {
    "ExecuteTime": {
     "start_time": "2019-01-07T21:14:37.925Z"
    },
    "hidden": true
   },
   "outputs": [],
   "source": [
    "res = pd.concat([full_res_base, full_res_best])"
   ]
  },
  {
   "cell_type": "code",
   "execution_count": 167,
   "metadata": {
    "ExecuteTime": {
     "start_time": "2019-01-07T21:14:37.932Z"
    },
    "hidden": true
   },
   "outputs": [
    {
     "data": {
      "text/html": [
       "<div>\n",
       "<style scoped>\n",
       "    .dataframe tbody tr th:only-of-type {\n",
       "        vertical-align: middle;\n",
       "    }\n",
       "\n",
       "    .dataframe tbody tr th {\n",
       "        vertical-align: top;\n",
       "    }\n",
       "\n",
       "    .dataframe thead th {\n",
       "        text-align: right;\n",
       "    }\n",
       "</style>\n",
       "<table border=\"1\" class=\"dataframe\">\n",
       "  <thead>\n",
       "    <tr style=\"text-align: right;\">\n",
       "      <th></th>\n",
       "      <th>method</th>\n",
       "      <th>roc_auc</th>\n",
       "      <th>threshold</th>\n",
       "      <th>precision</th>\n",
       "      <th>recall</th>\n",
       "      <th>f_0.8</th>\n",
       "    </tr>\n",
       "  </thead>\n",
       "  <tbody>\n",
       "    <tr>\n",
       "      <th>0</th>\n",
       "      <td>final_model_svc_countvec_full_v3</td>\n",
       "      <td>0.885714</td>\n",
       "      <td>0.579919</td>\n",
       "      <td>0.714286</td>\n",
       "      <td>0.714286</td>\n",
       "      <td>0.746812</td>\n",
       "    </tr>\n",
       "    <tr>\n",
       "      <th>0</th>\n",
       "      <td>final_model_svc_countvec_full_v5</td>\n",
       "      <td>0.811429</td>\n",
       "      <td>0.548128</td>\n",
       "      <td>0.750000</td>\n",
       "      <td>0.642857</td>\n",
       "      <td>0.739479</td>\n",
       "    </tr>\n",
       "    <tr>\n",
       "      <th>0</th>\n",
       "      <td>final_model_svc_countvec_full_v4</td>\n",
       "      <td>0.805714</td>\n",
       "      <td>0.403528</td>\n",
       "      <td>0.590909</td>\n",
       "      <td>0.928571</td>\n",
       "      <td>0.711615</td>\n",
       "    </tr>\n",
       "    <tr>\n",
       "      <th>0</th>\n",
       "      <td>final_model_svc_countvec_full_v2</td>\n",
       "      <td>0.765714</td>\n",
       "      <td>0.542546</td>\n",
       "      <td>0.727273</td>\n",
       "      <td>0.571429</td>\n",
       "      <td>0.691983</td>\n",
       "    </tr>\n",
       "    <tr>\n",
       "      <th>0</th>\n",
       "      <td>baseline_model_lr_v3</td>\n",
       "      <td>0.808571</td>\n",
       "      <td>0.394291</td>\n",
       "      <td>0.642857</td>\n",
       "      <td>0.642857</td>\n",
       "      <td>0.672131</td>\n",
       "    </tr>\n",
       "    <tr>\n",
       "      <th>0</th>\n",
       "      <td>baseline_model_lr_v4</td>\n",
       "      <td>0.734286</td>\n",
       "      <td>0.379447</td>\n",
       "      <td>0.600000</td>\n",
       "      <td>0.642857</td>\n",
       "      <td>0.642857</td>\n",
       "    </tr>\n",
       "    <tr>\n",
       "      <th>0</th>\n",
       "      <td>baseline_model_lr_v1</td>\n",
       "      <td>0.640000</td>\n",
       "      <td>0.315321</td>\n",
       "      <td>0.500000</td>\n",
       "      <td>0.857143</td>\n",
       "      <td>0.615770</td>\n",
       "    </tr>\n",
       "    <tr>\n",
       "      <th>0</th>\n",
       "      <td>final_model_svc_countvec_full_v1</td>\n",
       "      <td>0.720000</td>\n",
       "      <td>0.365027</td>\n",
       "      <td>0.481481</td>\n",
       "      <td>0.928571</td>\n",
       "      <td>0.609840</td>\n",
       "    </tr>\n",
       "    <tr>\n",
       "      <th>0</th>\n",
       "      <td>baseline_model_lr_v5</td>\n",
       "      <td>0.688571</td>\n",
       "      <td>0.277611</td>\n",
       "      <td>0.464286</td>\n",
       "      <td>0.928571</td>\n",
       "      <td>0.592881</td>\n",
       "    </tr>\n",
       "    <tr>\n",
       "      <th>0</th>\n",
       "      <td>baseline_model_lr_v2</td>\n",
       "      <td>0.685714</td>\n",
       "      <td>0.285543</td>\n",
       "      <td>0.461538</td>\n",
       "      <td>0.857143</td>\n",
       "      <td>0.579505</td>\n",
       "    </tr>\n",
       "  </tbody>\n",
       "</table>\n",
       "</div>"
      ],
      "text/plain": [
       "                             method   roc_auc  threshold  precision    recall  \\\n",
       "0  final_model_svc_countvec_full_v3  0.885714   0.579919   0.714286  0.714286   \n",
       "0  final_model_svc_countvec_full_v5  0.811429   0.548128   0.750000  0.642857   \n",
       "0  final_model_svc_countvec_full_v4  0.805714   0.403528   0.590909  0.928571   \n",
       "0  final_model_svc_countvec_full_v2  0.765714   0.542546   0.727273  0.571429   \n",
       "0              baseline_model_lr_v3  0.808571   0.394291   0.642857  0.642857   \n",
       "0              baseline_model_lr_v4  0.734286   0.379447   0.600000  0.642857   \n",
       "0              baseline_model_lr_v1  0.640000   0.315321   0.500000  0.857143   \n",
       "0  final_model_svc_countvec_full_v1  0.720000   0.365027   0.481481  0.928571   \n",
       "0              baseline_model_lr_v5  0.688571   0.277611   0.464286  0.928571   \n",
       "0              baseline_model_lr_v2  0.685714   0.285543   0.461538  0.857143   \n",
       "\n",
       "      f_0.8  \n",
       "0  0.746812  \n",
       "0  0.739479  \n",
       "0  0.711615  \n",
       "0  0.691983  \n",
       "0  0.672131  \n",
       "0  0.642857  \n",
       "0  0.615770  \n",
       "0  0.609840  \n",
       "0  0.592881  \n",
       "0  0.579505  "
      ]
     },
     "execution_count": 167,
     "metadata": {},
     "output_type": "execute_result"
    }
   ],
   "source": [
    "res.drop(\"base_method\", axis=1).sort_values(\"f_0.8\", ascending=False)"
   ]
  },
  {
   "cell_type": "markdown",
   "metadata": {
    "hidden": true
   },
   "source": [
    "Save raw results"
   ]
  },
  {
   "cell_type": "code",
   "execution_count": 168,
   "metadata": {
    "ExecuteTime": {
     "start_time": "2019-01-07T21:14:37.939Z"
    },
    "hidden": true
   },
   "outputs": [],
   "source": [
    "save_html(res.drop(\"base_method\", axis=1).sort_values(\"f_0.8\", ascending=False), \"final_evaluation_raw_appendix\", OUTPUT_PATH)"
   ]
  },
  {
   "cell_type": "markdown",
   "metadata": {
    "hidden": true
   },
   "source": [
    "Aggregate results and save to file"
   ]
  },
  {
   "cell_type": "code",
   "execution_count": 169,
   "metadata": {
    "ExecuteTime": {
     "start_time": "2019-01-07T21:14:37.948Z"
    },
    "hidden": true
   },
   "outputs": [],
   "source": [
    "summary = (res\n",
    "          .groupby(\"base_method\")\n",
    "          .agg({c : [\"mean\", \"std\"] for c in [\"roc_auc\", \"precision\", \"recall\", \"f_0.8\"]}))"
   ]
  },
  {
   "cell_type": "code",
   "execution_count": 170,
   "metadata": {
    "ExecuteTime": {
     "start_time": "2019-01-07T21:14:37.955Z"
    },
    "hidden": true
   },
   "outputs": [
    {
     "data": {
      "text/html": [
       "<div>\n",
       "<style scoped>\n",
       "    .dataframe tbody tr th:only-of-type {\n",
       "        vertical-align: middle;\n",
       "    }\n",
       "\n",
       "    .dataframe tbody tr th {\n",
       "        vertical-align: top;\n",
       "    }\n",
       "\n",
       "    .dataframe thead tr th {\n",
       "        text-align: left;\n",
       "    }\n",
       "\n",
       "    .dataframe thead tr:last-of-type th {\n",
       "        text-align: right;\n",
       "    }\n",
       "</style>\n",
       "<table border=\"1\" class=\"dataframe\">\n",
       "  <thead>\n",
       "    <tr>\n",
       "      <th></th>\n",
       "      <th colspan=\"2\" halign=\"left\">roc_auc</th>\n",
       "      <th colspan=\"2\" halign=\"left\">precision</th>\n",
       "      <th colspan=\"2\" halign=\"left\">recall</th>\n",
       "      <th colspan=\"2\" halign=\"left\">f_0.8</th>\n",
       "    </tr>\n",
       "    <tr>\n",
       "      <th></th>\n",
       "      <th>mean</th>\n",
       "      <th>std</th>\n",
       "      <th>mean</th>\n",
       "      <th>std</th>\n",
       "      <th>mean</th>\n",
       "      <th>std</th>\n",
       "      <th>mean</th>\n",
       "      <th>std</th>\n",
       "    </tr>\n",
       "    <tr>\n",
       "      <th>base_method</th>\n",
       "      <th></th>\n",
       "      <th></th>\n",
       "      <th></th>\n",
       "      <th></th>\n",
       "      <th></th>\n",
       "      <th></th>\n",
       "      <th></th>\n",
       "      <th></th>\n",
       "    </tr>\n",
       "  </thead>\n",
       "  <tbody>\n",
       "    <tr>\n",
       "      <th>baseline_model_lr</th>\n",
       "      <td>0.711429</td>\n",
       "      <td>0.063728</td>\n",
       "      <td>0.533736</td>\n",
       "      <td>0.082874</td>\n",
       "      <td>0.785714</td>\n",
       "      <td>0.133631</td>\n",
       "      <td>0.620629</td>\n",
       "      <td>0.037521</td>\n",
       "    </tr>\n",
       "    <tr>\n",
       "      <th>final_model_svc_countvec_full</th>\n",
       "      <td>0.797714</td>\n",
       "      <td>0.061359</td>\n",
       "      <td>0.652790</td>\n",
       "      <td>0.113968</td>\n",
       "      <td>0.757143</td>\n",
       "      <td>0.164441</td>\n",
       "      <td>0.699946</td>\n",
       "      <td>0.054950</td>\n",
       "    </tr>\n",
       "  </tbody>\n",
       "</table>\n",
       "</div>"
      ],
      "text/plain": [
       "                                roc_auc           precision            \\\n",
       "                                   mean       std      mean       std   \n",
       "base_method                                                             \n",
       "baseline_model_lr              0.711429  0.063728  0.533736  0.082874   \n",
       "final_model_svc_countvec_full  0.797714  0.061359  0.652790  0.113968   \n",
       "\n",
       "                                 recall               f_0.8            \n",
       "                                   mean       std      mean       std  \n",
       "base_method                                                            \n",
       "baseline_model_lr              0.785714  0.133631  0.620629  0.037521  \n",
       "final_model_svc_countvec_full  0.757143  0.164441  0.699946  0.054950  "
      ]
     },
     "execution_count": 170,
     "metadata": {},
     "output_type": "execute_result"
    }
   ],
   "source": [
    "summary"
   ]
  },
  {
   "cell_type": "code",
   "execution_count": 171,
   "metadata": {
    "ExecuteTime": {
     "start_time": "2019-01-07T21:14:37.964Z"
    },
    "hidden": true
   },
   "outputs": [],
   "source": [
    "summary.index.name = None\n",
    "index = pd.MultiIndex.from_product([[\"roc auc\", \"precision\", \"recall\", \"f_0.8\"], [\"mean\", \"std\"]])\n",
    "summary.columns = index"
   ]
  },
  {
   "cell_type": "code",
   "execution_count": 172,
   "metadata": {
    "ExecuteTime": {
     "start_time": "2019-01-07T21:14:37.970Z"
    },
    "hidden": true
   },
   "outputs": [
    {
     "data": {
      "text/html": [
       "<div>\n",
       "<style scoped>\n",
       "    .dataframe tbody tr th:only-of-type {\n",
       "        vertical-align: middle;\n",
       "    }\n",
       "\n",
       "    .dataframe tbody tr th {\n",
       "        vertical-align: top;\n",
       "    }\n",
       "\n",
       "    .dataframe thead th {\n",
       "        text-align: right;\n",
       "    }\n",
       "</style>\n",
       "<table border=\"1\" class=\"dataframe\">\n",
       "  <thead>\n",
       "    <tr style=\"text-align: right;\">\n",
       "      <th></th>\n",
       "      <th></th>\n",
       "      <th>baseline_model_lr</th>\n",
       "      <th>final_model_svc_countvec_full</th>\n",
       "    </tr>\n",
       "  </thead>\n",
       "  <tbody>\n",
       "    <tr>\n",
       "      <th rowspan=\"2\" valign=\"top\">roc auc</th>\n",
       "      <th>mean</th>\n",
       "      <td>0.711429</td>\n",
       "      <td>0.797714</td>\n",
       "    </tr>\n",
       "    <tr>\n",
       "      <th>std</th>\n",
       "      <td>0.063728</td>\n",
       "      <td>0.061359</td>\n",
       "    </tr>\n",
       "    <tr>\n",
       "      <th rowspan=\"2\" valign=\"top\">precision</th>\n",
       "      <th>mean</th>\n",
       "      <td>0.533736</td>\n",
       "      <td>0.652790</td>\n",
       "    </tr>\n",
       "    <tr>\n",
       "      <th>std</th>\n",
       "      <td>0.082874</td>\n",
       "      <td>0.113968</td>\n",
       "    </tr>\n",
       "    <tr>\n",
       "      <th rowspan=\"2\" valign=\"top\">recall</th>\n",
       "      <th>mean</th>\n",
       "      <td>0.785714</td>\n",
       "      <td>0.757143</td>\n",
       "    </tr>\n",
       "    <tr>\n",
       "      <th>std</th>\n",
       "      <td>0.133631</td>\n",
       "      <td>0.164441</td>\n",
       "    </tr>\n",
       "    <tr>\n",
       "      <th rowspan=\"2\" valign=\"top\">f_0.8</th>\n",
       "      <th>mean</th>\n",
       "      <td>0.620629</td>\n",
       "      <td>0.699946</td>\n",
       "    </tr>\n",
       "    <tr>\n",
       "      <th>std</th>\n",
       "      <td>0.037521</td>\n",
       "      <td>0.054950</td>\n",
       "    </tr>\n",
       "  </tbody>\n",
       "</table>\n",
       "</div>"
      ],
      "text/plain": [
       "                baseline_model_lr  final_model_svc_countvec_full\n",
       "roc auc   mean           0.711429                       0.797714\n",
       "          std            0.063728                       0.061359\n",
       "precision mean           0.533736                       0.652790\n",
       "          std            0.082874                       0.113968\n",
       "recall    mean           0.785714                       0.757143\n",
       "          std            0.133631                       0.164441\n",
       "f_0.8     mean           0.620629                       0.699946\n",
       "          std            0.037521                       0.054950"
      ]
     },
     "execution_count": 172,
     "metadata": {},
     "output_type": "execute_result"
    }
   ],
   "source": [
    "summary.T"
   ]
  },
  {
   "cell_type": "code",
   "execution_count": 173,
   "metadata": {
    "ExecuteTime": {
     "start_time": "2019-01-07T21:14:37.977Z"
    },
    "hidden": true
   },
   "outputs": [],
   "source": [
    "save_html(summary.T, \"final_evaluation_summary\", OUTPUT_PATH)"
   ]
  }
 ],
 "metadata": {
  "kernelspec": {
   "display_name": "Python 3",
   "language": "python",
   "name": "python3"
  },
  "language_info": {
   "codemirror_mode": {
    "name": "ipython",
    "version": 3
   },
   "file_extension": ".py",
   "mimetype": "text/x-python",
   "name": "python",
   "nbconvert_exporter": "python",
   "pygments_lexer": "ipython3",
   "version": "3.6.8"
  },
  "toc": {
   "base_numbering": 1,
   "nav_menu": {},
   "number_sections": true,
   "sideBar": true,
   "skip_h1_title": false,
   "title_cell": "Table of Contents",
   "title_sidebar": "Contents",
   "toc_cell": false,
   "toc_position": {},
   "toc_section_display": true,
   "toc_window_display": false
  }
 },
 "nbformat": 4,
 "nbformat_minor": 2
}
